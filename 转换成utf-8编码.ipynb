{
 "cells": [
  {
   "cell_type": "markdown",
   "metadata": {},
   "source": [
    "# 一般转换编码"
   ]
  },
  {
   "cell_type": "code",
   "execution_count": null,
   "metadata": {
    "collapsed": true
   },
   "outputs": [],
   "source": [
    "with open('gcd.txt',encoding = 'gb18030',) as file:\n",
    "    data = file.read()\n",
    "data[:1000]\n",
    "writer = open('gcdfile.txt', 'w', encoding='utf-8')\n",
    "writer.write(data)"
   ]
  },
  {
   "cell_type": "markdown",
   "metadata": {},
   "source": [
    "# 批量转换编码"
   ]
  },
  {
   "cell_type": "code",
   "execution_count": 1,
   "metadata": {
    "collapsed": false
   },
   "outputs": [
    {
     "data": {
      "text/plain": [
       "'nt'"
      ]
     },
     "execution_count": 1,
     "metadata": {},
     "output_type": "execute_result"
    }
   ],
   "source": [
    "import os\n",
    "os.name"
   ]
  },
  {
   "cell_type": "code",
   "execution_count": 4,
   "metadata": {
    "collapsed": false
   },
   "outputs": [],
   "source": [
    "#将文件夹内文件批量从gbk编码转换为utf-8编码\n",
    "import os\n",
    "import codecs\n",
    "\n",
    "filepath ='C:/Users/Kismet/Documents/我的坚果云/文学ip_2017/11处特工皇妃'\n",
    "for filename in os.listdir(filepath):\n",
    "#    print (filename)\n",
    "    if filename.startswith('.'):\n",
    "        continue\n",
    "    else:\n",
    "        with codecs.open(os.path.join(filepath,filename),'r',encoding='gbk', errors='ignore') as file:\n",
    "            data = file.read()\n",
    "        with codecs.open(os.path.join(filepath,filename),'w',encoding='utf-8', errors='ignore') as file:\n",
    "            file.write(data)"
   ]
  },
  {
   "cell_type": "markdown",
   "metadata": {},
   "source": [
    "# 批量显示文件夹内部编码情况"
   ]
  },
  {
   "cell_type": "code",
   "execution_count": 5,
   "metadata": {
    "collapsed": false
   },
   "outputs": [
    {
     "name": "stdout",
     "output_type": "stream",
     "text": [
      "1.txt {'encoding': 'utf-8', 'confidence': 0.99}\n",
      "10.txt {'encoding': 'utf-8', 'confidence': 0.99}\n",
      "100.txt {'encoding': 'utf-8', 'confidence': 0.99}\n",
      "101.txt {'encoding': 'utf-8', 'confidence': 0.99}\n",
      "102.txt {'encoding': 'utf-8', 'confidence': 0.99}\n",
      "103.txt {'encoding': 'utf-8', 'confidence': 0.99}\n",
      "104.txt {'encoding': 'utf-8', 'confidence': 0.99}\n",
      "105.txt {'encoding': 'utf-8', 'confidence': 0.99}\n",
      "106.txt {'encoding': 'utf-8', 'confidence': 0.99}\n",
      "107.txt {'encoding': 'utf-8', 'confidence': 0.99}\n",
      "108.txt {'encoding': 'utf-8', 'confidence': 0.99}\n",
      "109.txt {'encoding': 'utf-8', 'confidence': 0.99}\n",
      "11.txt {'encoding': 'utf-8', 'confidence': 0.99}\n",
      "110.txt {'encoding': 'utf-8', 'confidence': 0.99}\n",
      "111.txt {'encoding': 'utf-8', 'confidence': 0.99}\n",
      "112.txt {'encoding': 'utf-8', 'confidence': 0.99}\n",
      "113.txt {'encoding': 'utf-8', 'confidence': 0.99}\n",
      "114.txt {'encoding': 'utf-8', 'confidence': 0.99}\n",
      "115.txt {'encoding': 'utf-8', 'confidence': 0.99}\n",
      "116.txt {'encoding': 'utf-8', 'confidence': 0.99}\n",
      "117.txt {'encoding': 'utf-8', 'confidence': 0.99}\n",
      "118.txt {'encoding': 'utf-8', 'confidence': 0.99}\n",
      "119.txt {'encoding': 'utf-8', 'confidence': 0.99}\n",
      "12.txt {'encoding': 'utf-8', 'confidence': 0.99}\n",
      "120.txt {'encoding': 'utf-8', 'confidence': 0.99}\n",
      "121.txt {'encoding': 'utf-8', 'confidence': 0.99}\n",
      "122.txt {'encoding': 'utf-8', 'confidence': 0.99}\n",
      "123.txt {'encoding': 'utf-8', 'confidence': 0.99}\n",
      "124.txt {'encoding': 'utf-8', 'confidence': 0.99}\n",
      "125.txt {'encoding': 'utf-8', 'confidence': 0.99}\n",
      "126.txt {'encoding': 'utf-8', 'confidence': 0.99}\n",
      "127.txt {'encoding': 'utf-8', 'confidence': 0.99}\n",
      "128.txt {'encoding': 'utf-8', 'confidence': 0.99}\n",
      "129.txt {'encoding': 'utf-8', 'confidence': 0.99}\n",
      "13.txt {'encoding': 'utf-8', 'confidence': 0.99}\n",
      "130.txt {'encoding': 'utf-8', 'confidence': 0.99}\n",
      "131.txt {'encoding': 'utf-8', 'confidence': 0.99}\n",
      "132.txt {'encoding': 'utf-8', 'confidence': 0.99}\n",
      "133.txt {'encoding': 'utf-8', 'confidence': 0.99}\n",
      "134.txt {'encoding': 'utf-8', 'confidence': 0.99}\n",
      "135.txt {'encoding': 'utf-8', 'confidence': 0.99}\n",
      "136.txt {'encoding': 'utf-8', 'confidence': 0.99}\n",
      "137.txt {'encoding': 'utf-8', 'confidence': 0.99}\n",
      "138.txt {'encoding': 'utf-8', 'confidence': 0.99}\n",
      "139.txt {'encoding': 'utf-8', 'confidence': 0.99}\n",
      "14.txt {'encoding': 'utf-8', 'confidence': 0.99}\n",
      "140.txt {'encoding': 'utf-8', 'confidence': 0.99}\n",
      "141.txt {'encoding': 'utf-8', 'confidence': 0.99}\n",
      "142.txt {'encoding': 'utf-8', 'confidence': 0.99}\n",
      "143.txt {'encoding': 'utf-8', 'confidence': 0.99}\n",
      "144.txt {'encoding': 'utf-8', 'confidence': 0.99}\n",
      "145.txt {'encoding': 'utf-8', 'confidence': 0.99}\n",
      "146.txt {'encoding': 'utf-8', 'confidence': 0.99}\n",
      "147.txt {'encoding': 'utf-8', 'confidence': 0.99}\n",
      "148.txt {'encoding': 'utf-8', 'confidence': 0.99}\n",
      "149.txt {'encoding': 'utf-8', 'confidence': 0.99}\n",
      "15.txt {'encoding': 'utf-8', 'confidence': 0.99}\n",
      "150.txt {'encoding': 'utf-8', 'confidence': 0.99}\n",
      "151.txt {'encoding': 'utf-8', 'confidence': 0.99}\n",
      "152.txt {'encoding': 'utf-8', 'confidence': 0.99}\n",
      "153.txt {'encoding': 'utf-8', 'confidence': 0.99}\n",
      "154.txt {'encoding': 'utf-8', 'confidence': 0.99}\n",
      "155.txt {'encoding': 'utf-8', 'confidence': 0.99}\n",
      "156.txt {'encoding': 'utf-8', 'confidence': 0.99}\n",
      "157.txt {'encoding': 'utf-8', 'confidence': 0.99}\n",
      "158.txt {'encoding': 'utf-8', 'confidence': 0.99}\n",
      "159.txt {'encoding': 'utf-8', 'confidence': 0.99}\n",
      "16.txt {'encoding': 'utf-8', 'confidence': 0.99}\n",
      "160.txt {'encoding': 'utf-8', 'confidence': 0.99}\n",
      "161.txt {'encoding': 'utf-8', 'confidence': 0.99}\n",
      "162.txt {'encoding': 'utf-8', 'confidence': 0.99}\n",
      "163.txt {'encoding': 'utf-8', 'confidence': 0.99}\n",
      "164.txt {'encoding': 'utf-8', 'confidence': 0.99}\n",
      "165.txt {'encoding': 'utf-8', 'confidence': 0.99}\n",
      "166.txt {'encoding': 'utf-8', 'confidence': 0.99}\n",
      "167.txt {'encoding': 'utf-8', 'confidence': 0.99}\n",
      "168.txt {'encoding': 'utf-8', 'confidence': 0.99}\n",
      "169.txt {'encoding': 'utf-8', 'confidence': 0.99}\n",
      "17.txt {'encoding': 'utf-8', 'confidence': 0.99}\n",
      "170.txt {'encoding': 'utf-8', 'confidence': 0.99}\n",
      "171.txt {'encoding': 'utf-8', 'confidence': 0.99}\n",
      "172.txt {'encoding': 'utf-8', 'confidence': 0.99}\n",
      "173.txt {'encoding': 'utf-8', 'confidence': 0.99}\n",
      "174.txt {'encoding': 'utf-8', 'confidence': 0.99}\n",
      "175.txt {'encoding': 'utf-8', 'confidence': 0.99}\n",
      "176.txt {'encoding': 'utf-8', 'confidence': 0.99}\n",
      "177.txt {'encoding': 'utf-8', 'confidence': 0.99}\n",
      "178.txt {'encoding': 'utf-8', 'confidence': 0.99}\n",
      "179.txt {'encoding': 'utf-8', 'confidence': 0.99}\n",
      "18.txt {'encoding': 'utf-8', 'confidence': 0.99}\n",
      "180.txt {'encoding': 'utf-8', 'confidence': 0.99}\n",
      "181.txt {'encoding': 'utf-8', 'confidence': 0.99}\n",
      "182.txt {'encoding': 'utf-8', 'confidence': 0.99}\n",
      "183.txt {'encoding': 'utf-8', 'confidence': 0.99}\n",
      "184.txt {'encoding': 'utf-8', 'confidence': 0.99}\n",
      "185.txt {'encoding': 'utf-8', 'confidence': 0.99}\n",
      "186.txt {'encoding': 'utf-8', 'confidence': 0.99}\n",
      "187.txt {'encoding': 'utf-8', 'confidence': 0.99}\n",
      "188.txt {'encoding': 'utf-8', 'confidence': 0.99}\n",
      "19.txt {'encoding': 'utf-8', 'confidence': 0.99}\n",
      "2.txt {'encoding': 'utf-8', 'confidence': 0.99}\n",
      "20.txt {'encoding': 'utf-8', 'confidence': 0.99}\n",
      "21.txt {'encoding': 'utf-8', 'confidence': 0.99}\n",
      "22.txt {'encoding': 'utf-8', 'confidence': 0.99}\n",
      "23.txt {'encoding': 'utf-8', 'confidence': 0.99}\n",
      "24.txt {'encoding': 'utf-8', 'confidence': 0.99}\n",
      "25.txt {'encoding': 'utf-8', 'confidence': 0.99}\n",
      "26.txt {'encoding': 'utf-8', 'confidence': 0.99}\n",
      "27.txt {'encoding': 'utf-8', 'confidence': 0.99}\n",
      "28.txt {'encoding': 'utf-8', 'confidence': 0.99}\n",
      "29.txt {'encoding': 'utf-8', 'confidence': 0.99}\n",
      "3.txt {'encoding': 'utf-8', 'confidence': 0.99}\n",
      "30.txt {'encoding': 'utf-8', 'confidence': 0.99}\n",
      "31.txt {'encoding': 'utf-8', 'confidence': 0.99}\n",
      "32.txt {'encoding': 'utf-8', 'confidence': 0.99}\n",
      "33.txt {'encoding': 'utf-8', 'confidence': 0.99}\n",
      "34.txt {'encoding': 'utf-8', 'confidence': 0.99}\n",
      "35.txt {'encoding': 'utf-8', 'confidence': 0.99}\n",
      "36.txt {'encoding': 'utf-8', 'confidence': 0.99}\n",
      "37.txt {'encoding': 'utf-8', 'confidence': 0.99}\n",
      "38.txt {'encoding': 'utf-8', 'confidence': 0.99}\n",
      "39.txt {'encoding': 'utf-8', 'confidence': 0.99}\n",
      "4.txt {'encoding': 'utf-8', 'confidence': 0.99}\n",
      "40.txt {'encoding': 'utf-8', 'confidence': 0.99}\n",
      "41.txt {'encoding': 'utf-8', 'confidence': 0.99}\n",
      "42.txt {'encoding': 'utf-8', 'confidence': 0.99}\n",
      "43.txt {'encoding': 'utf-8', 'confidence': 0.99}\n",
      "44.txt {'encoding': 'utf-8', 'confidence': 0.99}\n",
      "45.txt {'encoding': 'utf-8', 'confidence': 0.99}\n",
      "46.txt {'encoding': 'utf-8', 'confidence': 0.99}\n",
      "47.txt {'encoding': 'utf-8', 'confidence': 0.99}\n",
      "48.txt {'encoding': 'utf-8', 'confidence': 0.99}\n",
      "49.txt {'encoding': 'utf-8', 'confidence': 0.99}\n",
      "5.txt {'encoding': 'utf-8', 'confidence': 0.99}\n",
      "50.txt {'encoding': 'utf-8', 'confidence': 0.99}\n",
      "51.txt {'encoding': 'utf-8', 'confidence': 0.99}\n",
      "52.txt {'encoding': 'utf-8', 'confidence': 0.99}\n",
      "53.txt {'encoding': 'utf-8', 'confidence': 0.99}\n",
      "54.txt {'encoding': 'utf-8', 'confidence': 0.99}\n",
      "55.txt {'encoding': 'utf-8', 'confidence': 0.99}\n",
      "56.txt {'encoding': 'utf-8', 'confidence': 0.99}\n",
      "57.txt {'encoding': 'utf-8', 'confidence': 0.99}\n",
      "58.txt {'encoding': 'utf-8', 'confidence': 0.99}\n",
      "59.txt {'encoding': 'utf-8', 'confidence': 0.99}\n",
      "6.txt {'encoding': 'utf-8', 'confidence': 0.99}\n",
      "60.txt {'encoding': 'utf-8', 'confidence': 0.99}\n",
      "61.txt {'encoding': 'utf-8', 'confidence': 0.99}\n",
      "62.txt {'encoding': 'utf-8', 'confidence': 0.99}\n",
      "63.txt {'encoding': 'utf-8', 'confidence': 0.99}\n",
      "64.txt {'encoding': 'utf-8', 'confidence': 0.99}\n",
      "65.txt {'encoding': 'utf-8', 'confidence': 0.99}\n",
      "66.txt {'encoding': 'utf-8', 'confidence': 0.99}\n",
      "67.txt {'encoding': 'utf-8', 'confidence': 0.99}\n",
      "68.txt {'encoding': 'utf-8', 'confidence': 0.99}\n",
      "69.txt {'encoding': 'utf-8', 'confidence': 0.99}\n",
      "7.txt {'encoding': 'utf-8', 'confidence': 0.99}\n",
      "70.txt {'encoding': 'utf-8', 'confidence': 0.99}\n",
      "71.txt {'encoding': 'utf-8', 'confidence': 0.99}\n",
      "72.txt {'encoding': 'utf-8', 'confidence': 0.99}\n",
      "73.txt {'encoding': 'utf-8', 'confidence': 0.99}\n",
      "74.txt {'encoding': 'utf-8', 'confidence': 0.99}\n",
      "75.txt {'encoding': 'utf-8', 'confidence': 0.99}\n",
      "76.txt {'encoding': 'utf-8', 'confidence': 0.99}\n",
      "77.txt {'encoding': 'utf-8', 'confidence': 0.99}\n",
      "78.txt {'encoding': 'utf-8', 'confidence': 0.99}\n",
      "79.txt {'encoding': 'utf-8', 'confidence': 0.99}\n",
      "8.txt {'encoding': 'utf-8', 'confidence': 0.99}\n",
      "80.txt {'encoding': 'utf-8', 'confidence': 0.99}\n",
      "81.txt {'encoding': 'utf-8', 'confidence': 0.99}\n",
      "82.txt {'encoding': 'utf-8', 'confidence': 0.99}\n",
      "83.txt {'encoding': 'utf-8', 'confidence': 0.99}\n",
      "84.txt {'encoding': 'utf-8', 'confidence': 0.99}\n",
      "85.txt {'encoding': 'utf-8', 'confidence': 0.99}\n",
      "86.txt {'encoding': 'utf-8', 'confidence': 0.99}\n",
      "87.txt {'encoding': 'utf-8', 'confidence': 0.99}\n",
      "88.txt {'encoding': 'utf-8', 'confidence': 0.99}\n",
      "89.txt {'encoding': 'utf-8', 'confidence': 0.99}\n",
      "9.txt {'encoding': 'utf-8', 'confidence': 0.99}\n",
      "90.txt {'encoding': 'utf-8', 'confidence': 0.99}\n",
      "91.txt {'encoding': 'utf-8', 'confidence': 0.99}\n",
      "92.txt {'encoding': 'utf-8', 'confidence': 0.99}\n",
      "93.txt {'encoding': 'utf-8', 'confidence': 0.99}\n",
      "94.txt {'encoding': 'utf-8', 'confidence': 0.99}\n",
      "95.txt {'encoding': 'utf-8', 'confidence': 0.99}\n",
      "96.txt {'encoding': 'utf-8', 'confidence': 0.99}\n",
      "97.txt {'encoding': 'utf-8', 'confidence': 0.99}\n",
      "98.txt {'encoding': 'utf-8', 'confidence': 0.99}\n",
      "99.txt {'encoding': 'utf-8', 'confidence': 0.99}\n"
     ]
    }
   ],
   "source": [
    "import chardet,os\n",
    "filepath =r'C:/Users/Kismet/Documents/我的坚果云/文学ip_2017/11处特工皇妃'\n",
    "for filename in os.listdir(filepath):\n",
    "    with open(os.path.join(filepath,filename),'rb') as file:\n",
    "        data = file.read()\n",
    "        print (filename, chardet.detect(data))"
   ]
  },
  {
   "cell_type": "code",
   "execution_count": null,
   "metadata": {
    "collapsed": true
   },
   "outputs": [],
   "source": []
  }
 ],
 "metadata": {
  "kernelspec": {
   "display_name": "Python 3",
   "language": "python",
   "name": "python3"
  },
  "language_info": {
   "codemirror_mode": {
    "name": "ipython",
    "version": 3
   },
   "file_extension": ".py",
   "mimetype": "text/x-python",
   "name": "python",
   "nbconvert_exporter": "python",
   "pygments_lexer": "ipython3",
   "version": "3.6.0"
  },
  "latex_envs": {
   "LaTeX_envs_menu_present": true,
   "autocomplete": true,
   "bibliofile": "biblio.bib",
   "cite_by": "apalike",
   "current_citInitial": 1,
   "eqLabelWithNumbers": true,
   "eqNumInitial": 1,
   "hotkeys": {
    "equation": "Ctrl-E",
    "itemize": "Ctrl-I"
   },
   "labels_anchors": false,
   "latex_user_defs": false,
   "report_style_numbering": false,
   "user_envs_cfg": false
  },
  "toc": {
   "colors": {
    "hover_highlight": "#DAA520",
    "running_highlight": "#FF0000",
    "selected_highlight": "#FFD700"
   },
   "moveMenuLeft": true,
   "nav_menu": {
    "height": "12px",
    "width": "252px"
   },
   "navigate_menu": true,
   "number_sections": true,
   "sideBar": true,
   "threshold": 4,
   "toc_cell": false,
   "toc_section_display": "block",
   "toc_window_display": true,
   "widenNotebook": false
  }
 },
 "nbformat": 4,
 "nbformat_minor": 2
}
