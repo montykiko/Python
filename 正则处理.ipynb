{
 "cells": [
  {
   "cell_type": "code",
   "execution_count": 2,
   "metadata": {
    "collapsed": true
   },
   "outputs": [],
   "source": [
    "import re"
   ]
  },
  {
   "cell_type": "markdown",
   "metadata": {},
   "source": [
    "# split"
   ]
  },
  {
   "cell_type": "code",
   "execution_count": 3,
   "metadata": {
    "collapsed": false
   },
   "outputs": [
    {
     "name": "stdout",
     "output_type": "stream",
     "text": [
      "['here', 'are', 'some', 'words']\n"
     ]
    }
   ],
   "source": [
    "print(re.split(r'\\s*','here are some words'))"
   ]
  },
  {
   "cell_type": "code",
   "execution_count": 4,
   "metadata": {
    "collapsed": false
   },
   "outputs": [
    {
     "name": "stdout",
     "output_type": "stream",
     "text": [
      "['here', ' ', 'are', ' ', 'some', ' ', 'words']\n"
     ]
    }
   ],
   "source": [
    "print(re.split(r'(\\s*)','here are some words'))"
   ]
  },
  {
   "cell_type": "code",
   "execution_count": 5,
   "metadata": {
    "collapsed": false
   },
   "outputs": [
    {
     "name": "stdout",
     "output_type": "stream",
     "text": [
      "['here are ', 's', 'ome word', 's', '']\n"
     ]
    }
   ],
   "source": [
    "print (re.split(r'(s*)','here are some words'))"
   ]
  },
  {
   "cell_type": "code",
   "execution_count": 6,
   "metadata": {
    "collapsed": false
   },
   "outputs": [
    {
     "name": "stdout",
     "output_type": "stream",
     "text": [
      "['here', 'ss', ' are ', 's', 'ome word', 's', '']\n"
     ]
    }
   ],
   "source": [
    "print (re.split(r'(s*)','heress are some words'))"
   ]
  },
  {
   "cell_type": "code",
   "execution_count": 8,
   "metadata": {
    "collapsed": false
   },
   "outputs": [
    {
     "name": "stdout",
     "output_type": "stream",
     "text": [
      "['', 'inqw', 'nl', 'sk', 'jri', 'w', 's', '']\n"
     ]
    }
   ],
   "source": [
    "print (re.split(r'[a-f]','finqwenlaskdjriewasd'))"
   ]
  },
  {
   "cell_type": "code",
   "execution_count": 9,
   "metadata": {
    "collapsed": false
   },
   "outputs": [
    {
     "name": "stdout",
     "output_type": "stream",
     "text": [
      "['', 'inqw', 'nl', 'sk', 'ijr', 'w', '', '', 's', '']\n"
     ]
    }
   ],
   "source": [
    "print (re.split(r'[a-fA-F0-9]','finqwenlaskdijrewDFasd',re.I|re.M))"
   ]
  },
  {
   "cell_type": "code",
   "execution_count": null,
   "metadata": {
    "collapsed": true
   },
   "outputs": [],
   "source": [
    "#re.I ignorance\n",
    "#re.M Multiline"
   ]
  },
  {
   "cell_type": "code",
   "execution_count": 10,
   "metadata": {
    "collapsed": false
   },
   "outputs": [
    {
     "name": "stdout",
     "output_type": "stream",
     "text": [
      "['finqwenlaskd37jri', 'wasd']\n"
     ]
    }
   ],
   "source": [
    "print (re.split(r'[a-f0-9][a-f]','finqwenlaskd37jri6ewasd',re.I|re.M))"
   ]
  },
  {
   "cell_type": "markdown",
   "metadata": {},
   "source": [
    "# findall"
   ]
  },
  {
   "cell_type": "code",
   "execution_count": 12,
   "metadata": {
    "collapsed": false
   },
   "outputs": [
    {
     "name": "stdout",
     "output_type": "stream",
     "text": [
      "['3', '2', '4']\n"
     ]
    }
   ],
   "source": [
    "print (re.findall(r'\\d','finqwen324 main st.iewasd',re.I|re.M))"
   ]
  },
  {
   "cell_type": "code",
   "execution_count": 11,
   "metadata": {
    "collapsed": false
   },
   "outputs": [
    {
     "name": "stdout",
     "output_type": "stream",
     "text": [
      "['3', '2', '4']\n"
     ]
    }
   ],
   "source": [
    "print (re.findall(r'(\\d)','finqwen324 main st.iewasd',re.I|re.M))"
   ]
  },
  {
   "cell_type": "code",
   "execution_count": 12,
   "metadata": {
    "collapsed": false
   },
   "outputs": [
    {
     "name": "stdout",
     "output_type": "stream",
     "text": [
      "['324']\n"
     ]
    }
   ],
   "source": [
    "print (re.findall(r'\\d{1,3}','finqwen324 main st.iewasd',re.I|re.M))"
   ]
  },
  {
   "cell_type": "code",
   "execution_count": 13,
   "metadata": {
    "collapsed": false
   },
   "outputs": [
    {
     "name": "stdout",
     "output_type": "stream",
     "text": [
      "['324 main st.']\n"
     ]
    }
   ],
   "source": [
    "print (re.findall(r'\\d{1,3}\\s\\w+\\s\\w+\\.','finqwen324 main st.iewasd',re.I|re.M))"
   ]
  },
  {
   "cell_type": "code",
   "execution_count": 14,
   "metadata": {
    "collapsed": false
   },
   "outputs": [
    {
     "data": {
      "text/plain": [
       "\"\\nIdentifiers:\\n\\\\d any number\\n\\\\D anything but a number\\n\\\\s space\\n\\\\S anything but a space\\n\\\\w any character\\n\\\\W anything but a character\\n. any character, except for a newline\\n\\x08 the whitespace around words\\n\\\\. a period\\n\\nModifiers:\\n{1,3}  we're expecting 1-3 of them\\n+      match 1 or more\\n?      match 0 or 1\\n*      match 0 or more\\n$      match the end of a string\\n^      match the beginning of a string\\n|      match either or        \\\\d{1-3} | \\\\w{5,6}\\n[]     range or 'variance'\\n{x}   expecting 'x' amount\\n\\nWhite Space Characters\\xef\\xbc\\x9a\\n \\n  new line\\n \\\\s space\\n \\t tab\\n \\\\e escape\\n \\x0c form feed\\n \\r return\\n\\n Don't forget!\\n . + * ? [] $ ^ () {} | \""
      ]
     },
     "execution_count": 14,
     "metadata": {},
     "output_type": "execute_result"
    }
   ],
   "source": [
    "'''\n",
    "Identifiers:\n",
    "\\d any number\n",
    "\\D anything but a number\n",
    "\\s space\n",
    "\\S anything but a space\n",
    "\\w any character\n",
    "\\W anything but a character\n",
    ". any character, except for a newline\n",
    "\\b the whitespace around words\n",
    "\\. a period\n",
    "\n",
    "Modifiers:\n",
    "{1,3}  we're expecting 1-3 of them\n",
    "+      match 1 or more\n",
    "?      match 0 or 1\n",
    "*      match 0 or more\n",
    "$      match the end of a string\n",
    "^      match the beginning of a string\n",
    "|      match either or        \\d{1-3} | \\w{5,6}\n",
    "[]     range or 'variance'\n",
    "{x}   expecting 'x' amount\n",
    "\n",
    "White Space Characters：\n",
    " \\n  new line\n",
    " \\s space\n",
    " \\t tab\n",
    " \\e escape\n",
    " \\f form feed\n",
    " \\r return\n",
    "\n",
    " Don't forget!\n",
    " . + * ? [] $ ^ () {} | \\\n",
    "'''"
   ]
  },
  {
   "cell_type": "code",
   "execution_count": 1,
   "metadata": {
    "collapsed": false
   },
   "outputs": [],
   "source": [
    "import re\n",
    "example = '''\n",
    "Jessia is 15 years old, and Daniel is 27 years old,\n",
    "Edward is 92, and his father, Oscar, is 102.\n",
    "'''\n",
    "ages = re.findall(r'\\d{2,3}',example)\n",
    "names = re.findall(r'[A-Z][a-z]*',example)"
   ]
  },
  {
   "cell_type": "code",
   "execution_count": 2,
   "metadata": {
    "collapsed": false
   },
   "outputs": [
    {
     "name": "stdout",
     "output_type": "stream",
     "text": [
      "['15', '27', '92', '102']\n"
     ]
    }
   ],
   "source": [
    "print (ages)"
   ]
  },
  {
   "cell_type": "code",
   "execution_count": 3,
   "metadata": {
    "collapsed": false
   },
   "outputs": [
    {
     "name": "stdout",
     "output_type": "stream",
     "text": [
      "['Jessia', 'Daniel', 'Edward', 'Oscar']\n"
     ]
    }
   ],
   "source": [
    "print (names)"
   ]
  },
  {
   "cell_type": "code",
   "execution_count": null,
   "metadata": {
    "collapsed": true
   },
   "outputs": [],
   "source": []
  },
  {
   "cell_type": "code",
   "execution_count": null,
   "metadata": {
    "collapsed": true
   },
   "outputs": [],
   "source": []
  }
 ],
 "metadata": {
  "kernelspec": {
   "display_name": "Python 2",
   "language": "python",
   "name": "python2"
  },
  "language_info": {
   "codemirror_mode": {
    "name": "ipython",
    "version": 2
   },
   "file_extension": ".py",
   "mimetype": "text/x-python",
   "name": "python",
   "nbconvert_exporter": "python",
   "pygments_lexer": "ipython2",
   "version": "2.7.13"
  },
  "latex_envs": {
   "LaTeX_envs_menu_present": true,
   "autocomplete": true,
   "bibliofile": "biblio.bib",
   "cite_by": "apalike",
   "current_citInitial": 1,
   "eqLabelWithNumbers": true,
   "eqNumInitial": 1,
   "hotkeys": {
    "equation": "Ctrl-E",
    "itemize": "Ctrl-I"
   },
   "labels_anchors": false,
   "latex_user_defs": false,
   "report_style_numbering": false,
   "user_envs_cfg": false
  },
  "toc": {
   "colors": {
    "hover_highlight": "#DAA520",
    "running_highlight": "#FF0000",
    "selected_highlight": "#FFD700"
   },
   "moveMenuLeft": true,
   "nav_menu": {
    "height": "13px",
    "width": "253px"
   },
   "navigate_menu": true,
   "number_sections": true,
   "sideBar": true,
   "threshold": 4,
   "toc_cell": false,
   "toc_section_display": "block",
   "toc_window_display": true,
   "widenNotebook": false
  }
 },
 "nbformat": 4,
 "nbformat_minor": 2
}
