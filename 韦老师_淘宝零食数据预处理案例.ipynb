{
 "cells": [
  {
   "cell_type": "markdown",
   "metadata": {},
   "source": [
    "# 目标：淘宝商城数据源的获取(爬虫)"
   ]
  },
  {
   "cell_type": "markdown",
   "metadata": {},
   "source": [
    "```\n",
    "数据清洗：发现与处理缺失值与异常值\n",
    "数据集成与数据离散化\n",
    "商品数据分布分析实战\n",
    "```"
   ]
  },
  {
   "cell_type": "markdown",
   "metadata": {},
   "source": [
    "# 数据清洗"
   ]
  },
  {
   "cell_type": "markdown",
   "metadata": {},
   "source": [
    "```\n",
    "数据清洗：发现与处理缺失值与异常值\n",
    "缺失值发现：可以查找\n",
    "异常值发现：画图分析\n",
    "缺失值处理：均值／中位数插补、固定值、临近插补、回归分析、插值法（拉格朗日插值、牛顿插值）\n",
    "异常值处理：视为缺失、平均值修正、不处理\n",
    "```"
   ]
  },
  {
   "cell_type": "markdown",
   "metadata": {},
   "source": [
    "## 导入数据及初步探索"
   ]
  },
  {
   "cell_type": "code",
   "execution_count": 318,
   "metadata": {
    "collapsed": true
   },
   "outputs": [],
   "source": [
    "import numpy as np\n",
    "import pandas as pd\n",
    "import pymysql\n",
    "import matplotlib.pylab as pyl"
   ]
  },
  {
   "cell_type": "code",
   "execution_count": 319,
   "metadata": {
    "collapsed": true
   },
   "outputs": [],
   "source": [
    "conn = pymysql.connect(host = '127.0.0.1',user = 'root',passwd = 'jixue',db = 'csdn',charset = 'utf8')\n",
    "sql = 'select * from taob'\n",
    "dt = pd.read_sql(sql,conn)"
   ]
  },
  {
   "cell_type": "code",
   "execution_count": 320,
   "metadata": {
    "collapsed": true
   },
   "outputs": [],
   "source": [
    "dt_b = dt #备份"
   ]
  },
  {
   "cell_type": "code",
   "execution_count": 321,
   "metadata": {
    "collapsed": false
   },
   "outputs": [
    {
     "data": {
      "text/plain": [
       "(9616, 4)"
      ]
     },
     "execution_count": 321,
     "metadata": {},
     "output_type": "execute_result"
    }
   ],
   "source": [
    "dt.shape"
   ]
  },
  {
   "cell_type": "code",
   "execution_count": 322,
   "metadata": {
    "collapsed": false
   },
   "outputs": [
    {
     "data": {
      "text/html": [
       "<div>\n",
       "<table border=\"1\" class=\"dataframe\">\n",
       "  <thead>\n",
       "    <tr style=\"text-align: right;\">\n",
       "      <th></th>\n",
       "      <th>price</th>\n",
       "      <th>comment</th>\n",
       "    </tr>\n",
       "  </thead>\n",
       "  <tbody>\n",
       "    <tr>\n",
       "      <th>count</th>\n",
       "      <td>9616.00000</td>\n",
       "      <td>9616.000000</td>\n",
       "    </tr>\n",
       "    <tr>\n",
       "      <th>mean</th>\n",
       "      <td>64.49324</td>\n",
       "      <td>562.239601</td>\n",
       "    </tr>\n",
       "    <tr>\n",
       "      <th>std</th>\n",
       "      <td>176.10901</td>\n",
       "      <td>6078.909643</td>\n",
       "    </tr>\n",
       "    <tr>\n",
       "      <th>min</th>\n",
       "      <td>0.00000</td>\n",
       "      <td>0.000000</td>\n",
       "    </tr>\n",
       "    <tr>\n",
       "      <th>25%</th>\n",
       "      <td>20.00000</td>\n",
       "      <td>16.000000</td>\n",
       "    </tr>\n",
       "    <tr>\n",
       "      <th>50%</th>\n",
       "      <td>36.00000</td>\n",
       "      <td>58.000000</td>\n",
       "    </tr>\n",
       "    <tr>\n",
       "      <th>75%</th>\n",
       "      <td>66.00000</td>\n",
       "      <td>205.000000</td>\n",
       "    </tr>\n",
       "    <tr>\n",
       "      <th>max</th>\n",
       "      <td>7940.00000</td>\n",
       "      <td>454037.000000</td>\n",
       "    </tr>\n",
       "  </tbody>\n",
       "</table>\n",
       "</div>"
      ],
      "text/plain": [
       "            price        comment\n",
       "count  9616.00000    9616.000000\n",
       "mean     64.49324     562.239601\n",
       "std     176.10901    6078.909643\n",
       "min       0.00000       0.000000\n",
       "25%      20.00000      16.000000\n",
       "50%      36.00000      58.000000\n",
       "75%      66.00000     205.000000\n",
       "max    7940.00000  454037.000000"
      ]
     },
     "execution_count": 322,
     "metadata": {},
     "output_type": "execute_result"
    }
   ],
   "source": [
    "dt.describe()"
   ]
  },
  {
   "cell_type": "code",
   "execution_count": 323,
   "metadata": {
    "collapsed": false
   },
   "outputs": [
    {
     "data": {
      "text/plain": [
       "16.0"
      ]
     },
     "execution_count": 323,
     "metadata": {},
     "output_type": "execute_result"
    }
   ],
   "source": [
    "dt.comment.quantile(0.25)  #四分位数"
   ]
  },
  {
   "cell_type": "code",
   "execution_count": 324,
   "metadata": {
    "collapsed": false
   },
   "outputs": [
    {
     "data": {
      "text/plain": [
       "205.0"
      ]
     },
     "execution_count": 324,
     "metadata": {},
     "output_type": "execute_result"
    }
   ],
   "source": [
    "dt.comment.quantile(0.75)"
   ]
  },
  {
   "cell_type": "code",
   "execution_count": 325,
   "metadata": {
    "collapsed": false
   },
   "outputs": [
    {
     "data": {
      "text/plain": [
       "58.0"
      ]
     },
     "execution_count": 325,
     "metadata": {},
     "output_type": "execute_result"
    }
   ],
   "source": [
    "dt['comment'].median()"
   ]
  },
  {
   "cell_type": "code",
   "execution_count": 326,
   "metadata": {
    "collapsed": false
   },
   "outputs": [
    {
     "name": "stdout",
     "output_type": "stream",
     "text": [
      "<class 'pandas.core.frame.DataFrame'>\n",
      "RangeIndex: 9616 entries, 0 to 9615\n",
      "Data columns (total 4 columns):\n",
      "title      9616 non-null object\n",
      "link       9616 non-null object\n",
      "price      9616 non-null int64\n",
      "comment    9616 non-null int64\n",
      "dtypes: int64(2), object(2)\n",
      "memory usage: 300.6+ KB\n"
     ]
    }
   ],
   "source": [
    "dt.info()"
   ]
  },
  {
   "cell_type": "markdown",
   "metadata": {},
   "source": [
    "## 发现缺失值"
   ]
  },
  {
   "cell_type": "code",
   "execution_count": 327,
   "metadata": {
    "collapsed": false
   },
   "outputs": [
    {
     "data": {
      "text/plain": [
       "Index(['title', 'link', 'price', 'comment'], dtype='object')"
      ]
     },
     "execution_count": 327,
     "metadata": {},
     "output_type": "execute_result"
    }
   ],
   "source": [
    "dt.columns"
   ]
  },
  {
   "cell_type": "code",
   "execution_count": 328,
   "metadata": {
    "collapsed": false
   },
   "outputs": [
    {
     "data": {
      "text/plain": [
       "False    9572\n",
       "True       44\n",
       "Name: price, dtype: int64"
      ]
     },
     "execution_count": 328,
     "metadata": {},
     "output_type": "execute_result"
    }
   ],
   "source": [
    "(dt['price']==0).value_counts()"
   ]
  },
  {
   "cell_type": "code",
   "execution_count": 329,
   "metadata": {
    "collapsed": false
   },
   "outputs": [
    {
     "data": {
      "text/plain": [
       "44"
      ]
     },
     "execution_count": 329,
     "metadata": {},
     "output_type": "execute_result"
    }
   ],
   "source": [
    "dt['price'][dt['price']==0].count()"
   ]
  },
  {
   "cell_type": "code",
   "execution_count": 330,
   "metadata": {
    "collapsed": false
   },
   "outputs": [
    {
     "data": {
      "text/html": [
       "<div>\n",
       "<table border=\"1\" class=\"dataframe\">\n",
       "  <thead>\n",
       "    <tr style=\"text-align: right;\">\n",
       "      <th></th>\n",
       "      <th>title</th>\n",
       "      <th>link</th>\n",
       "      <th>price</th>\n",
       "      <th>comment</th>\n",
       "    </tr>\n",
       "  </thead>\n",
       "  <tbody>\n",
       "    <tr>\n",
       "      <th>25</th>\n",
       "      <td>【三只松鼠_琥珀核桃仁165gx2袋】坚果特产休闲零食纸皮核桃肉</td>\n",
       "      <td>https://item.taobao.com/item.htm?id=525273256350</td>\n",
       "      <td>0</td>\n",
       "      <td>1006</td>\n",
       "    </tr>\n",
       "    <tr>\n",
       "      <th>185</th>\n",
       "      <td>30包邮80后经典怀旧零食 佳龙酱肉丝辣条辣丝 调味小面筋麻辣小吃</td>\n",
       "      <td>https://item.taobao.com/item.htm?id=531797791841</td>\n",
       "      <td>0</td>\n",
       "      <td>174</td>\n",
       "    </tr>\n",
       "    <tr>\n",
       "      <th>911</th>\n",
       "      <td>批发童年美食 叉烧樱桃肉 辣条 零食小吃麻辣食品 新品上市</td>\n",
       "      <td>https://item.taobao.com/item.htm?id=44134186067</td>\n",
       "      <td>0</td>\n",
       "      <td>13787</td>\n",
       "    </tr>\n",
       "    <tr>\n",
       "      <th>2022</th>\n",
       "      <td>卫龙亲嘴片亲嘴烧辣条辣片面筋怀旧小吃特产零食小面筋100片包邮</td>\n",
       "      <td>https://item.taobao.com/item.htm?id=534303530802</td>\n",
       "      <td>0</td>\n",
       "      <td>484</td>\n",
       "    </tr>\n",
       "    <tr>\n",
       "      <th>2039</th>\n",
       "      <td>小食品 素食牛板筋 批发微辣 北京豆腐 面制品 辣条零食小吃 包邮</td>\n",
       "      <td>https://item.taobao.com/item.htm?id=45419115495</td>\n",
       "      <td>0</td>\n",
       "      <td>120</td>\n",
       "    </tr>\n",
       "  </tbody>\n",
       "</table>\n",
       "</div>"
      ],
      "text/plain": [
       "                                  title  \\\n",
       "25     【三只松鼠_琥珀核桃仁165gx2袋】坚果特产休闲零食纸皮核桃肉   \n",
       "185   30包邮80后经典怀旧零食 佳龙酱肉丝辣条辣丝 调味小面筋麻辣小吃   \n",
       "911       批发童年美食 叉烧樱桃肉 辣条 零食小吃麻辣食品 新品上市   \n",
       "2022    卫龙亲嘴片亲嘴烧辣条辣片面筋怀旧小吃特产零食小面筋100片包邮   \n",
       "2039  小食品 素食牛板筋 批发微辣 北京豆腐 面制品 辣条零食小吃 包邮   \n",
       "\n",
       "                                                  link  price  comment  \n",
       "25    https://item.taobao.com/item.htm?id=525273256350      0     1006  \n",
       "185   https://item.taobao.com/item.htm?id=531797791841      0      174  \n",
       "911    https://item.taobao.com/item.htm?id=44134186067      0    13787  \n",
       "2022  https://item.taobao.com/item.htm?id=534303530802      0      484  \n",
       "2039   https://item.taobao.com/item.htm?id=45419115495      0      120  "
      ]
     },
     "execution_count": 330,
     "metadata": {},
     "output_type": "execute_result"
    }
   ],
   "source": [
    "dt[dt['price']==0].head()"
   ]
  },
  {
   "cell_type": "code",
   "execution_count": 331,
   "metadata": {
    "collapsed": false
   },
   "outputs": [
    {
     "data": {
      "text/plain": [
       "False    9616\n",
       "Name: price, dtype: int64"
      ]
     },
     "execution_count": 331,
     "metadata": {},
     "output_type": "execute_result"
    }
   ],
   "source": [
    "dt['price'].isnull().value_counts()"
   ]
  },
  {
   "cell_type": "code",
   "execution_count": 332,
   "metadata": {
    "collapsed": false
   },
   "outputs": [
    {
     "data": {
      "text/plain": [
       "25     NaN\n",
       "185    NaN\n",
       "911    NaN\n",
       "2022   NaN\n",
       "2039   NaN\n",
       "Name: price, dtype: float64"
      ]
     },
     "execution_count": 332,
     "metadata": {},
     "output_type": "execute_result"
    }
   ],
   "source": [
    "#将价格为0的替换为NaN值\n",
    "dt.loc[dt['price']==0,'price']=np.nan\n",
    "dt.loc[dt['price'].isnull(),'price'].head()"
   ]
  },
  {
   "cell_type": "code",
   "execution_count": 333,
   "metadata": {
    "collapsed": false
   },
   "outputs": [
    {
     "data": {
      "text/plain": [
       "25     NaN\n",
       "185    NaN\n",
       "911    NaN\n",
       "2022   NaN\n",
       "2039   NaN\n",
       "Name: price, dtype: float64"
      ]
     },
     "execution_count": 333,
     "metadata": {},
     "output_type": "execute_result"
    }
   ],
   "source": [
    "dt['price'][dt['price'].isnull()].head()"
   ]
  },
  {
   "cell_type": "code",
   "execution_count": 334,
   "metadata": {
    "collapsed": false
   },
   "outputs": [
    {
     "data": {
      "text/plain": [
       "44"
      ]
     },
     "execution_count": 334,
     "metadata": {},
     "output_type": "execute_result"
    }
   ],
   "source": [
    "#缺失值的数量\n",
    "dt['price'].isnull().sum()"
   ]
  },
  {
   "cell_type": "markdown",
   "metadata": {},
   "source": [
    "## 缺失值处理"
   ]
  },
  {
   "cell_type": "markdown",
   "metadata": {},
   "source": [
    "### 将价格为0的数据按平均值64设置"
   ]
  },
  {
   "cell_type": "code",
   "execution_count": 335,
   "metadata": {
    "collapsed": true
   },
   "outputs": [],
   "source": [
    "dt.loc[dt['price'].isnull(),'price']=64"
   ]
  },
  {
   "cell_type": "code",
   "execution_count": 336,
   "metadata": {
    "collapsed": false
   },
   "outputs": [
    {
     "data": {
      "text/plain": [
       "25     64.0\n",
       "185    64.0\n",
       "505    64.0\n",
       "911    64.0\n",
       "939    64.0\n",
       "Name: price, dtype: float64"
      ]
     },
     "execution_count": 336,
     "metadata": {},
     "output_type": "execute_result"
    }
   ],
   "source": [
    "dt.loc[dt['price']==64,'price'].head()"
   ]
  },
  {
   "cell_type": "markdown",
   "metadata": {},
   "source": [
    "### 将价格缺失的删除掉"
   ]
  },
  {
   "cell_type": "code",
   "execution_count": 337,
   "metadata": {
    "collapsed": true
   },
   "outputs": [],
   "source": [
    "dt = dt.dropna()"
   ]
  },
  {
   "cell_type": "code",
   "execution_count": 338,
   "metadata": {
    "collapsed": false
   },
   "outputs": [
    {
     "data": {
      "text/plain": [
       "(9616, 4)"
      ]
     },
     "execution_count": 338,
     "metadata": {},
     "output_type": "execute_result"
    }
   ],
   "source": [
    "dt.shape"
   ]
  },
  {
   "cell_type": "markdown",
   "metadata": {},
   "source": [
    "### 直接将价格为0的数据替换为平均值64（不必经过NaN步骤）"
   ]
  },
  {
   "cell_type": "markdown",
   "metadata": {},
   "source": [
    "## 异常值处理"
   ]
  },
  {
   "cell_type": "markdown",
   "metadata": {},
   "source": [
    "### 画出散点图，找到异常值"
   ]
  },
  {
   "cell_type": "code",
   "execution_count": 339,
   "metadata": {
    "collapsed": true
   },
   "outputs": [],
   "source": [
    "dt2 = dt.T"
   ]
  },
  {
   "cell_type": "code",
   "execution_count": 340,
   "metadata": {
    "collapsed": false
   },
   "outputs": [
    {
     "data": {
      "text/html": [
       "<div>\n",
       "<table border=\"1\" class=\"dataframe\">\n",
       "  <thead>\n",
       "    <tr style=\"text-align: right;\">\n",
       "      <th></th>\n",
       "      <th>0</th>\n",
       "      <th>1</th>\n",
       "      <th>2</th>\n",
       "      <th>3</th>\n",
       "      <th>4</th>\n",
       "      <th>5</th>\n",
       "      <th>6</th>\n",
       "      <th>7</th>\n",
       "      <th>8</th>\n",
       "      <th>9</th>\n",
       "      <th>...</th>\n",
       "      <th>9606</th>\n",
       "      <th>9607</th>\n",
       "      <th>9608</th>\n",
       "      <th>9609</th>\n",
       "      <th>9610</th>\n",
       "      <th>9611</th>\n",
       "      <th>9612</th>\n",
       "      <th>9613</th>\n",
       "      <th>9614</th>\n",
       "      <th>9615</th>\n",
       "    </tr>\n",
       "  </thead>\n",
       "  <tbody>\n",
       "    <tr>\n",
       "      <th>title</th>\n",
       "      <td>买2袋减2元 印尼进口菲那菲娜虾味木薯片油炸大龙虾片零食品400g</td>\n",
       "      <td>零食大礼包送女友一箱整箱好吃的休闲小吃组合混合装生日吃货进口</td>\n",
       "      <td>牛肉干内蒙古牛肉粒特产零食手撕五香牛肉粒干片500g克包邮xo酱烤</td>\n",
       "      <td>爱尝泡鸭爪鸭掌福建龙岩特产下洋土楼卤味零食香辣泡爽泡椒泡爪</td>\n",
       "      <td>30包湖南特产显峰嚼味鱼霸香辣小鱼仔麻辣零食鱼干口水毛毛鱼</td>\n",
       "      <td>11月25日生产 正宗友臣肉松饼2.5kg整箱福建特产糕点心5斤零食品</td>\n",
       "      <td>京辉爱面子点心面27g*20袋干脆面干吃面方便面办公室休闲零食包邮</td>\n",
       "      <td>好吃的手撕风干牛肉干内蒙古牛肉条原味散装零食品特产牛肉干500g</td>\n",
       "      <td>特价进口俄罗斯巧克力kpokaht紫皮糖果婚庆喜糖零食品 原包装2斤</td>\n",
       "      <td>靖江猪肉脯500g小吃特价零食猪肉干猪肉铺猪肉片蜜汁肉干一件包邮</td>\n",
       "      <td>...</td>\n",
       "      <td>韩国进口零食大礼包送女友套餐组合好吃的膨化食品小吃一整箱礼物</td>\n",
       "      <td>湖南特产麻辣豆干零食自制辣条片 手撕豆皮儿时传统小吃100g*3袋</td>\n",
       "      <td>臧老爷子 老北京特产蜜麻花130g/袋 休闲办公室零食品小吃糕点心</td>\n",
       "      <td>童年辣片豆皮辣条80后儿时记忆小吃东北特产240g怀旧小时候的零食</td>\n",
       "      <td>零食80后经典小吃周长江辣条 小豆条 豆干 豆制品 面筋 湖南风味</td>\n",
       "      <td>炭烤鱿鱼足片章鱼150g罐装零食即食海鲜小吃特产</td>\n",
       "      <td>【天天特价】陈吉旺福小麻花500g黑糖零食小吃北京糕点心重庆特产</td>\n",
       "      <td>【褚记】福建小吃福鼎卤鸡翅膀 福鼎特产美食蜜汁鸡翅 真空包装</td>\n",
       "      <td>上好佳粟米条薯片小吃膨化零食品店好吃的的批发大礼包送女友组合</td>\n",
       "      <td>天天特价干吃汤圆爆浆麻薯好吃的糯米糍麻糍米糕小吃糕点特产零食</td>\n",
       "    </tr>\n",
       "    <tr>\n",
       "      <th>link</th>\n",
       "      <td>https://item.taobao.com/item.htm?id=44350560220</td>\n",
       "      <td>https://item.taobao.com/item.htm?id=528296696972</td>\n",
       "      <td>https://item.taobao.com/item.htm?id=539655516205</td>\n",
       "      <td>https://item.taobao.com/item.htm?id=520224855651</td>\n",
       "      <td>https://item.taobao.com/item.htm?id=44752472349</td>\n",
       "      <td>https://item.taobao.com/item.htm?id=522922344354</td>\n",
       "      <td>https://item.taobao.com/item.htm?id=537650895010</td>\n",
       "      <td>https://item.taobao.com/item.htm?id=537758670507</td>\n",
       "      <td>https://item.taobao.com/item.htm?id=36834424616</td>\n",
       "      <td>https://item.taobao.com/item.htm?id=528461840334</td>\n",
       "      <td>...</td>\n",
       "      <td>https://item.taobao.com/item.htm?id=539889534536</td>\n",
       "      <td>https://item.taobao.com/item.htm?id=524823773363</td>\n",
       "      <td>https://item.taobao.com/item.htm?id=537861768594</td>\n",
       "      <td>https://item.taobao.com/item.htm?id=530630211293</td>\n",
       "      <td>https://item.taobao.com/item.htm?id=39916577440</td>\n",
       "      <td>https://item.taobao.com/item.htm?id=40681223576</td>\n",
       "      <td>https://item.taobao.com/item.htm?id=537822417971</td>\n",
       "      <td>https://item.taobao.com/item.htm?id=37496942368</td>\n",
       "      <td>https://item.taobao.com/item.htm?id=539180956553</td>\n",
       "      <td>https://item.taobao.com/item.htm?id=533227194958</td>\n",
       "    </tr>\n",
       "    <tr>\n",
       "      <th>price</th>\n",
       "      <td>50</td>\n",
       "      <td>116</td>\n",
       "      <td>88</td>\n",
       "      <td>118</td>\n",
       "      <td>40</td>\n",
       "      <td>85</td>\n",
       "      <td>20</td>\n",
       "      <td>158</td>\n",
       "      <td>60</td>\n",
       "      <td>96</td>\n",
       "      <td>...</td>\n",
       "      <td>408</td>\n",
       "      <td>31</td>\n",
       "      <td>4</td>\n",
       "      <td>12</td>\n",
       "      <td>64</td>\n",
       "      <td>20</td>\n",
       "      <td>30</td>\n",
       "      <td>5</td>\n",
       "      <td>1</td>\n",
       "      <td>90</td>\n",
       "    </tr>\n",
       "    <tr>\n",
       "      <th>comment</th>\n",
       "      <td>2577</td>\n",
       "      <td>286692</td>\n",
       "      <td>567</td>\n",
       "      <td>30664</td>\n",
       "      <td>6543</td>\n",
       "      <td>1446</td>\n",
       "      <td>592</td>\n",
       "      <td>9878</td>\n",
       "      <td>30834</td>\n",
       "      <td>36183</td>\n",
       "      <td>...</td>\n",
       "      <td>159</td>\n",
       "      <td>3204</td>\n",
       "      <td>4479</td>\n",
       "      <td>14049</td>\n",
       "      <td>1872</td>\n",
       "      <td>706</td>\n",
       "      <td>464</td>\n",
       "      <td>1237</td>\n",
       "      <td>7300</td>\n",
       "      <td>7549</td>\n",
       "    </tr>\n",
       "  </tbody>\n",
       "</table>\n",
       "<p>4 rows × 9616 columns</p>\n",
       "</div>"
      ],
      "text/plain": [
       "                                                    0     \\\n",
       "title                  买2袋减2元 印尼进口菲那菲娜虾味木薯片油炸大龙虾片零食品400g   \n",
       "link     https://item.taobao.com/item.htm?id=44350560220   \n",
       "price                                                 50   \n",
       "comment                                             2577   \n",
       "\n",
       "                                                     1     \\\n",
       "title                      零食大礼包送女友一箱整箱好吃的休闲小吃组合混合装生日吃货进口   \n",
       "link     https://item.taobao.com/item.htm?id=528296696972   \n",
       "price                                                 116   \n",
       "comment                                            286692   \n",
       "\n",
       "                                                     2     \\\n",
       "title                   牛肉干内蒙古牛肉粒特产零食手撕五香牛肉粒干片500g克包邮xo酱烤   \n",
       "link     https://item.taobao.com/item.htm?id=539655516205   \n",
       "price                                                  88   \n",
       "comment                                               567   \n",
       "\n",
       "                                                     3     \\\n",
       "title                       爱尝泡鸭爪鸭掌福建龙岩特产下洋土楼卤味零食香辣泡爽泡椒泡爪   \n",
       "link     https://item.taobao.com/item.htm?id=520224855651   \n",
       "price                                                 118   \n",
       "comment                                             30664   \n",
       "\n",
       "                                                    4     \\\n",
       "title                      30包湖南特产显峰嚼味鱼霸香辣小鱼仔麻辣零食鱼干口水毛毛鱼   \n",
       "link     https://item.taobao.com/item.htm?id=44752472349   \n",
       "price                                                 40   \n",
       "comment                                             6543   \n",
       "\n",
       "                                                     5     \\\n",
       "title                 11月25日生产 正宗友臣肉松饼2.5kg整箱福建特产糕点心5斤零食品   \n",
       "link     https://item.taobao.com/item.htm?id=522922344354   \n",
       "price                                                  85   \n",
       "comment                                              1446   \n",
       "\n",
       "                                                     6     \\\n",
       "title                   京辉爱面子点心面27g*20袋干脆面干吃面方便面办公室休闲零食包邮   \n",
       "link     https://item.taobao.com/item.htm?id=537650895010   \n",
       "price                                                  20   \n",
       "comment                                               592   \n",
       "\n",
       "                                                     7     \\\n",
       "title                    好吃的手撕风干牛肉干内蒙古牛肉条原味散装零食品特产牛肉干500g   \n",
       "link     https://item.taobao.com/item.htm?id=537758670507   \n",
       "price                                                 158   \n",
       "comment                                              9878   \n",
       "\n",
       "                                                    8     \\\n",
       "title                 特价进口俄罗斯巧克力kpokaht紫皮糖果婚庆喜糖零食品 原包装2斤   \n",
       "link     https://item.taobao.com/item.htm?id=36834424616   \n",
       "price                                                 60   \n",
       "comment                                            30834   \n",
       "\n",
       "                                                     9     \\\n",
       "title                    靖江猪肉脯500g小吃特价零食猪肉干猪肉铺猪肉片蜜汁肉干一件包邮   \n",
       "link     https://item.taobao.com/item.htm?id=528461840334   \n",
       "price                                                  96   \n",
       "comment                                             36183   \n",
       "\n",
       "                               ...                         \\\n",
       "title                          ...                          \n",
       "link                           ...                          \n",
       "price                          ...                          \n",
       "comment                        ...                          \n",
       "\n",
       "                                                     9606  \\\n",
       "title                      韩国进口零食大礼包送女友套餐组合好吃的膨化食品小吃一整箱礼物   \n",
       "link     https://item.taobao.com/item.htm?id=539889534536   \n",
       "price                                                 408   \n",
       "comment                                               159   \n",
       "\n",
       "                                                     9607  \\\n",
       "title                   湖南特产麻辣豆干零食自制辣条片 手撕豆皮儿时传统小吃100g*3袋   \n",
       "link     https://item.taobao.com/item.htm?id=524823773363   \n",
       "price                                                  31   \n",
       "comment                                              3204   \n",
       "\n",
       "                                                     9608  \\\n",
       "title                   臧老爷子 老北京特产蜜麻花130g/袋 休闲办公室零食品小吃糕点心   \n",
       "link     https://item.taobao.com/item.htm?id=537861768594   \n",
       "price                                                   4   \n",
       "comment                                              4479   \n",
       "\n",
       "                                                     9609  \\\n",
       "title                   童年辣片豆皮辣条80后儿时记忆小吃东北特产240g怀旧小时候的零食   \n",
       "link     https://item.taobao.com/item.htm?id=530630211293   \n",
       "price                                                  12   \n",
       "comment                                             14049   \n",
       "\n",
       "                                                    9610  \\\n",
       "title                  零食80后经典小吃周长江辣条 小豆条 豆干 豆制品 面筋 湖南风味   \n",
       "link     https://item.taobao.com/item.htm?id=39916577440   \n",
       "price                                                 64   \n",
       "comment                                             1872   \n",
       "\n",
       "                                                    9611  \\\n",
       "title                           炭烤鱿鱼足片章鱼150g罐装零食即食海鲜小吃特产   \n",
       "link     https://item.taobao.com/item.htm?id=40681223576   \n",
       "price                                                 20   \n",
       "comment                                              706   \n",
       "\n",
       "                                                     9612  \\\n",
       "title                    【天天特价】陈吉旺福小麻花500g黑糖零食小吃北京糕点心重庆特产   \n",
       "link     https://item.taobao.com/item.htm?id=537822417971   \n",
       "price                                                  30   \n",
       "comment                                               464   \n",
       "\n",
       "                                                    9613  \\\n",
       "title                     【褚记】福建小吃福鼎卤鸡翅膀 福鼎特产美食蜜汁鸡翅 真空包装   \n",
       "link     https://item.taobao.com/item.htm?id=37496942368   \n",
       "price                                                  5   \n",
       "comment                                             1237   \n",
       "\n",
       "                                                     9614  \\\n",
       "title                      上好佳粟米条薯片小吃膨化零食品店好吃的的批发大礼包送女友组合   \n",
       "link     https://item.taobao.com/item.htm?id=539180956553   \n",
       "price                                                   1   \n",
       "comment                                              7300   \n",
       "\n",
       "                                                     9615  \n",
       "title                      天天特价干吃汤圆爆浆麻薯好吃的糯米糍麻糍米糕小吃糕点特产零食  \n",
       "link     https://item.taobao.com/item.htm?id=533227194958  \n",
       "price                                                  90  \n",
       "comment                                              7549  \n",
       "\n",
       "[4 rows x 9616 columns]"
      ]
     },
     "execution_count": 340,
     "metadata": {},
     "output_type": "execute_result"
    }
   ],
   "source": [
    "dt2"
   ]
  },
  {
   "cell_type": "code",
   "execution_count": 341,
   "metadata": {
    "collapsed": false
   },
   "outputs": [],
   "source": [
    "price = dt2.values[2]"
   ]
  },
  {
   "cell_type": "code",
   "execution_count": 342,
   "metadata": {
    "collapsed": false
   },
   "outputs": [
    {
     "data": {
      "text/plain": [
       "array([50.0, 116.0, 88.0, ..., 5.0, 1.0, 90.0], dtype=object)"
      ]
     },
     "execution_count": 342,
     "metadata": {},
     "output_type": "execute_result"
    }
   ],
   "source": [
    "price"
   ]
  },
  {
   "cell_type": "code",
   "execution_count": 343,
   "metadata": {
    "collapsed": false
   },
   "outputs": [],
   "source": [
    "comment = dt['comment']"
   ]
  },
  {
   "cell_type": "code",
   "execution_count": 344,
   "metadata": {
    "collapsed": false
   },
   "outputs": [
    {
     "data": {
      "text/plain": [
       "0      2577\n",
       "1    286692\n",
       "2       567\n",
       "3     30664\n",
       "4      6543\n",
       "Name: comment, dtype: int64"
      ]
     },
     "execution_count": 344,
     "metadata": {},
     "output_type": "execute_result"
    }
   ],
   "source": [
    "comment.head()"
   ]
  },
  {
   "cell_type": "code",
   "execution_count": 345,
   "metadata": {
    "collapsed": false
   },
   "outputs": [
    {
     "data": {
      "image/png": "[encoded data removed]",
      "text/plain": [
       "<matplotlib.figure.Figure at 0x115ecd630>"
      ]
     },
     "metadata": {},
     "output_type": "display_data"
    }
   ],
   "source": [
    "pyl.title('taob snacks price')\n",
    "pyl.xlabel('price')\n",
    "pyl.ylabel('comment')\n",
    "pyl.plot(price,comment,'o')\n",
    "pyl.show()"
   ]
  },
  {
   "cell_type": "markdown",
   "metadata": {},
   "source": [
    "### 处理异常数据"
   ]
  },
  {
   "cell_type": "markdown",
   "metadata": {
    "collapsed": true
   },
   "source": [
    "将price>1000 & comment>100000的数据进行处理，mean(price)为64，mean(comment)为562"
   ]
  },
  {
   "cell_type": "code",
   "execution_count": 346,
   "metadata": {
    "collapsed": false
   },
   "outputs": [
    {
     "data": {
      "text/plain": [
       "18"
      ]
     },
     "execution_count": 346,
     "metadata": {},
     "output_type": "execute_result"
    }
   ],
   "source": [
    "dt['price'][dt['price']>1000].count()"
   ]
  },
  {
   "cell_type": "code",
   "execution_count": 347,
   "metadata": {
    "collapsed": false
   },
   "outputs": [],
   "source": [
    "dt.loc[dt['price']>1000,'price']=dt['price'].mean()"
   ]
  },
  {
   "cell_type": "code",
   "execution_count": 348,
   "metadata": {
    "collapsed": false
   },
   "outputs": [],
   "source": [
    "dt.loc[dt['comment']>100000,'comment']=dt['comment'].mean()"
   ]
  },
  {
   "cell_type": "code",
   "execution_count": 349,
   "metadata": {
    "collapsed": false
   },
   "outputs": [
    {
     "data": {
      "image/png": "[encoded data removed]",
      "text/plain": [
       "<matplotlib.figure.Figure at 0x116991eb8>"
      ]
     },
     "metadata": {},
     "output_type": "display_data"
    }
   ],
   "source": [
    "pyl.title('taob snacks price')\n",
    "pyl.xlabel('price')\n",
    "pyl.ylabel('comment')\n",
    "pyl.plot(dt['price'],dt['comment'],'o')\n",
    "pyl.show()"
   ]
  },
  {
   "cell_type": "markdown",
   "metadata": {},
   "source": [
    "再将price>400 & comment>20000的数据进行处理，mean(price)为64，mean(comment)为562"
   ]
  },
  {
   "cell_type": "code",
   "execution_count": 350,
   "metadata": {
    "collapsed": true
   },
   "outputs": [],
   "source": [
    "dt.loc[dt['price']>400,'price']=dt['price'].mean()"
   ]
  },
  {
   "cell_type": "code",
   "execution_count": 351,
   "metadata": {
    "collapsed": true
   },
   "outputs": [],
   "source": [
    "dt.loc[dt['comment']>20000,'comment']=dt['comment'].mean()"
   ]
  },
  {
   "cell_type": "code",
   "execution_count": 352,
   "metadata": {
    "collapsed": false
   },
   "outputs": [
    {
     "data": {
      "image/png": "[encoded data removed]",
      "text/plain": [
       "<matplotlib.figure.Figure at 0x116e6d470>"
      ]
     },
     "metadata": {},
     "output_type": "display_data"
    }
   ],
   "source": [
    "pyl.title('taob snacks price')\n",
    "pyl.xlabel('price')\n",
    "pyl.ylabel('comment')\n",
    "pyl.plot(dt['price'],dt['comment'],'o')\n",
    "pyl.show()"
   ]
  },
  {
   "cell_type": "markdown",
   "metadata": {},
   "source": [
    "再将price>150 & comment>5000的数据进行处理，mean(price)为64，mean(comment)为562"
   ]
  },
  {
   "cell_type": "code",
   "execution_count": 353,
   "metadata": {
    "collapsed": true
   },
   "outputs": [],
   "source": [
    "dt.loc[dt['price']>150,'price']=dt['price'].mean()"
   ]
  },
  {
   "cell_type": "code",
   "execution_count": 354,
   "metadata": {
    "collapsed": true
   },
   "outputs": [],
   "source": [
    "dt.loc[dt['comment']>5000,'comment']=dt['comment'].mean()"
   ]
  },
  {
   "cell_type": "code",
   "execution_count": 355,
   "metadata": {
    "collapsed": false
   },
   "outputs": [
    {
     "data": {
      "image/png": "[encoded data removed]",
      "text/plain": [
       "<matplotlib.figure.Figure at 0x115cf1668>"
      ]
     },
     "metadata": {},
     "output_type": "display_data"
    }
   ],
   "source": [
    "pyl.title('taob snacks price')\n",
    "pyl.xlabel('price')\n",
    "pyl.ylabel('comment')\n",
    "pyl.plot(dt['price'],dt['comment'],'o')\n",
    "pyl.show()"
   ]
  },
  {
   "cell_type": "markdown",
   "metadata": {},
   "source": [
    "**评论数近似销量，价格*销量 = 销售额，考虑如何定价能使销售额最大？（矩形最大）**"
   ]
  },
  {
   "cell_type": "markdown",
   "metadata": {},
   "source": [
    "# 研究数据分布"
   ]
  },
  {
   "cell_type": "markdown",
   "metadata": {},
   "source": [
    "绘制直方图的步骤：求最值，计算极差，设定组数，求组距"
   ]
  },
  {
   "cell_type": "markdown",
   "metadata": {},
   "source": [
    "## 绘制价格直方图"
   ]
  },
  {
   "cell_type": "code",
   "execution_count": 358,
   "metadata": {
    "collapsed": true
   },
   "outputs": [],
   "source": [
    "pmax = dt['price'].max()\n",
    "pmin = dt['price'].min()\n",
    "pdst = (pmax - pmin)/10"
   ]
  },
  {
   "cell_type": "code",
   "execution_count": 359,
   "metadata": {
    "collapsed": true
   },
   "outputs": [],
   "source": [
    "psty = np.arange(pmin,pmax,pdst)"
   ]
  },
  {
   "cell_type": "code",
   "execution_count": 360,
   "metadata": {
    "collapsed": false
   },
   "outputs": [
    {
     "data": {
      "image/png": "[encoded data removed]",
      "text/plain": [
       "<matplotlib.figure.Figure at 0x117b68748>"
      ]
     },
     "metadata": {},
     "output_type": "display_data"
    }
   ],
   "source": [
    "pyl.title('price distribution')\n",
    "pyl.xlabel('price')\n",
    "pyl.ylabel('No.')\n",
    "pyl.hist(dt['price'],psty)\n",
    "pyl.show()"
   ]
  },
  {
   "cell_type": "markdown",
   "metadata": {},
   "source": [
    "## 绘制评论直方图"
   ]
  },
  {
   "cell_type": "code",
   "execution_count": 361,
   "metadata": {
    "collapsed": true
   },
   "outputs": [],
   "source": [
    "cmax = dt['comment'].max()\n",
    "cmin = dt['comment'].min()\n",
    "cdst = (cmax-cmin)/10\n",
    "csty = np.arange(cmin,cmax,cdst)"
   ]
  },
  {
   "cell_type": "code",
   "execution_count": 362,
   "metadata": {
    "collapsed": false
   },
   "outputs": [
    {
     "data": {
      "image/png": "[encoded data removed]",
      "text/plain": [
       "<matplotlib.figure.Figure at 0x115d71828>"
      ]
     },
     "metadata": {},
     "output_type": "display_data"
    }
   ],
   "source": [
    "pyl.title('comment distribution')\n",
    "pyl.xlabel('comment')\n",
    "pyl.ylabel('No.')\n",
    "pyl.hist(dt['comment'],psty)\n",
    "pyl.show()"
   ]
  }
 ],
 "metadata": {
  "kernelspec": {
   "display_name": "Python 3",
   "language": "python",
   "name": "python3"
  },
  "language_info": {
   "codemirror_mode": {
    "name": "ipython",
    "version": 3
   },
   "file_extension": ".py",
   "mimetype": "text/x-python",
   "name": "python",
   "nbconvert_exporter": "python",
   "pygments_lexer": "ipython3",
   "version": "3.6.0"
  },
  "latex_envs": {
   "LaTeX_envs_menu_present": true,
   "autocomplete": true,
   "bibliofile": "biblio.bib",
   "cite_by": "apalike",
   "current_citInitial": 1,
   "eqLabelWithNumbers": true,
   "eqNumInitial": 1,
   "hotkeys": {
    "equation": "Ctrl-E",
    "itemize": "Ctrl-I"
   },
   "labels_anchors": false,
   "latex_user_defs": false,
   "report_style_numbering": false,
   "user_envs_cfg": false
  },
  "toc": {
   "colors": {
    "hover_highlight": "#DAA520",
    "running_highlight": "#FF0000",
    "selected_highlight": "#FFD700"
   },
   "moveMenuLeft": true,
   "nav_menu": {
    "height": "264px",
    "width": "252px"
   },
   "navigate_menu": true,
   "number_sections": true,
   "sideBar": true,
   "threshold": 4,
   "toc_cell": false,
   "toc_position": {
    "height": "550px",
    "left": "0px",
    "right": "auto",
    "top": "106px",
    "width": "212px"
   },
   "toc_section_display": "block",
   "toc_window_display": true,
   "widenNotebook": false
  }
 },
 "nbformat": 4,
 "nbformat_minor": 2
}
