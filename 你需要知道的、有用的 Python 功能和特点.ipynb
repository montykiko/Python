{
 "cells": [
  {
   "cell_type": "code",
   "execution_count": 1,
   "metadata": {
    "collapsed": false
   },
   "outputs": [
    {
     "data": {
      "text/plain": [
       "'utf-8'"
      ]
     },
     "execution_count": 1,
     "metadata": {},
     "output_type": "execute_result"
    }
   ],
   "source": [
    "import sys\n",
    "sys.getdefaultencoding()"
   ]
  },
  {
   "cell_type": "markdown",
   "metadata": {},
   "source": [
    "# 定义带任意数量参数的函数"
   ]
  },
  {
   "cell_type": "code",
   "execution_count": 4,
   "metadata": {
    "collapsed": false
   },
   "outputs": [
    {
     "name": "stdout",
     "output_type": "stream",
     "text": [
      "arg1:Hello\n",
      "arg2:world\n"
     ]
    }
   ],
   "source": [
    "def function(arg1=\"\",arg2=\"\"):\n",
    "    print (\"arg1:{}\".format(arg1))\n",
    "    print (\"arg2:{}\".format(arg2))\n",
    "    \n",
    "function(\"Hello\",\"world\")"
   ]
  },
  {
   "cell_type": "code",
   "execution_count": 6,
   "metadata": {
    "collapsed": false
   },
   "outputs": [
    {
     "name": "stdout",
     "output_type": "stream",
     "text": [
      "arg1:\n",
      "arg2:\n"
     ]
    }
   ],
   "source": [
    "function()"
   ]
  },
  {
   "cell_type": "markdown",
   "metadata": {},
   "source": [
    "现在，让我们看看怎么定义一个可以接受任意参数的函数。我们利用元组来实现"
   ]
  },
  {
   "cell_type": "code",
   "execution_count": 8,
   "metadata": {
    "collapsed": true
   },
   "outputs": [],
   "source": [
    "def foo(*args): # just use \"*\" to collect all remaining arguments into a tuple\n",
    "    numargs = len(args)\n",
    "    print (\"Number of arguments: {0}\".format(numargs))\n",
    "    for i, x in enumerate(args):\n",
    "        print (\"Argument {0} is: {1}\".format(i,x))"
   ]
  },
  {
   "cell_type": "code",
   "execution_count": 9,
   "metadata": {
    "collapsed": false
   },
   "outputs": [
    {
     "name": "stdout",
     "output_type": "stream",
     "text": [
      "Number of arguments: 0\n"
     ]
    }
   ],
   "source": [
    "foo()"
   ]
  },
  {
   "cell_type": "code",
   "execution_count": 10,
   "metadata": {
    "collapsed": false
   },
   "outputs": [
    {
     "name": "stdout",
     "output_type": "stream",
     "text": [
      "Number of arguments: 1\n",
      "Argument 0 is: hello\n"
     ]
    }
   ],
   "source": [
    "foo(\"hello\")"
   ]
  },
  {
   "cell_type": "code",
   "execution_count": 11,
   "metadata": {
    "collapsed": false
   },
   "outputs": [
    {
     "name": "stdout",
     "output_type": "stream",
     "text": [
      "Number of arguments: 3\n",
      "Argument 0 is: hello\n",
      "Argument 1 is: world\n",
      "Argument 2 is: again\n"
     ]
    }
   ],
   "source": [
    "foo(\"hello\",\"world\",\"again\")"
   ]
  },
  {
   "cell_type": "markdown",
   "metadata": {},
   "source": [
    "# 使用Glob()查找文件"
   ]
  },
  {
   "cell_type": "code",
   "execution_count": 12,
   "metadata": {
    "collapsed": false
   },
   "outputs": [
    {
     "name": "stdout",
     "output_type": "stream",
     "text": [
      "[]\n"
     ]
    }
   ],
   "source": [
    "import glob\n",
    "#get all .py files\n",
    "files = glob.glob(\"*.py\")\n",
    "print (files)"
   ]
  },
  {
   "cell_type": "markdown",
   "metadata": {},
   "source": [
    "你可以像下面这样查找多个文件类型："
   ]
  },
  {
   "cell_type": "code",
   "execution_count": 13,
   "metadata": {
    "collapsed": true
   },
   "outputs": [],
   "source": [
    "import itertools as it,glob"
   ]
  },
  {
   "cell_type": "code",
   "execution_count": 15,
   "metadata": {
    "collapsed": false
   },
   "outputs": [
    {
     "name": "stdout",
     "output_type": "stream",
     "text": [
      "Untitled.ipynb\n",
      "代码这样写更优雅（Python版）.ipynb\n"
     ]
    }
   ],
   "source": [
    "def multiple_file_types(*patterns):\n",
    "    return it.chain.from_iterable(glob.glob(pattern) for pattern in patterns)\n",
    "\n",
    "for filename in multiple_file_types(\"*.ipynb\",\"*.py\"):\n",
    "    print (filename)"
   ]
  },
  {
   "cell_type": "markdown",
   "metadata": {},
   "source": [
    "如果你想得到每个文件的绝对路径，你可以在返回值上调用realpath()函数："
   ]
  },
  {
   "cell_type": "code",
   "execution_count": 16,
   "metadata": {
    "collapsed": true
   },
   "outputs": [],
   "source": [
    "import itertools as it,glob,os"
   ]
  },
  {
   "cell_type": "code",
   "execution_count": 18,
   "metadata": {
    "collapsed": false
   },
   "outputs": [
    {
     "name": "stdout",
     "output_type": "stream",
     "text": [
      "/Users/xueji/Documents/我的坚果云/Python/Untitled.ipynb\n",
      "/Users/xueji/Documents/我的坚果云/Python/代码这样写更优雅（Python版）.ipynb\n"
     ]
    }
   ],
   "source": [
    "def multiple_file_types(*patterns):\n",
    "    return it.chain.from_iterable(glob.glob(pattern) for pattern in patterns)\n",
    "\n",
    "for filename in multiple_file_types(\"*.ipynb\",\"*.py\"):\n",
    "    realpath = os.path.realpath(filename)\n",
    "    print (realpath)"
   ]
  },
  {
   "cell_type": "markdown",
   "metadata": {},
   "source": [
    "# 调试"
   ]
  },
  {
   "cell_type": "code",
   "execution_count": 21,
   "metadata": {
    "collapsed": false
   },
   "outputs": [
    {
     "name": "stderr",
     "output_type": "stream",
     "text": [
      "11-05 21:10 INFO     <ipython-input-21-60cd63254342>:8   : Some information\n",
      "11-05 21:10 WARNING  <ipython-input-21-60cd63254342>:9   : A shot across the bow\n"
     ]
    },
    {
     "name": "stdout",
     "output_type": "stream",
     "text": [
      "<frame object at 0x7f846fce9898> <ipython-input-21-60cd63254342> 15 <module> ['test()\\n'] 0\n"
     ]
    }
   ],
   "source": [
    "import logging, inspect\n",
    " \n",
    "logging.basicConfig(\n",
    "    level=logging.INFO,\n",
    "    format='%(asctime)s %(levelname)-8s %(filename)s:%(lineno)-4d: %(message)s',\n",
    "    datefmt='%m-%d %H:%M',\n",
    "    )\n",
    "logging.debug('A debug message')\n",
    "logging.info('Some information')\n",
    "logging.warning('A shot across the bow')\n",
    " \n",
    "def test():\n",
    "    frame,filename,line_number,function_name,lines,index=inspect.getouterframes(inspect.currentframe())[1]\n",
    "    print(frame,filename,line_number,function_name,lines,index)\n",
    "    \n",
    "test()"
   ]
  },
  {
   "cell_type": "markdown",
   "metadata": {},
   "source": [
    "# 生成唯一ID"
   ]
  },
  {
   "cell_type": "markdown",
   "metadata": {},
   "source": [
    "在有些情况下你需要生成一个唯一的字符串。我看到很多人使用md5()函数来达到此目的，但它确实不是以此为目的。\n",
    "\n",
    "其实有一个名为uuid()的Python函数是用于这个目的的。"
   ]
  },
  {
   "cell_type": "code",
   "execution_count": 22,
   "metadata": {
    "collapsed": false
   },
   "outputs": [
    {
     "name": "stdout",
     "output_type": "stream",
     "text": [
      "a1f7c5be-c22c-11e7-bad1-9801a7a2a517\n"
     ]
    }
   ],
   "source": [
    "import uuid\n",
    "result = uuid.uuid1()\n",
    "print (result)"
   ]
  },
  {
   "cell_type": "code",
   "execution_count": 24,
   "metadata": {
    "collapsed": false
   },
   "outputs": [
    {
     "name": "stdout",
     "output_type": "stream",
     "text": [
      "02703066-c22d-11e7-b722-9801a7a2a517\n"
     ]
    }
   ],
   "source": [
    "result = uuid.uuid1()\n",
    "print (result)"
   ]
  },
  {
   "cell_type": "code",
   "execution_count": 46,
   "metadata": {
    "collapsed": false
   },
   "outputs": [
    {
     "data": {
      "text/plain": [
       "b'1'"
      ]
     },
     "execution_count": 46,
     "metadata": {},
     "output_type": "execute_result"
    }
   ],
   "source": [
    "key='1'.encode('utf-8')\n",
    "key"
   ]
  },
  {
   "cell_type": "code",
   "execution_count": 47,
   "metadata": {
    "collapsed": false
   },
   "outputs": [
    {
     "name": "stdout",
     "output_type": "stream",
     "text": [
      "c6e693d0b35805080632bc2469e1154a8d1072a86557778c27a01329630f8917\n"
     ]
    }
   ],
   "source": [
    "import hmac,hashlib\n",
    "\n",
    "key='1'.encode('utf-8')\n",
    "data='a'.encode('utf-8')\n",
    "print (hmac.new(key, data, hashlib.sha256).hexdigest())"
   ]
  },
  {
   "cell_type": "code",
   "execution_count": 49,
   "metadata": {
    "collapsed": false
   },
   "outputs": [
    {
     "name": "stdout",
     "output_type": "stream",
     "text": [
      "2fd4e1c67a2d28fced849ee1bb76e7391b93eb12\n"
     ]
    }
   ],
   "source": [
    "import hashlib\n",
    "m = hashlib.sha1()\n",
    "m.update((\"The quick brown fox jumps over the lazy dog\").encode('utf-8'))\n",
    "print (m.hexdigest())"
   ]
  },
  {
   "cell_type": "markdown",
   "metadata": {},
   "source": [
    "HMAC 是用于消息认证的加密哈希算法，全称是 keyed-Hash Message Authentication Code。HMAC 利用哈希算法，以一个密钥和一个消息作为输入，生成一个加密串作为输出。HMAC 可以有效防止类似 MD5 的彩虹表等攻击，比如将常见密码的 MD5 值存入数据库，可能被反向破解。"
   ]
  },
  {
   "cell_type": "markdown",
   "metadata": {},
   "source": [
    "# 序列化"
   ]
  },
  {
   "cell_type": "markdown",
   "metadata": {},
   "source": [
    "你曾经需要将一个复杂的变量存储在数据库或文本文件中吧？你不需要想一个奇特的方法将数组或对象格式转化为字符串，因为Python已经提供了此功能。"
   ]
  },
  {
   "cell_type": "code",
   "execution_count": 2,
   "metadata": {
    "collapsed": true
   },
   "outputs": [],
   "source": [
    "import pickle\n",
    "    \n",
    "variable = ['hello',42,[1,'two'],'apple']\n",
    "with open(\"serial.txt\",\"wb\") as f:\n",
    "    serialized_obj = pickle.dumps(variable)   #将一个对象转储为一个字符串\n",
    "    f.write(serialized_obj)"
   ]
  },
  {
   "cell_type": "code",
   "execution_count": 4,
   "metadata": {
    "collapsed": false
   },
   "outputs": [
    {
     "name": "stdout",
     "output_type": "stream",
     "text": [
      "['hello', 42, [1, 'two'], 'apple']\n"
     ]
    }
   ],
   "source": [
    "with open(\"serial.txt\",\"rb\") as f:\n",
    "    data = pickle.load(f)\n",
    "    print(data)"
   ]
  },
  {
   "cell_type": "markdown",
   "metadata": {},
   "source": [
    "这是一个原生的Python序列化方法。然而近几年来JSON变得流行起来，Python添加了对它的支持。现在你可以使用JSON来编解码"
   ]
  },
  {
   "cell_type": "code",
   "execution_count": 7,
   "metadata": {
    "collapsed": false
   },
   "outputs": [
    {
     "name": "stdout",
     "output_type": "stream",
     "text": [
      "Original['hello', 42, [1, 'two'], 'apple']-<class 'list'>\n"
     ]
    }
   ],
   "source": [
    "import json\n",
    " \n",
    "variable = ['hello', 42, [1,'two'],'apple']\n",
    "print (\"Original{0}-{1}\".format(variable,type(variable)))"
   ]
  },
  {
   "cell_type": "code",
   "execution_count": 8,
   "metadata": {
    "collapsed": false
   },
   "outputs": [
    {
     "name": "stdout",
     "output_type": "stream",
     "text": [
      "Encode[\"hello\", 42, [1, \"two\"], \"apple\"]-<class 'str'>\n"
     ]
    }
   ],
   "source": [
    "encode = json.dumps(variable)\n",
    "print (\"Encode{0}-{1}\".format(encode,type(encode)))"
   ]
  },
  {
   "cell_type": "code",
   "execution_count": 9,
   "metadata": {
    "collapsed": false
   },
   "outputs": [
    {
     "name": "stdout",
     "output_type": "stream",
     "text": [
      "Decoded['hello', 42, [1, 'two'], 'apple']-<class 'list'>\n"
     ]
    }
   ],
   "source": [
    "decoded = json.loads(encode)\n",
    "print (\"Decoded{0}-{1}\".format(decoded,type(decoded)))"
   ]
  },
  {
   "cell_type": "markdown",
   "metadata": {},
   "source": [
    "# 压缩字符"
   ]
  },
  {
   "cell_type": "markdown",
   "metadata": {},
   "source": [
    "当谈起压缩时我们通常想到文件，比如ZIP结构。在Python中可以压缩长字符，不涉及任何档案文件。"
   ]
  },
  {
   "cell_type": "code",
   "execution_count": 11,
   "metadata": {
    "collapsed": false
   },
   "outputs": [
    {
     "name": "stdout",
     "output_type": "stream",
     "text": [
      "Original Size:1022\n",
      "Compressed SizeF:423\n"
     ]
    }
   ],
   "source": [
    "import zlib\n",
    "string =  \"\"\"   Lorem ipsum dolor sit amet, consectetur\n",
    "                adipiscing elit. Nunc ut elit id mi ultricies\n",
    "                adipiscing. Nulla facilisi. Praesent pulvinar,\n",
    "                sapien vel feugiat vestibulum, nulla dui pretium orci,\n",
    "                non ultricies elit lacus quis ante. Lorem ipsum dolor\n",
    "                sit amet, consectetur adipiscing elit. Aliquam\n",
    "                pretium ullamcorper urna quis iaculis. Etiam ac massa\n",
    "                sed turpis tempor luctus. Curabitur sed nibh eu elit\n",
    "                mollis congue. Praesent ipsum diam, consectetur vitae\n",
    "                ornare a, aliquam a nunc. In id magna pellentesque\n",
    "                tellus posuere adipiscing. Sed non mi metus, at lacinia\n",
    "                augue. Sed magna nisi, ornare in mollis in, mollis\n",
    "                sed nunc. Etiam at justo in leo congue mollis.\n",
    "                Nullam in neque eget metus hendrerit scelerisque\n",
    "                eu non enim. Ut malesuada lacus eu nulla bibendum\n",
    "                id euismod urna sodales. \"\"\"\n",
    " \n",
    "print (\"Original Size:{0}\".format(len(string)))\n",
    "compressed = zlib.compress(string.encode('utf-8'))\n",
    "print (\"Compressed SizeF:{0}\".format(len(compressed)))"
   ]
  },
  {
   "cell_type": "markdown",
   "metadata": {},
   "source": [
    "# 注册Shutdown函数"
   ]
  },
  {
   "cell_type": "markdown",
   "metadata": {},
   "source": [
    "有个模块叫atexit，它可以让你在脚本运行完后立马执行一些代码。\n",
    "假如你想在脚本执行结束时测量一些基准数据，比如运行了多长时间：\n",
    "\n",
    "当你使用atexit.register()时，你的代码都将执行，不论脚本因为什么原因停止运行。"
   ]
  },
  {
   "cell_type": "code",
   "execution_count": null,
   "metadata": {
    "collapsed": true
   },
   "outputs": [],
   "source": [
    "import atexit\n",
    "import time\n",
    "import math\n",
    "\n",
    "def microtime(get_as_float=False):\n",
    "    if get_as_float:\n",
    "        return time.time()          #返回当前时间的时间戳\n",
    "    else:\n",
    "        return \"%f%d\" % math.modf(time.time())  #modf() 方法返回x的小数部分与整数部分\n",
    "    \n",
    "start_time = microtime(False)\n",
    "atexit.register(start_time)\n",
    "\n",
    "def shutdown():\n",
    "    global start_time\n",
    "    print　('Execution took:{0} seconds'.format(start_time))\n",
    "    \n",
    "atexit.register(shutdown)"
   ]
  },
  {
   "cell_type": "code",
   "execution_count": null,
   "metadata": {
    "collapsed": true
   },
   "outputs": [],
   "source": []
  }
 ],
 "metadata": {
  "kernelspec": {
   "display_name": "Python 3",
   "language": "python",
   "name": "python3"
  },
  "language_info": {
   "codemirror_mode": {
    "name": "ipython",
    "version": 3
   },
   "file_extension": ".py",
   "mimetype": "text/x-python",
   "name": "python",
   "nbconvert_exporter": "python",
   "pygments_lexer": "ipython3",
   "version": "3.6.0"
  },
  "latex_envs": {
   "LaTeX_envs_menu_present": true,
   "autocomplete": true,
   "bibliofile": "biblio.bib",
   "cite_by": "apalike",
   "current_citInitial": 1,
   "eqLabelWithNumbers": true,
   "eqNumInitial": 1,
   "hotkeys": {
    "equation": "Ctrl-E",
    "itemize": "Ctrl-I"
   },
   "labels_anchors": false,
   "latex_user_defs": false,
   "report_style_numbering": false,
   "user_envs_cfg": false
  },
  "toc": {
   "colors": {
    "hover_highlight": "#DAA520",
    "running_highlight": "#FF0000",
    "selected_highlight": "#FFD700"
   },
   "moveMenuLeft": true,
   "nav_menu": {
    "height": "84px",
    "width": "253px"
   },
   "navigate_menu": true,
   "number_sections": true,
   "sideBar": true,
   "threshold": 4,
   "toc_cell": false,
   "toc_section_display": "block",
   "toc_window_display": true,
   "widenNotebook": false
  }
 },
 "nbformat": 4,
 "nbformat_minor": 2
}
