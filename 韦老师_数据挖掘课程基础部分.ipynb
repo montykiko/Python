{
 "cells": [
  {
   "cell_type": "markdown",
   "metadata": {},
   "source": [
    "```\n",
    "概述：\n",
    "numpy 模块的安装与基础实战（numpy可以高效处理数据，提供数组支持(数组计算效率高），很多模块依赖它，比如pandas，scipy，matplotlib）\n",
    "scipy 模块的安装与基础实战（数值计算，矩阵运算，积分、傅立叶变换，微分方程求解等高等数学）\n",
    "pandas 模块的安装与数据处理基础实战（数据探索和数据分析）\n",
    "数据的导入（从数据库中、excel、csv文件中批量导入数据）\n",
    "matplotlib 库实战与各种图表的绘制\n",
    "statsmodels 用于统计分析\n",
    "Gensim 用于文本挖掘\n",
    "sklearn机器学习、keras深度学习\n",
    "数据的可视化分析实战\n",
    "```"
   ]
  },
  {
   "cell_type": "markdown",
   "metadata": {},
   "source": [
    "# 模块基础"
   ]
  },
  {
   "cell_type": "markdown",
   "metadata": {},
   "source": [
    "## 创建一维数组"
   ]
  },
  {
   "cell_type": "code",
   "execution_count": 1,
   "metadata": {
    "collapsed": true
   },
   "outputs": [],
   "source": [
    "import numpy as np\n",
    "import pandas as pd"
   ]
  },
  {
   "cell_type": "code",
   "execution_count": 2,
   "metadata": {
    "collapsed": false
   },
   "outputs": [],
   "source": [
    "a = np.array([3,1,2,4,3,5])"
   ]
  },
  {
   "cell_type": "code",
   "execution_count": 3,
   "metadata": {
    "collapsed": false
   },
   "outputs": [
    {
     "data": {
      "text/plain": [
       "array([3, 1, 2, 4, 3, 5])"
      ]
     },
     "execution_count": 3,
     "metadata": {},
     "output_type": "execute_result"
    }
   ],
   "source": [
    "a"
   ]
  },
  {
   "cell_type": "markdown",
   "metadata": {},
   "source": [
    "## 创建二维数组"
   ]
  },
  {
   "cell_type": "code",
   "execution_count": 4,
   "metadata": {
    "collapsed": true
   },
   "outputs": [],
   "source": [
    "b = np.array([[4,3,6],[4,5],[6,7,8]])"
   ]
  },
  {
   "cell_type": "code",
   "execution_count": 5,
   "metadata": {
    "collapsed": false
   },
   "outputs": [
    {
     "data": {
      "text/plain": [
       "array([[4, 3, 6], [4, 5], [6, 7, 8]], dtype=object)"
      ]
     },
     "execution_count": 5,
     "metadata": {},
     "output_type": "execute_result"
    }
   ],
   "source": [
    "b"
   ]
  },
  {
   "cell_type": "markdown",
   "metadata": {},
   "source": [
    "## 排序"
   ]
  },
  {
   "cell_type": "code",
   "execution_count": 6,
   "metadata": {
    "collapsed": true
   },
   "outputs": [],
   "source": [
    "a.sort()"
   ]
  },
  {
   "cell_type": "code",
   "execution_count": 7,
   "metadata": {
    "collapsed": false
   },
   "outputs": [
    {
     "data": {
      "text/plain": [
       "array([1, 2, 3, 3, 4, 5])"
      ]
     },
     "execution_count": 7,
     "metadata": {},
     "output_type": "execute_result"
    }
   ],
   "source": [
    "a"
   ]
  },
  {
   "cell_type": "markdown",
   "metadata": {},
   "source": [
    "## max & min"
   ]
  },
  {
   "cell_type": "code",
   "execution_count": 8,
   "metadata": {
    "collapsed": false
   },
   "outputs": [
    {
     "data": {
      "text/plain": [
       "5"
      ]
     },
     "execution_count": 8,
     "metadata": {},
     "output_type": "execute_result"
    }
   ],
   "source": [
    "a.max()"
   ]
  },
  {
   "cell_type": "code",
   "execution_count": 9,
   "metadata": {
    "collapsed": false
   },
   "outputs": [
    {
     "data": {
      "text/plain": [
       "[4, 3, 6]"
      ]
     },
     "execution_count": 9,
     "metadata": {},
     "output_type": "execute_result"
    }
   ],
   "source": [
    "b.min()"
   ]
  },
  {
   "cell_type": "markdown",
   "metadata": {},
   "source": [
    "## 切片"
   ]
  },
  {
   "cell_type": "code",
   "execution_count": 10,
   "metadata": {
    "collapsed": false
   },
   "outputs": [
    {
     "data": {
      "text/plain": [
       "array([2, 3])"
      ]
     },
     "execution_count": 10,
     "metadata": {},
     "output_type": "execute_result"
    }
   ],
   "source": [
    "a[1:3]"
   ]
  },
  {
   "cell_type": "code",
   "execution_count": 11,
   "metadata": {
    "collapsed": false
   },
   "outputs": [
    {
     "data": {
      "text/plain": [
       "array([1, 2])"
      ]
     },
     "execution_count": 11,
     "metadata": {},
     "output_type": "execute_result"
    }
   ],
   "source": [
    "a[:2]"
   ]
  },
  {
   "cell_type": "code",
   "execution_count": 12,
   "metadata": {
    "collapsed": false
   },
   "outputs": [
    {
     "data": {
      "text/plain": [
       "array([2, 3, 3, 4, 5])"
      ]
     },
     "execution_count": 12,
     "metadata": {},
     "output_type": "execute_result"
    }
   ],
   "source": [
    "a[1:]"
   ]
  },
  {
   "cell_type": "markdown",
   "metadata": {},
   "source": [
    "# pandas"
   ]
  },
  {
   "cell_type": "markdown",
   "metadata": {},
   "source": [
    "## Series"
   ]
  },
  {
   "cell_type": "code",
   "execution_count": 13,
   "metadata": {
    "collapsed": true
   },
   "outputs": [],
   "source": [
    "from pandas import Series, DataFrame"
   ]
  },
  {
   "cell_type": "code",
   "execution_count": 14,
   "metadata": {
    "collapsed": false
   },
   "outputs": [],
   "source": [
    "c = pd.Series([1,0,2,4])"
   ]
  },
  {
   "cell_type": "code",
   "execution_count": 15,
   "metadata": {
    "collapsed": false
   },
   "outputs": [
    {
     "data": {
      "text/plain": [
       "0    1\n",
       "1    0\n",
       "2    2\n",
       "3    4\n",
       "dtype: int64"
      ]
     },
     "execution_count": 15,
     "metadata": {},
     "output_type": "execute_result"
    }
   ],
   "source": [
    "c"
   ]
  },
  {
   "cell_type": "markdown",
   "metadata": {},
   "source": [
    "## DataFrame"
   ]
  },
  {
   "cell_type": "code",
   "execution_count": 16,
   "metadata": {
    "collapsed": true
   },
   "outputs": [],
   "source": [
    "d = pd.DataFrame([[5,0,5,5],[6,6,1,7],[9,1,1]])"
   ]
  },
  {
   "cell_type": "code",
   "execution_count": 17,
   "metadata": {
    "collapsed": false
   },
   "outputs": [
    {
     "data": {
      "text/html": [
       "<div>\n",
       "<table border=\"1\" class=\"dataframe\">\n",
       "  <thead>\n",
       "    <tr style=\"text-align: right;\">\n",
       "      <th></th>\n",
       "      <th>0</th>\n",
       "      <th>1</th>\n",
       "      <th>2</th>\n",
       "      <th>3</th>\n",
       "    </tr>\n",
       "  </thead>\n",
       "  <tbody>\n",
       "    <tr>\n",
       "      <th>0</th>\n",
       "      <td>5</td>\n",
       "      <td>0</td>\n",
       "      <td>5</td>\n",
       "      <td>5.0</td>\n",
       "    </tr>\n",
       "    <tr>\n",
       "      <th>1</th>\n",
       "      <td>6</td>\n",
       "      <td>6</td>\n",
       "      <td>1</td>\n",
       "      <td>7.0</td>\n",
       "    </tr>\n",
       "    <tr>\n",
       "      <th>2</th>\n",
       "      <td>9</td>\n",
       "      <td>1</td>\n",
       "      <td>1</td>\n",
       "      <td>NaN</td>\n",
       "    </tr>\n",
       "  </tbody>\n",
       "</table>\n",
       "</div>"
      ],
      "text/plain": [
       "   0  1  2    3\n",
       "0  5  0  5  5.0\n",
       "1  6  6  1  7.0\n",
       "2  9  1  1  NaN"
      ]
     },
     "execution_count": 17,
     "metadata": {},
     "output_type": "execute_result"
    }
   ],
   "source": [
    "d"
   ]
  },
  {
   "cell_type": "markdown",
   "metadata": {},
   "source": [
    "## head & tail"
   ]
  },
  {
   "cell_type": "code",
   "execution_count": 18,
   "metadata": {
    "collapsed": false
   },
   "outputs": [
    {
     "data": {
      "text/plain": [
       "0    1\n",
       "1    0\n",
       "dtype: int64"
      ]
     },
     "execution_count": 18,
     "metadata": {},
     "output_type": "execute_result"
    }
   ],
   "source": [
    "c.head(2)"
   ]
  },
  {
   "cell_type": "code",
   "execution_count": 19,
   "metadata": {
    "collapsed": false
   },
   "outputs": [
    {
     "data": {
      "text/plain": [
       "1    0\n",
       "2    2\n",
       "3    4\n",
       "dtype: int64"
      ]
     },
     "execution_count": 19,
     "metadata": {},
     "output_type": "execute_result"
    }
   ],
   "source": [
    "c.tail(3)"
   ]
  },
  {
   "cell_type": "code",
   "execution_count": 20,
   "metadata": {
    "collapsed": false
   },
   "outputs": [
    {
     "data": {
      "text/plain": [
       "count    4.000000\n",
       "mean     1.750000\n",
       "std      1.707825\n",
       "min      0.000000\n",
       "25%      0.750000\n",
       "50%      1.500000\n",
       "75%      2.500000\n",
       "max      4.000000\n",
       "dtype: float64"
      ]
     },
     "execution_count": 20,
     "metadata": {},
     "output_type": "execute_result"
    }
   ],
   "source": [
    "c.describe()"
   ]
  },
  {
   "cell_type": "markdown",
   "metadata": {},
   "source": [
    "## 转置"
   ]
  },
  {
   "cell_type": "code",
   "execution_count": 26,
   "metadata": {
    "collapsed": false
   },
   "outputs": [
    {
     "data": {
      "text/html": [
       "<div>\n",
       "<table border=\"1\" class=\"dataframe\">\n",
       "  <thead>\n",
       "    <tr style=\"text-align: right;\">\n",
       "      <th></th>\n",
       "      <th>0</th>\n",
       "      <th>1</th>\n",
       "      <th>2</th>\n",
       "      <th>3</th>\n",
       "    </tr>\n",
       "  </thead>\n",
       "  <tbody>\n",
       "    <tr>\n",
       "      <th>0</th>\n",
       "      <td>5</td>\n",
       "      <td>0</td>\n",
       "      <td>5</td>\n",
       "      <td>5.0</td>\n",
       "    </tr>\n",
       "    <tr>\n",
       "      <th>1</th>\n",
       "      <td>6</td>\n",
       "      <td>6</td>\n",
       "      <td>1</td>\n",
       "      <td>7.0</td>\n",
       "    </tr>\n",
       "    <tr>\n",
       "      <th>2</th>\n",
       "      <td>9</td>\n",
       "      <td>1</td>\n",
       "      <td>1</td>\n",
       "      <td>NaN</td>\n",
       "    </tr>\n",
       "  </tbody>\n",
       "</table>\n",
       "</div>"
      ],
      "text/plain": [
       "   0  1  2    3\n",
       "0  5  0  5  5.0\n",
       "1  6  6  1  7.0\n",
       "2  9  1  1  NaN"
      ]
     },
     "execution_count": 26,
     "metadata": {},
     "output_type": "execute_result"
    }
   ],
   "source": [
    "d"
   ]
  },
  {
   "cell_type": "code",
   "execution_count": 27,
   "metadata": {
    "collapsed": false
   },
   "outputs": [
    {
     "data": {
      "text/html": [
       "<div>\n",
       "<table border=\"1\" class=\"dataframe\">\n",
       "  <thead>\n",
       "    <tr style=\"text-align: right;\">\n",
       "      <th></th>\n",
       "      <th>0</th>\n",
       "      <th>1</th>\n",
       "      <th>2</th>\n",
       "    </tr>\n",
       "  </thead>\n",
       "  <tbody>\n",
       "    <tr>\n",
       "      <th>0</th>\n",
       "      <td>5.0</td>\n",
       "      <td>6.0</td>\n",
       "      <td>9.0</td>\n",
       "    </tr>\n",
       "    <tr>\n",
       "      <th>1</th>\n",
       "      <td>0.0</td>\n",
       "      <td>6.0</td>\n",
       "      <td>1.0</td>\n",
       "    </tr>\n",
       "    <tr>\n",
       "      <th>2</th>\n",
       "      <td>5.0</td>\n",
       "      <td>1.0</td>\n",
       "      <td>1.0</td>\n",
       "    </tr>\n",
       "    <tr>\n",
       "      <th>3</th>\n",
       "      <td>5.0</td>\n",
       "      <td>7.0</td>\n",
       "      <td>NaN</td>\n",
       "    </tr>\n",
       "  </tbody>\n",
       "</table>\n",
       "</div>"
      ],
      "text/plain": [
       "     0    1    2\n",
       "0  5.0  6.0  9.0\n",
       "1  0.0  6.0  1.0\n",
       "2  5.0  1.0  1.0\n",
       "3  5.0  7.0  NaN"
      ]
     },
     "execution_count": 27,
     "metadata": {},
     "output_type": "execute_result"
    }
   ],
   "source": [
    "d.T"
   ]
  },
  {
   "cell_type": "markdown",
   "metadata": {},
   "source": [
    "# 数据的导入"
   ]
  },
  {
   "cell_type": "markdown",
   "metadata": {},
   "source": [
    "## 导入csv"
   ]
  },
  {
   "cell_type": "code",
   "execution_count": 42,
   "metadata": {
    "collapsed": false
   },
   "outputs": [],
   "source": [
    "e = pd.read_csv('hexun.csv',encoding = 'gbk')"
   ]
  },
  {
   "cell_type": "code",
   "execution_count": 44,
   "metadata": {
    "collapsed": false
   },
   "outputs": [
    {
     "data": {
      "text/html": [
       "<div>\n",
       "<table border=\"1\" class=\"dataframe\">\n",
       "  <thead>\n",
       "    <tr style=\"text-align: right;\">\n",
       "      <th></th>\n",
       "      <th>1</th>\n",
       "      <th>Unnamed: 1</th>\n",
       "      <th>http://shihanbingblog.blog.hexun.com/108385409_d.html</th>\n",
       "      <th>21</th>\n",
       "      <th>0</th>\n",
       "    </tr>\n",
       "  </thead>\n",
       "  <tbody>\n",
       "    <tr>\n",
       "      <th>0</th>\n",
       "      <td>2</td>\n",
       "      <td>NaN</td>\n",
       "      <td>http://shihanbingblog.blog.hexun.com/108369380...</td>\n",
       "      <td>316</td>\n",
       "      <td>1</td>\n",
       "    </tr>\n",
       "    <tr>\n",
       "      <th>1</th>\n",
       "      <td>3</td>\n",
       "      <td>NaN</td>\n",
       "      <td>http://shihanbingblog.blog.hexun.com/108367966...</td>\n",
       "      <td>212</td>\n",
       "      <td>0</td>\n",
       "    </tr>\n",
       "    <tr>\n",
       "      <th>2</th>\n",
       "      <td>4</td>\n",
       "      <td>NaN</td>\n",
       "      <td>http://shihanbingblog.blog.hexun.com/108366125...</td>\n",
       "      <td>747</td>\n",
       "      <td>1</td>\n",
       "    </tr>\n",
       "    <tr>\n",
       "      <th>3</th>\n",
       "      <td>5</td>\n",
       "      <td>NaN</td>\n",
       "      <td>http://shihanbingblog.blog.hexun.com/108351141...</td>\n",
       "      <td>4661</td>\n",
       "      <td>16</td>\n",
       "    </tr>\n",
       "    <tr>\n",
       "      <th>4</th>\n",
       "      <td>6</td>\n",
       "      <td>NaN</td>\n",
       "      <td>http://shihanbingblog.blog.hexun.com/108346867...</td>\n",
       "      <td>96</td>\n",
       "      <td>0</td>\n",
       "    </tr>\n",
       "    <tr>\n",
       "      <th>5</th>\n",
       "      <td>7</td>\n",
       "      <td>NaN</td>\n",
       "      <td>http://shihanbingblog.blog.hexun.com/108346508...</td>\n",
       "      <td>56</td>\n",
       "      <td>0</td>\n",
       "    </tr>\n",
       "    <tr>\n",
       "      <th>6</th>\n",
       "      <td>8</td>\n",
       "      <td>NaN</td>\n",
       "      <td>http://shihanbingblog.blog.hexun.com/108282776...</td>\n",
       "      <td>3054</td>\n",
       "      <td>4</td>\n",
       "    </tr>\n",
       "    <tr>\n",
       "      <th>7</th>\n",
       "      <td>9</td>\n",
       "      <td>30</td>\n",
       "      <td>http://shihanbingblog.blog.hexun.com/108282774...</td>\n",
       "      <td>294</td>\n",
       "      <td>0</td>\n",
       "    </tr>\n",
       "    <tr>\n",
       "      <th>8</th>\n",
       "      <td>10</td>\n",
       "      <td>NaN</td>\n",
       "      <td>http://shihanbingblog.blog.hexun.com/108282668...</td>\n",
       "      <td>909</td>\n",
       "      <td>0</td>\n",
       "    </tr>\n",
       "    <tr>\n",
       "      <th>9</th>\n",
       "      <td>11</td>\n",
       "      <td>NaN</td>\n",
       "      <td>http://shihanbingblog.blog.hexun.com/95933208_...</td>\n",
       "      <td>36</td>\n",
       "      <td>0</td>\n",
       "    </tr>\n",
       "    <tr>\n",
       "      <th>10</th>\n",
       "      <td>12</td>\n",
       "      <td>shihanbing2016</td>\n",
       "      <td>http://shihanbingblog.blog.hexun.com/95933207_...</td>\n",
       "      <td>27</td>\n",
       "      <td>0</td>\n",
       "    </tr>\n",
       "    <tr>\n",
       "      <th>11</th>\n",
       "      <td>13</td>\n",
       "      <td>NaN</td>\n",
       "      <td>http://shihanbingblog.blog.hexun.com/95933206_...</td>\n",
       "      <td>17</td>\n",
       "      <td>0</td>\n",
       "    </tr>\n",
       "    <tr>\n",
       "      <th>12</th>\n",
       "      <td>14</td>\n",
       "      <td>21</td>\n",
       "      <td>http://shihanbingblog.blog.hexun.com/95933205_...</td>\n",
       "      <td>40</td>\n",
       "      <td>0</td>\n",
       "    </tr>\n",
       "    <tr>\n",
       "      <th>13</th>\n",
       "      <td>15</td>\n",
       "      <td>NaN</td>\n",
       "      <td>http://shihanbingblog.blog.hexun.com/95933203_...</td>\n",
       "      <td>45</td>\n",
       "      <td>0</td>\n",
       "    </tr>\n",
       "    <tr>\n",
       "      <th>14</th>\n",
       "      <td>16</td>\n",
       "      <td>NaN</td>\n",
       "      <td>http://shihanbingblog.blog.hexun.com/95933202_...</td>\n",
       "      <td>34</td>\n",
       "      <td>0</td>\n",
       "    </tr>\n",
       "    <tr>\n",
       "      <th>15</th>\n",
       "      <td>17</td>\n",
       "      <td>dPeterD.Schiff</td>\n",
       "      <td>http://shihanbingblog.blog.hexun.com/95933201_...</td>\n",
       "      <td>36</td>\n",
       "      <td>0</td>\n",
       "    </tr>\n",
       "    <tr>\n",
       "      <th>16</th>\n",
       "      <td>18</td>\n",
       "      <td>RobertH.Frank</td>\n",
       "      <td>http://shihanbingblog.blog.hexun.com/95933198_...</td>\n",
       "      <td>10</td>\n",
       "      <td>0</td>\n",
       "    </tr>\n",
       "    <tr>\n",
       "      <th>17</th>\n",
       "      <td>19</td>\n",
       "      <td>JohnMauldinJonatha</td>\n",
       "      <td>http://shihanbingblog.blog.hexun.com/95933197_...</td>\n",
       "      <td>19</td>\n",
       "      <td>0</td>\n",
       "    </tr>\n",
       "    <tr>\n",
       "      <th>18</th>\n",
       "      <td>20</td>\n",
       "      <td>NaN</td>\n",
       "      <td>http://shihanbingblog.blog.hexun.com/95933195_...</td>\n",
       "      <td>17</td>\n",
       "      <td>0</td>\n",
       "    </tr>\n",
       "    <tr>\n",
       "      <th>19</th>\n",
       "      <td>21</td>\n",
       "      <td>NaN</td>\n",
       "      <td>http://shihanbingblog.blog.hexun.com/95933174_...</td>\n",
       "      <td>14</td>\n",
       "      <td>0</td>\n",
       "    </tr>\n",
       "    <tr>\n",
       "      <th>20</th>\n",
       "      <td>22</td>\n",
       "      <td>115</td>\n",
       "      <td>http://shihanbingblog.blog.hexun.com/95933173_...</td>\n",
       "      <td>59</td>\n",
       "      <td>0</td>\n",
       "    </tr>\n",
       "    <tr>\n",
       "      <th>21</th>\n",
       "      <td>23</td>\n",
       "      <td>2013</td>\n",
       "      <td>http://shihanbingblog.blog.hexun.com/95933172_...</td>\n",
       "      <td>21</td>\n",
       "      <td>0</td>\n",
       "    </tr>\n",
       "    <tr>\n",
       "      <th>22</th>\n",
       "      <td>24</td>\n",
       "      <td>NaN</td>\n",
       "      <td>http://shihanbingblog.blog.hexun.com/95933171_...</td>\n",
       "      <td>14</td>\n",
       "      <td>0</td>\n",
       "    </tr>\n",
       "    <tr>\n",
       "      <th>23</th>\n",
       "      <td>25</td>\n",
       "      <td>NaN</td>\n",
       "      <td>http://shihanbingblog.blog.hexun.com/95933170_...</td>\n",
       "      <td>8</td>\n",
       "      <td>0</td>\n",
       "    </tr>\n",
       "    <tr>\n",
       "      <th>24</th>\n",
       "      <td>26</td>\n",
       "      <td>NaN</td>\n",
       "      <td>http://shihanbingblog.blog.hexun.com/95933169_...</td>\n",
       "      <td>11</td>\n",
       "      <td>0</td>\n",
       "    </tr>\n",
       "    <tr>\n",
       "      <th>25</th>\n",
       "      <td>27</td>\n",
       "      <td>NaN</td>\n",
       "      <td>http://shihanbingblog.blog.hexun.com/95933167_...</td>\n",
       "      <td>9</td>\n",
       "      <td>0</td>\n",
       "    </tr>\n",
       "    <tr>\n",
       "      <th>26</th>\n",
       "      <td>28</td>\n",
       "      <td>NaN</td>\n",
       "      <td>http://shihanbingblog.blog.hexun.com/95933166_...</td>\n",
       "      <td>10</td>\n",
       "      <td>0</td>\n",
       "    </tr>\n",
       "    <tr>\n",
       "      <th>27</th>\n",
       "      <td>29</td>\n",
       "      <td>NaN</td>\n",
       "      <td>http://shihanbingblog.blog.hexun.com/95933164_...</td>\n",
       "      <td>9</td>\n",
       "      <td>0</td>\n",
       "    </tr>\n",
       "    <tr>\n",
       "      <th>28</th>\n",
       "      <td>30</td>\n",
       "      <td>NaN</td>\n",
       "      <td>http://shihanbingblog.blog.hexun.com/95933162_...</td>\n",
       "      <td>4</td>\n",
       "      <td>0</td>\n",
       "    </tr>\n",
       "    <tr>\n",
       "      <th>29</th>\n",
       "      <td>31</td>\n",
       "      <td>NaN</td>\n",
       "      <td>http://shihanbingblog.blog.hexun.com/95933232_...</td>\n",
       "      <td>101</td>\n",
       "      <td>0</td>\n",
       "    </tr>\n",
       "    <tr>\n",
       "      <th>...</th>\n",
       "      <td>...</td>\n",
       "      <td>...</td>\n",
       "      <td>...</td>\n",
       "      <td>...</td>\n",
       "      <td>...</td>\n",
       "    </tr>\n",
       "    <tr>\n",
       "      <th>5666</th>\n",
       "      <td>5668</td>\n",
       "      <td>NaN</td>\n",
       "      <td>http://19940007.blog.hexun.com/107901832_d.html</td>\n",
       "      <td>983</td>\n",
       "      <td>2</td>\n",
       "    </tr>\n",
       "    <tr>\n",
       "      <th>5667</th>\n",
       "      <td>5669</td>\n",
       "      <td>NaN</td>\n",
       "      <td>http://19940007.blog.hexun.com/107884388_d.html</td>\n",
       "      <td>757</td>\n",
       "      <td>0</td>\n",
       "    </tr>\n",
       "    <tr>\n",
       "      <th>5668</th>\n",
       "      <td>5670</td>\n",
       "      <td>NaN</td>\n",
       "      <td>http://19940007.blog.hexun.com/107862834_d.html</td>\n",
       "      <td>1356</td>\n",
       "      <td>0</td>\n",
       "    </tr>\n",
       "    <tr>\n",
       "      <th>5669</th>\n",
       "      <td>5671</td>\n",
       "      <td>NaN</td>\n",
       "      <td>http://19940007.blog.hexun.com/107842655_d.html</td>\n",
       "      <td>904</td>\n",
       "      <td>2</td>\n",
       "    </tr>\n",
       "    <tr>\n",
       "      <th>5670</th>\n",
       "      <td>5672</td>\n",
       "      <td>NaN</td>\n",
       "      <td>http://19940007.blog.hexun.com/107836797_d.html</td>\n",
       "      <td>43</td>\n",
       "      <td>0</td>\n",
       "    </tr>\n",
       "    <tr>\n",
       "      <th>5671</th>\n",
       "      <td>5673</td>\n",
       "      <td>NaN</td>\n",
       "      <td>http://19940007.blog.hexun.com/107836702_d.html</td>\n",
       "      <td>38</td>\n",
       "      <td>0</td>\n",
       "    </tr>\n",
       "    <tr>\n",
       "      <th>5672</th>\n",
       "      <td>5674</td>\n",
       "      <td>NaN</td>\n",
       "      <td>http://19940007.blog.hexun.com/107827124_d.html</td>\n",
       "      <td>19</td>\n",
       "      <td>0</td>\n",
       "    </tr>\n",
       "    <tr>\n",
       "      <th>5673</th>\n",
       "      <td>5675</td>\n",
       "      <td>1500</td>\n",
       "      <td>http://19940007.blog.hexun.com/107805968_d.html</td>\n",
       "      <td>2082</td>\n",
       "      <td>9</td>\n",
       "    </tr>\n",
       "    <tr>\n",
       "      <th>5674</th>\n",
       "      <td>5676</td>\n",
       "      <td>NaN</td>\n",
       "      <td>http://19940007.blog.hexun.com/107783326_d.html</td>\n",
       "      <td>10</td>\n",
       "      <td>0</td>\n",
       "    </tr>\n",
       "    <tr>\n",
       "      <th>5675</th>\n",
       "      <td>5677</td>\n",
       "      <td>NaN</td>\n",
       "      <td>http://19940007.blog.hexun.com/103681484_d.html</td>\n",
       "      <td>582</td>\n",
       "      <td>0</td>\n",
       "    </tr>\n",
       "    <tr>\n",
       "      <th>5676</th>\n",
       "      <td>5678</td>\n",
       "      <td>NaN</td>\n",
       "      <td>http://19940007.blog.hexun.com/103660549_d.html</td>\n",
       "      <td>1818</td>\n",
       "      <td>0</td>\n",
       "    </tr>\n",
       "    <tr>\n",
       "      <th>5677</th>\n",
       "      <td>5679</td>\n",
       "      <td>ABC</td>\n",
       "      <td>http://19940007.blog.hexun.com/103654049_d.html</td>\n",
       "      <td>11</td>\n",
       "      <td>0</td>\n",
       "    </tr>\n",
       "    <tr>\n",
       "      <th>5678</th>\n",
       "      <td>5680</td>\n",
       "      <td>NaN</td>\n",
       "      <td>http://19940007.blog.hexun.com/103642527_d.html</td>\n",
       "      <td>764</td>\n",
       "      <td>0</td>\n",
       "    </tr>\n",
       "    <tr>\n",
       "      <th>5679</th>\n",
       "      <td>5681</td>\n",
       "      <td>w</td>\n",
       "      <td>http://19940007.blog.hexun.com/103619182_d.html</td>\n",
       "      <td>543</td>\n",
       "      <td>0</td>\n",
       "    </tr>\n",
       "    <tr>\n",
       "      <th>5680</th>\n",
       "      <td>5682</td>\n",
       "      <td>NaN</td>\n",
       "      <td>http://19940007.blog.hexun.com/103595676_d.html</td>\n",
       "      <td>569</td>\n",
       "      <td>0</td>\n",
       "    </tr>\n",
       "    <tr>\n",
       "      <th>5681</th>\n",
       "      <td>5683</td>\n",
       "      <td>11</td>\n",
       "      <td>http://19940007.blog.hexun.com/103561556_d.html</td>\n",
       "      <td>228</td>\n",
       "      <td>0</td>\n",
       "    </tr>\n",
       "    <tr>\n",
       "      <th>5682</th>\n",
       "      <td>5684</td>\n",
       "      <td>253</td>\n",
       "      <td>http://19940007.blog.hexun.com/103536078_d.html</td>\n",
       "      <td>718</td>\n",
       "      <td>0</td>\n",
       "    </tr>\n",
       "    <tr>\n",
       "      <th>5683</th>\n",
       "      <td>5685</td>\n",
       "      <td>NaN</td>\n",
       "      <td>http://19940007.blog.hexun.com/103514260_d.html</td>\n",
       "      <td>939</td>\n",
       "      <td>1</td>\n",
       "    </tr>\n",
       "    <tr>\n",
       "      <th>5684</th>\n",
       "      <td>5686</td>\n",
       "      <td>NaN</td>\n",
       "      <td>http://19940007.blog.hexun.com/103506779_d.html</td>\n",
       "      <td>1204</td>\n",
       "      <td>2</td>\n",
       "    </tr>\n",
       "    <tr>\n",
       "      <th>5685</th>\n",
       "      <td>5687</td>\n",
       "      <td>NaN</td>\n",
       "      <td>http://19940007.blog.hexun.com/79305822_d.html</td>\n",
       "      <td>1</td>\n",
       "      <td>0</td>\n",
       "    </tr>\n",
       "    <tr>\n",
       "      <th>5686</th>\n",
       "      <td>5688</td>\n",
       "      <td>NaN</td>\n",
       "      <td>http://19940007.blog.hexun.com/79305819_d.html</td>\n",
       "      <td>2</td>\n",
       "      <td>0</td>\n",
       "    </tr>\n",
       "    <tr>\n",
       "      <th>5687</th>\n",
       "      <td>5689</td>\n",
       "      <td>NaN</td>\n",
       "      <td>http://19940007.blog.hexun.com/79305818_d.html</td>\n",
       "      <td>1</td>\n",
       "      <td>0</td>\n",
       "    </tr>\n",
       "    <tr>\n",
       "      <th>5688</th>\n",
       "      <td>5690</td>\n",
       "      <td>118</td>\n",
       "      <td>http://19940007.blog.hexun.com/79305815_d.html</td>\n",
       "      <td>1</td>\n",
       "      <td>0</td>\n",
       "    </tr>\n",
       "    <tr>\n",
       "      <th>5689</th>\n",
       "      <td>5691</td>\n",
       "      <td>NaN</td>\n",
       "      <td>http://19940007.blog.hexun.com/79305814_d.html</td>\n",
       "      <td>1</td>\n",
       "      <td>0</td>\n",
       "    </tr>\n",
       "    <tr>\n",
       "      <th>5690</th>\n",
       "      <td>5692</td>\n",
       "      <td>NaN</td>\n",
       "      <td>http://19940007.blog.hexun.com/79305811_d.html</td>\n",
       "      <td>1</td>\n",
       "      <td>0</td>\n",
       "    </tr>\n",
       "    <tr>\n",
       "      <th>5691</th>\n",
       "      <td>5693</td>\n",
       "      <td>5</td>\n",
       "      <td>http://19940007.blog.hexun.com/79305808_d.html</td>\n",
       "      <td>1</td>\n",
       "      <td>0</td>\n",
       "    </tr>\n",
       "    <tr>\n",
       "      <th>5692</th>\n",
       "      <td>5694</td>\n",
       "      <td>NaN</td>\n",
       "      <td>http://19940007.blog.hexun.com/79305806_d.html</td>\n",
       "      <td>1</td>\n",
       "      <td>0</td>\n",
       "    </tr>\n",
       "    <tr>\n",
       "      <th>5693</th>\n",
       "      <td>5695</td>\n",
       "      <td>2010</td>\n",
       "      <td>http://19940007.blog.hexun.com/79305805_d.html</td>\n",
       "      <td>2</td>\n",
       "      <td>0</td>\n",
       "    </tr>\n",
       "    <tr>\n",
       "      <th>5694</th>\n",
       "      <td>5696</td>\n",
       "      <td>NaN</td>\n",
       "      <td>http://19940007.blog.hexun.com/79305804_d.html</td>\n",
       "      <td>1</td>\n",
       "      <td>0</td>\n",
       "    </tr>\n",
       "    <tr>\n",
       "      <th>5695</th>\n",
       "      <td>5697</td>\n",
       "      <td>uiuyas</td>\n",
       "      <td>jkhahkah</td>\n",
       "      <td>9</td>\n",
       "      <td>10</td>\n",
       "    </tr>\n",
       "  </tbody>\n",
       "</table>\n",
       "<p>5696 rows × 5 columns</p>\n",
       "</div>"
      ],
      "text/plain": [
       "         1          Unnamed: 1  \\\n",
       "0        2                 NaN   \n",
       "1        3                 NaN   \n",
       "2        4                 NaN   \n",
       "3        5                 NaN   \n",
       "4        6                 NaN   \n",
       "5        7                 NaN   \n",
       "6        8                 NaN   \n",
       "7        9                  30   \n",
       "8       10                 NaN   \n",
       "9       11                 NaN   \n",
       "10      12      shihanbing2016   \n",
       "11      13                 NaN   \n",
       "12      14                  21   \n",
       "13      15                 NaN   \n",
       "14      16                 NaN   \n",
       "15      17      dPeterD.Schiff   \n",
       "16      18       RobertH.Frank   \n",
       "17      19  JohnMauldinJonatha   \n",
       "18      20                 NaN   \n",
       "19      21                 NaN   \n",
       "20      22                 115   \n",
       "21      23                2013   \n",
       "22      24                 NaN   \n",
       "23      25                 NaN   \n",
       "24      26                 NaN   \n",
       "25      27                 NaN   \n",
       "26      28                 NaN   \n",
       "27      29                 NaN   \n",
       "28      30                 NaN   \n",
       "29      31                 NaN   \n",
       "...    ...                 ...   \n",
       "5666  5668                 NaN   \n",
       "5667  5669                 NaN   \n",
       "5668  5670                 NaN   \n",
       "5669  5671                 NaN   \n",
       "5670  5672                 NaN   \n",
       "5671  5673                 NaN   \n",
       "5672  5674                 NaN   \n",
       "5673  5675                1500   \n",
       "5674  5676                 NaN   \n",
       "5675  5677                 NaN   \n",
       "5676  5678                 NaN   \n",
       "5677  5679                 ABC   \n",
       "5678  5680                 NaN   \n",
       "5679  5681                   w   \n",
       "5680  5682                 NaN   \n",
       "5681  5683                  11   \n",
       "5682  5684                 253   \n",
       "5683  5685                 NaN   \n",
       "5684  5686                 NaN   \n",
       "5685  5687                 NaN   \n",
       "5686  5688                 NaN   \n",
       "5687  5689                 NaN   \n",
       "5688  5690                 118   \n",
       "5689  5691                 NaN   \n",
       "5690  5692                 NaN   \n",
       "5691  5693                   5   \n",
       "5692  5694                 NaN   \n",
       "5693  5695                2010   \n",
       "5694  5696                 NaN   \n",
       "5695  5697              uiuyas   \n",
       "\n",
       "     http://shihanbingblog.blog.hexun.com/108385409_d.html    21   0  \n",
       "0     http://shihanbingblog.blog.hexun.com/108369380...      316   1  \n",
       "1     http://shihanbingblog.blog.hexun.com/108367966...      212   0  \n",
       "2     http://shihanbingblog.blog.hexun.com/108366125...      747   1  \n",
       "3     http://shihanbingblog.blog.hexun.com/108351141...     4661  16  \n",
       "4     http://shihanbingblog.blog.hexun.com/108346867...       96   0  \n",
       "5     http://shihanbingblog.blog.hexun.com/108346508...       56   0  \n",
       "6     http://shihanbingblog.blog.hexun.com/108282776...     3054   4  \n",
       "7     http://shihanbingblog.blog.hexun.com/108282774...      294   0  \n",
       "8     http://shihanbingblog.blog.hexun.com/108282668...      909   0  \n",
       "9     http://shihanbingblog.blog.hexun.com/95933208_...       36   0  \n",
       "10    http://shihanbingblog.blog.hexun.com/95933207_...       27   0  \n",
       "11    http://shihanbingblog.blog.hexun.com/95933206_...       17   0  \n",
       "12    http://shihanbingblog.blog.hexun.com/95933205_...       40   0  \n",
       "13    http://shihanbingblog.blog.hexun.com/95933203_...       45   0  \n",
       "14    http://shihanbingblog.blog.hexun.com/95933202_...       34   0  \n",
       "15    http://shihanbingblog.blog.hexun.com/95933201_...       36   0  \n",
       "16    http://shihanbingblog.blog.hexun.com/95933198_...       10   0  \n",
       "17    http://shihanbingblog.blog.hexun.com/95933197_...       19   0  \n",
       "18    http://shihanbingblog.blog.hexun.com/95933195_...       17   0  \n",
       "19    http://shihanbingblog.blog.hexun.com/95933174_...       14   0  \n",
       "20    http://shihanbingblog.blog.hexun.com/95933173_...       59   0  \n",
       "21    http://shihanbingblog.blog.hexun.com/95933172_...       21   0  \n",
       "22    http://shihanbingblog.blog.hexun.com/95933171_...       14   0  \n",
       "23    http://shihanbingblog.blog.hexun.com/95933170_...        8   0  \n",
       "24    http://shihanbingblog.blog.hexun.com/95933169_...       11   0  \n",
       "25    http://shihanbingblog.blog.hexun.com/95933167_...        9   0  \n",
       "26    http://shihanbingblog.blog.hexun.com/95933166_...       10   0  \n",
       "27    http://shihanbingblog.blog.hexun.com/95933164_...        9   0  \n",
       "28    http://shihanbingblog.blog.hexun.com/95933162_...        4   0  \n",
       "29    http://shihanbingblog.blog.hexun.com/95933232_...      101   0  \n",
       "...                                                 ...      ...  ..  \n",
       "5666    http://19940007.blog.hexun.com/107901832_d.html      983   2  \n",
       "5667    http://19940007.blog.hexun.com/107884388_d.html      757   0  \n",
       "5668    http://19940007.blog.hexun.com/107862834_d.html     1356   0  \n",
       "5669    http://19940007.blog.hexun.com/107842655_d.html      904   2  \n",
       "5670    http://19940007.blog.hexun.com/107836797_d.html       43   0  \n",
       "5671    http://19940007.blog.hexun.com/107836702_d.html       38   0  \n",
       "5672    http://19940007.blog.hexun.com/107827124_d.html       19   0  \n",
       "5673    http://19940007.blog.hexun.com/107805968_d.html     2082   9  \n",
       "5674    http://19940007.blog.hexun.com/107783326_d.html       10   0  \n",
       "5675    http://19940007.blog.hexun.com/103681484_d.html      582   0  \n",
       "5676    http://19940007.blog.hexun.com/103660549_d.html     1818   0  \n",
       "5677    http://19940007.blog.hexun.com/103654049_d.html       11   0  \n",
       "5678    http://19940007.blog.hexun.com/103642527_d.html      764   0  \n",
       "5679    http://19940007.blog.hexun.com/103619182_d.html      543   0  \n",
       "5680    http://19940007.blog.hexun.com/103595676_d.html      569   0  \n",
       "5681    http://19940007.blog.hexun.com/103561556_d.html      228   0  \n",
       "5682    http://19940007.blog.hexun.com/103536078_d.html      718   0  \n",
       "5683    http://19940007.blog.hexun.com/103514260_d.html      939   1  \n",
       "5684    http://19940007.blog.hexun.com/103506779_d.html     1204   2  \n",
       "5685     http://19940007.blog.hexun.com/79305822_d.html        1   0  \n",
       "5686     http://19940007.blog.hexun.com/79305819_d.html        2   0  \n",
       "5687     http://19940007.blog.hexun.com/79305818_d.html        1   0  \n",
       "5688     http://19940007.blog.hexun.com/79305815_d.html        1   0  \n",
       "5689     http://19940007.blog.hexun.com/79305814_d.html        1   0  \n",
       "5690     http://19940007.blog.hexun.com/79305811_d.html        1   0  \n",
       "5691     http://19940007.blog.hexun.com/79305808_d.html        1   0  \n",
       "5692     http://19940007.blog.hexun.com/79305806_d.html        1   0  \n",
       "5693     http://19940007.blog.hexun.com/79305805_d.html        2   0  \n",
       "5694     http://19940007.blog.hexun.com/79305804_d.html        1   0  \n",
       "5695                                           jkhahkah        9  10  \n",
       "\n",
       "[5696 rows x 5 columns]"
      ]
     },
     "execution_count": 44,
     "metadata": {},
     "output_type": "execute_result"
    }
   ],
   "source": [
    "e"
   ]
  },
  {
   "cell_type": "code",
   "execution_count": 46,
   "metadata": {
    "collapsed": false
   },
   "outputs": [
    {
     "data": {
      "text/html": [
       "<div>\n",
       "<table border=\"1\" class=\"dataframe\">\n",
       "  <thead>\n",
       "    <tr style=\"text-align: right;\">\n",
       "      <th></th>\n",
       "      <th>1</th>\n",
       "      <th>21</th>\n",
       "      <th>0</th>\n",
       "    </tr>\n",
       "  </thead>\n",
       "  <tbody>\n",
       "    <tr>\n",
       "      <th>count</th>\n",
       "      <td>5696.000000</td>\n",
       "      <td>5696.000000</td>\n",
       "      <td>5696.000000</td>\n",
       "    </tr>\n",
       "    <tr>\n",
       "      <th>mean</th>\n",
       "      <td>2849.500000</td>\n",
       "      <td>772.570751</td>\n",
       "      <td>4.636236</td>\n",
       "    </tr>\n",
       "    <tr>\n",
       "      <th>std</th>\n",
       "      <td>1644.437898</td>\n",
       "      <td>2814.228154</td>\n",
       "      <td>19.843046</td>\n",
       "    </tr>\n",
       "    <tr>\n",
       "      <th>min</th>\n",
       "      <td>2.000000</td>\n",
       "      <td>1.000000</td>\n",
       "      <td>0.000000</td>\n",
       "    </tr>\n",
       "    <tr>\n",
       "      <th>25%</th>\n",
       "      <td>1425.750000</td>\n",
       "      <td>1.000000</td>\n",
       "      <td>0.000000</td>\n",
       "    </tr>\n",
       "    <tr>\n",
       "      <th>50%</th>\n",
       "      <td>2849.500000</td>\n",
       "      <td>2.000000</td>\n",
       "      <td>0.000000</td>\n",
       "    </tr>\n",
       "    <tr>\n",
       "      <th>75%</th>\n",
       "      <td>4273.250000</td>\n",
       "      <td>110.250000</td>\n",
       "      <td>0.000000</td>\n",
       "    </tr>\n",
       "    <tr>\n",
       "      <th>max</th>\n",
       "      <td>5697.000000</td>\n",
       "      <td>62861.000000</td>\n",
       "      <td>363.000000</td>\n",
       "    </tr>\n",
       "  </tbody>\n",
       "</table>\n",
       "</div>"
      ],
      "text/plain": [
       "                 1            21            0\n",
       "count  5696.000000   5696.000000  5696.000000\n",
       "mean   2849.500000    772.570751     4.636236\n",
       "std    1644.437898   2814.228154    19.843046\n",
       "min       2.000000      1.000000     0.000000\n",
       "25%    1425.750000      1.000000     0.000000\n",
       "50%    2849.500000      2.000000     0.000000\n",
       "75%    4273.250000    110.250000     0.000000\n",
       "max    5697.000000  62861.000000   363.000000"
      ]
     },
     "execution_count": 46,
     "metadata": {},
     "output_type": "execute_result"
    }
   ],
   "source": [
    "e.describe()"
   ]
  },
  {
   "cell_type": "markdown",
   "metadata": {},
   "source": [
    "## 导入excel"
   ]
  },
  {
   "cell_type": "code",
   "execution_count": 48,
   "metadata": {
    "collapsed": true
   },
   "outputs": [],
   "source": [
    "f = pd.read_excel('abc.xls')"
   ]
  },
  {
   "cell_type": "code",
   "execution_count": 49,
   "metadata": {
    "collapsed": false
   },
   "outputs": [
    {
     "data": {
      "text/html": [
       "<div>\n",
       "<table border=\"1\" class=\"dataframe\">\n",
       "  <thead>\n",
       "    <tr style=\"text-align: right;\">\n",
       "      <th></th>\n",
       "      <th>id</th>\n",
       "      <th>阅读数</th>\n",
       "    </tr>\n",
       "  </thead>\n",
       "  <tbody>\n",
       "    <tr>\n",
       "      <th>0</th>\n",
       "      <td>22</td>\n",
       "      <td>8287</td>\n",
       "    </tr>\n",
       "    <tr>\n",
       "      <th>1</th>\n",
       "      <td>223</td>\n",
       "      <td>323</td>\n",
       "    </tr>\n",
       "    <tr>\n",
       "      <th>2</th>\n",
       "      <td>8821</td>\n",
       "      <td>133</td>\n",
       "    </tr>\n",
       "  </tbody>\n",
       "</table>\n",
       "</div>"
      ],
      "text/plain": [
       "     id   阅读数\n",
       "0    22  8287\n",
       "1   223   323\n",
       "2  8821   133"
      ]
     },
     "execution_count": 49,
     "metadata": {},
     "output_type": "execute_result"
    }
   ],
   "source": [
    "f"
   ]
  },
  {
   "cell_type": "markdown",
   "metadata": {},
   "source": [
    "## 导入txt"
   ]
  },
  {
   "cell_type": "code",
   "execution_count": 52,
   "metadata": {
    "collapsed": false
   },
   "outputs": [],
   "source": [
    "g = pd.read_table('gcd.txt')"
   ]
  },
  {
   "cell_type": "code",
   "execution_count": 54,
   "metadata": {
    "collapsed": false
   },
   "outputs": [
    {
     "data": {
      "text/html": [
       "<div>\n",
       "<table border=\"1\" class=\"dataframe\">\n",
       "  <thead>\n",
       "    <tr style=\"text-align: right;\">\n",
       "      <th></th>\n",
       "      <th>《鬼吹灯全》</th>\n",
       "    </tr>\n",
       "  </thead>\n",
       "  <tbody>\n",
       "    <tr>\n",
       "      <th>0</th>\n",
       "      <td>作者：本物天下霸唱</td>\n",
       "    </tr>\n",
       "    <tr>\n",
       "      <th>1</th>\n",
       "      <td>第一集</td>\n",
       "    </tr>\n",
       "    <tr>\n",
       "      <th>2</th>\n",
       "      <td>第一章白纸人</td>\n",
       "    </tr>\n",
       "    <tr>\n",
       "      <th>3</th>\n",
       "      <td>我的祖父叫胡国华，胡家祖上是十里八乡有名的大地主，最辉煌的时期在城里买了三条胡...</td>\n",
       "    </tr>\n",
       "    <tr>\n",
       "      <th>4</th>\n",
       "      <td>民谚有云：“富不过三代。”这话是非常有道理的，家里纵然有金山银山，也架不住败家子孙的挥霍。</td>\n",
       "    </tr>\n",
       "  </tbody>\n",
       "</table>\n",
       "</div>"
      ],
      "text/plain": [
       "                                              《鬼吹灯全》\n",
       "0                                          作者：本物天下霸唱\n",
       "1                                                第一集\n",
       "2                                             第一章白纸人\n",
       "3         我的祖父叫胡国华，胡家祖上是十里八乡有名的大地主，最辉煌的时期在城里买了三条胡...\n",
       "4      民谚有云：“富不过三代。”这话是非常有道理的，家里纵然有金山银山，也架不住败家子孙的挥霍。"
      ]
     },
     "execution_count": 54,
     "metadata": {},
     "output_type": "execute_result"
    }
   ],
   "source": [
    "g.head()"
   ]
  },
  {
   "cell_type": "markdown",
   "metadata": {
    "collapsed": true
   },
   "source": [
    "## 导入sql"
   ]
  },
  {
   "cell_type": "code",
   "execution_count": 56,
   "metadata": {
    "collapsed": true
   },
   "outputs": [],
   "source": [
    "import pymysql"
   ]
  },
  {
   "cell_type": "code",
   "execution_count": 57,
   "metadata": {
    "collapsed": true
   },
   "outputs": [],
   "source": [
    "conn = pymysql.connect(host = '127.0.0.1',user = 'root',passwd = 'jixue',db = 'csdn',charset = 'gbk')\n",
    "sql = 'select * from myhexun'"
   ]
  },
  {
   "cell_type": "code",
   "execution_count": 58,
   "metadata": {
    "collapsed": true
   },
   "outputs": [],
   "source": [
    "h = pd.read_sql(sql,conn)"
   ]
  },
  {
   "cell_type": "code",
   "execution_count": 61,
   "metadata": {
    "collapsed": false
   },
   "outputs": [
    {
     "data": {
      "text/html": [
       "<div>\n",
       "<table border=\"1\" class=\"dataframe\">\n",
       "  <thead>\n",
       "    <tr style=\"text-align: right;\">\n",
       "      <th></th>\n",
       "      <th>id</th>\n",
       "      <th>name</th>\n",
       "      <th>url</th>\n",
       "      <th>hits</th>\n",
       "      <th>comment</th>\n",
       "    </tr>\n",
       "  </thead>\n",
       "  <tbody>\n",
       "    <tr>\n",
       "      <th>0</th>\n",
       "      <td>1</td>\n",
       "      <td>小冰</td>\n",
       "      <td>http://edu.iqianyue.com</td>\n",
       "      <td>2001</td>\n",
       "      <td>2091</td>\n",
       "    </tr>\n",
       "    <tr>\n",
       "      <th>1</th>\n",
       "      <td>2</td>\n",
       "      <td>老时与书</td>\n",
       "      <td>http://shihanbingblog.blog.hexun.com/108369380...</td>\n",
       "      <td>316</td>\n",
       "      <td>1</td>\n",
       "    </tr>\n",
       "    <tr>\n",
       "      <th>2</th>\n",
       "      <td>3</td>\n",
       "      <td>私密写真集，看后请删除（仅限量发售铁杆订户）</td>\n",
       "      <td>http://shihanbingblog.blog.hexun.com/108367966...</td>\n",
       "      <td>212</td>\n",
       "      <td>0</td>\n",
       "    </tr>\n",
       "    <tr>\n",
       "      <th>3</th>\n",
       "      <td>4</td>\n",
       "      <td>时寒冰：私密写真集，看后请删除（仅限量发售铁杆订户）</td>\n",
       "      <td>http://shihanbingblog.blog.hexun.com/108366125...</td>\n",
       "      <td>747</td>\n",
       "      <td>1</td>\n",
       "    </tr>\n",
       "    <tr>\n",
       "      <th>4</th>\n",
       "      <td>5</td>\n",
       "      <td>特朗普一蠢全球股市就大涨</td>\n",
       "      <td>http://shihanbingblog.blog.hexun.com/108351141...</td>\n",
       "      <td>4661</td>\n",
       "      <td>16</td>\n",
       "    </tr>\n",
       "  </tbody>\n",
       "</table>\n",
       "</div>"
      ],
      "text/plain": [
       "   id                        name  \\\n",
       "0   1                          小冰   \n",
       "1   2                        老时与书   \n",
       "2   3      私密写真集，看后请删除（仅限量发售铁杆订户）   \n",
       "3   4  时寒冰：私密写真集，看后请删除（仅限量发售铁杆订户）   \n",
       "4   5                特朗普一蠢全球股市就大涨   \n",
       "\n",
       "                                                 url  hits  comment  \n",
       "0                            http://edu.iqianyue.com  2001     2091  \n",
       "1  http://shihanbingblog.blog.hexun.com/108369380...   316        1  \n",
       "2  http://shihanbingblog.blog.hexun.com/108367966...   212        0  \n",
       "3  http://shihanbingblog.blog.hexun.com/108366125...   747        1  \n",
       "4  http://shihanbingblog.blog.hexun.com/108351141...  4661       16  "
      ]
     },
     "execution_count": 61,
     "metadata": {},
     "output_type": "execute_result"
    }
   ],
   "source": [
    "h.head()"
   ]
  },
  {
   "cell_type": "markdown",
   "metadata": {},
   "source": [
    "## 导入html"
   ]
  },
  {
   "cell_type": "code",
   "execution_count": 64,
   "metadata": {
    "collapsed": false
   },
   "outputs": [],
   "source": [
    "i = pd.read_html('abc.html')"
   ]
  },
  {
   "cell_type": "code",
   "execution_count": 65,
   "metadata": {
    "collapsed": false
   },
   "outputs": [
    {
     "data": {
      "text/plain": [
       "[   0  1\n",
       " 0  7  9\n",
       " 1  5  8\n",
       " 2  2  6]"
      ]
     },
     "execution_count": 65,
     "metadata": {},
     "output_type": "execute_result"
    }
   ],
   "source": [
    "i"
   ]
  },
  {
   "cell_type": "markdown",
   "metadata": {},
   "source": [
    "# 数据可视化分析"
   ]
  },
  {
   "cell_type": "markdown",
   "metadata": {},
   "source": [
    "## 折线图／散点图"
   ]
  },
  {
   "cell_type": "code",
   "execution_count": 71,
   "metadata": {
    "collapsed": true
   },
   "outputs": [],
   "source": [
    "import matplotlib.pylab as pyl"
   ]
  },
  {
   "cell_type": "code",
   "execution_count": 72,
   "metadata": {
    "collapsed": true
   },
   "outputs": [],
   "source": [
    "x=[1,2,3,4,8]\n",
    "y=[5,7,2,1,5]"
   ]
  },
  {
   "cell_type": "code",
   "execution_count": 81,
   "metadata": {
    "collapsed": false
   },
   "outputs": [
    {
     "data": {
      "image/png": "[encoded data removed]",
      "text/plain": [
       "<matplotlib.figure.Figure at 0x1160e1908>"
      ]
     },
     "metadata": {},
     "output_type": "display_data"
    }
   ],
   "source": [
    "pyl.plot(x,y)\n",
    "pyl.show()"
   ]
  },
  {
   "cell_type": "code",
   "execution_count": 82,
   "metadata": {
    "collapsed": false
   },
   "outputs": [
    {
     "data": {
      "image/png": "[encoded data removed]",
      "text/plain": [
       "<matplotlib.figure.Figure at 0x116377b70>"
      ]
     },
     "metadata": {},
     "output_type": "display_data"
    }
   ],
   "source": [
    "pyl.scatter(x,y)\n",
    "pyl.show()"
   ]
  },
  {
   "cell_type": "markdown",
   "metadata": {},
   "source": [
    "```\n",
    "c 青色\n",
    "r 红色\n",
    "m 品红\n",
    "g 绿色\n",
    "b 蓝色\n",
    "y 黄色\n",
    "k 黑色\n",
    "w 白色\n",
    "```"
   ]
  },
  {
   "cell_type": "markdown",
   "metadata": {},
   "source": [
    "```\n",
    "s 方形\n",
    "* 星形\n",
    "p 五角形\n",
    "```"
   ]
  },
  {
   "cell_type": "markdown",
   "metadata": {},
   "source": [
    "```\n",
    "- 直线\n",
    "--  虚线\n",
    "-. -.\n",
    ": 细小虚线\n",
    "```"
   ]
  },
  {
   "cell_type": "code",
   "execution_count": 88,
   "metadata": {
    "collapsed": false
   },
   "outputs": [
    {
     "data": {
      "image/png": "[encoded data removed]",
      "text/plain": [
       "<matplotlib.figure.Figure at 0x11639fe48>"
      ]
     },
     "metadata": {},
     "output_type": "display_data"
    }
   ],
   "source": [
    "pyl.title('show')\n",
    "pyl.xlabel('ages')\n",
    "pyl.ylabel('temp')\n",
    "pyl.xlim(0,20)\n",
    "pyl.ylim(0,15)\n",
    "pyl.plot(x,y,'r+')\n",
    "pyl.show()"
   ]
  },
  {
   "cell_type": "code",
   "execution_count": 86,
   "metadata": {
    "collapsed": true
   },
   "outputs": [],
   "source": [
    "pyl.plot?"
   ]
  },
  {
   "cell_type": "code",
   "execution_count": 90,
   "metadata": {
    "collapsed": true
   },
   "outputs": [],
   "source": [
    "pyl.scatter?"
   ]
  },
  {
   "cell_type": "markdown",
   "metadata": {},
   "source": [
    "## 随机数生成"
   ]
  },
  {
   "cell_type": "code",
   "execution_count": 96,
   "metadata": {
    "collapsed": true
   },
   "outputs": [],
   "source": [
    "dt1 = np.random.randint(1,30,10)"
   ]
  },
  {
   "cell_type": "code",
   "execution_count": 97,
   "metadata": {
    "collapsed": false
   },
   "outputs": [
    {
     "data": {
      "text/plain": [
       "array([ 1, 19,  9,  8, 28, 20, 26, 15,  8, 21])"
      ]
     },
     "execution_count": 97,
     "metadata": {},
     "output_type": "execute_result"
    }
   ],
   "source": [
    "dt1"
   ]
  },
  {
   "cell_type": "code",
   "execution_count": 98,
   "metadata": {
    "collapsed": true
   },
   "outputs": [],
   "source": [
    "dt2 = np.random.normal(2.0,5.0,30)"
   ]
  },
  {
   "cell_type": "code",
   "execution_count": 99,
   "metadata": {
    "collapsed": false
   },
   "outputs": [
    {
     "data": {
      "text/plain": [
       "array([ -3.84202903,   2.26659235,   4.94207713,   9.92343622,\n",
       "        -4.61445874,   1.75847688,  -3.34925769,   8.44143123,\n",
       "         0.13250066,   3.53123258,   4.37293391,  -1.7331876 ,\n",
       "        10.3808018 ,   6.35353742,   0.98793153,   6.50270091,\n",
       "         3.9858797 ,  -0.76149464,  -0.40389344,   4.27530475,\n",
       "        -0.63159341,   6.1588413 ,  -1.06833496,   5.80803497,\n",
       "         0.65464214,  -4.0458182 ,   2.15655789,   2.07004108,\n",
       "         3.46600046,   5.21634976])"
      ]
     },
     "execution_count": 99,
     "metadata": {},
     "output_type": "execute_result"
    }
   ],
   "source": [
    "dt2"
   ]
  },
  {
   "cell_type": "markdown",
   "metadata": {},
   "source": [
    "## 直方图"
   ]
  },
  {
   "cell_type": "code",
   "execution_count": 101,
   "metadata": {
    "collapsed": false
   },
   "outputs": [
    {
     "data": {
      "image/png": "[encoded data removed]",
      "text/plain": [
       "<matplotlib.figure.Figure at 0x11639ff60>"
      ]
     },
     "metadata": {},
     "output_type": "display_data"
    }
   ],
   "source": [
    "pyl.hist(dt2)\n",
    "pyl.show()"
   ]
  },
  {
   "cell_type": "code",
   "execution_count": 102,
   "metadata": {
    "collapsed": false
   },
   "outputs": [
    {
     "data": {
      "image/png": "[encoded data removed]",
      "text/plain": [
       "<matplotlib.figure.Figure at 0x11662cf98>"
      ]
     },
     "metadata": {},
     "output_type": "display_data"
    }
   ],
   "source": [
    "sty = np.arange(1,30,2)\n",
    "pyl.hist(dt2,histtype = 'stepfilled')\n",
    "pyl.show()"
   ]
  },
  {
   "cell_type": "code",
   "execution_count": 103,
   "metadata": {
    "collapsed": true
   },
   "outputs": [],
   "source": [
    "pyl.hist?"
   ]
  },
  {
   "cell_type": "markdown",
   "metadata": {},
   "source": [
    "## 子图"
   ]
  },
  {
   "cell_type": "code",
   "execution_count": 106,
   "metadata": {
    "collapsed": false
   },
   "outputs": [
    {
     "data": {
      "image/png": "[encoded data removed]",
      "text/plain": [
       "<matplotlib.figure.Figure at 0x1163c0f60>"
      ]
     },
     "metadata": {},
     "output_type": "display_data"
    }
   ],
   "source": [
    "x1 = [1,2,3,4,8]\n",
    "y1 = [5,7,2,1,5]\n",
    "x2 = [1,4,6,9]\n",
    "y2 = [3,21,21,32]\n",
    "x3 = [3,6,7,10,12]\n",
    "y3 = [12,24,36,58,62]\n",
    "pyl.subplot(2,2,1)\n",
    "pyl.plot(x1,y1)\n",
    "pyl.subplot(2,2,2)\n",
    "pyl.plot(x2,y2)\n",
    "pyl.subplot(2,1,2)\n",
    "pyl.plot(x3,y3)\n",
    "pyl.show()"
   ]
  },
  {
   "cell_type": "markdown",
   "metadata": {},
   "source": [
    "## 读取和讯博客的数据并进行可视化分析"
   ]
  },
  {
   "cell_type": "code",
   "execution_count": 108,
   "metadata": {
    "collapsed": false
   },
   "outputs": [
    {
     "data": {
      "text/html": [
       "<div>\n",
       "<table border=\"1\" class=\"dataframe\">\n",
       "  <thead>\n",
       "    <tr style=\"text-align: right;\">\n",
       "      <th></th>\n",
       "      <th>id</th>\n",
       "      <th>name</th>\n",
       "      <th>url</th>\n",
       "      <th>hits</th>\n",
       "      <th>comment</th>\n",
       "    </tr>\n",
       "  </thead>\n",
       "  <tbody>\n",
       "    <tr>\n",
       "      <th>0</th>\n",
       "      <td>1</td>\n",
       "      <td>小冰</td>\n",
       "      <td>http://edu.iqianyue.com</td>\n",
       "      <td>2001</td>\n",
       "      <td>2091</td>\n",
       "    </tr>\n",
       "    <tr>\n",
       "      <th>1</th>\n",
       "      <td>2</td>\n",
       "      <td>老时与书</td>\n",
       "      <td>http://shihanbingblog.blog.hexun.com/108369380...</td>\n",
       "      <td>316</td>\n",
       "      <td>1</td>\n",
       "    </tr>\n",
       "    <tr>\n",
       "      <th>2</th>\n",
       "      <td>3</td>\n",
       "      <td>私密写真集，看后请删除（仅限量发售铁杆订户）</td>\n",
       "      <td>http://shihanbingblog.blog.hexun.com/108367966...</td>\n",
       "      <td>212</td>\n",
       "      <td>0</td>\n",
       "    </tr>\n",
       "    <tr>\n",
       "      <th>3</th>\n",
       "      <td>4</td>\n",
       "      <td>时寒冰：私密写真集，看后请删除（仅限量发售铁杆订户）</td>\n",
       "      <td>http://shihanbingblog.blog.hexun.com/108366125...</td>\n",
       "      <td>747</td>\n",
       "      <td>1</td>\n",
       "    </tr>\n",
       "    <tr>\n",
       "      <th>4</th>\n",
       "      <td>5</td>\n",
       "      <td>特朗普一蠢全球股市就大涨</td>\n",
       "      <td>http://shihanbingblog.blog.hexun.com/108351141...</td>\n",
       "      <td>4661</td>\n",
       "      <td>16</td>\n",
       "    </tr>\n",
       "    <tr>\n",
       "      <th>5</th>\n",
       "      <td>6</td>\n",
       "      <td>时寒冰：为何特朗普一蠢全球股市就大涨</td>\n",
       "      <td>http://shihanbingblog.blog.hexun.com/108346867...</td>\n",
       "      <td>96</td>\n",
       "      <td>0</td>\n",
       "    </tr>\n",
       "    <tr>\n",
       "      <th>6</th>\n",
       "      <td>7</td>\n",
       "      <td>特朗普一蠢全球股市就大涨</td>\n",
       "      <td>http://shihanbingblog.blog.hexun.com/108346508...</td>\n",
       "      <td>56</td>\n",
       "      <td>0</td>\n",
       "    </tr>\n",
       "    <tr>\n",
       "      <th>7</th>\n",
       "      <td>8</td>\n",
       "      <td>剖析楼市真相与趋势（万字长文）</td>\n",
       "      <td>http://shihanbingblog.blog.hexun.com/108282776...</td>\n",
       "      <td>3054</td>\n",
       "      <td>4</td>\n",
       "    </tr>\n",
       "    <tr>\n",
       "      <th>8</th>\n",
       "      <td>9</td>\n",
       "      <td>第五次产业大转移与未来30年国运</td>\n",
       "      <td>http://shihanbingblog.blog.hexun.com/108282774...</td>\n",
       "      <td>294</td>\n",
       "      <td>0</td>\n",
       "    </tr>\n",
       "    <tr>\n",
       "      <th>9</th>\n",
       "      <td>10</td>\n",
       "      <td>剖析中国股市之趋势</td>\n",
       "      <td>http://shihanbingblog.blog.hexun.com/108282668...</td>\n",
       "      <td>909</td>\n",
       "      <td>0</td>\n",
       "    </tr>\n",
       "    <tr>\n",
       "      <th>10</th>\n",
       "      <td>11</td>\n",
       "      <td>时寒冰：欧央行负利率之剑</td>\n",
       "      <td>http://shihanbingblog.blog.hexun.com/95933208_...</td>\n",
       "      <td>36</td>\n",
       "      <td>0</td>\n",
       "    </tr>\n",
       "    <tr>\n",
       "      <th>11</th>\n",
       "      <td>12</td>\n",
       "      <td>时寒冰的微信公众号：shihanbing2016</td>\n",
       "      <td>http://shihanbingblog.blog.hexun.com/95933207_...</td>\n",
       "      <td>27</td>\n",
       "      <td>0</td>\n",
       "    </tr>\n",
       "    <tr>\n",
       "      <th>12</th>\n",
       "      <td>13</td>\n",
       "      <td>扁鹊</td>\n",
       "      <td>http://shihanbingblog.blog.hexun.com/95933206_...</td>\n",
       "      <td>17</td>\n",
       "      <td>0</td>\n",
       "    </tr>\n",
       "    <tr>\n",
       "      <th>13</th>\n",
       "      <td>14</td>\n",
       "      <td>大道至简之21：指标趋势意义的拓展</td>\n",
       "      <td>http://shihanbingblog.blog.hexun.com/95933205_...</td>\n",
       "      <td>40</td>\n",
       "      <td>0</td>\n",
       "    </tr>\n",
       "    <tr>\n",
       "      <th>14</th>\n",
       "      <td>15</td>\n",
       "      <td>大道至简之二十：寻找资金密码</td>\n",
       "      <td>http://shihanbingblog.blog.hexun.com/95933203_...</td>\n",
       "      <td>45</td>\n",
       "      <td>0</td>\n",
       "    </tr>\n",
       "    <tr>\n",
       "      <th>15</th>\n",
       "      <td>16</td>\n",
       "      <td>寻找投资品的基础（以澳元为例——大道至简之十九）</td>\n",
       "      <td>http://shihanbingblog.blog.hexun.com/95933202_...</td>\n",
       "      <td>34</td>\n",
       "      <td>0</td>\n",
       "    </tr>\n",
       "    <tr>\n",
       "      <th>16</th>\n",
       "      <td>17</td>\n",
       "      <td>大崩溃的警示意义?——序Peter?D.?Schiff《国家</td>\n",
       "      <td>http://shihanbingblog.blog.hexun.com/95933201_...</td>\n",
       "      <td>36</td>\n",
       "      <td>0</td>\n",
       "    </tr>\n",
       "    <tr>\n",
       "      <th>17</th>\n",
       "      <td>18</td>\n",
       "      <td>以大智慧洞悉世界——序Robert?H.Frank《达尔文经</td>\n",
       "      <td>http://shihanbingblog.blog.hexun.com/95933198_...</td>\n",
       "      <td>10</td>\n",
       "      <td>0</td>\n",
       "    </tr>\n",
       "    <tr>\n",
       "      <th>18</th>\n",
       "      <td>19</td>\n",
       "      <td>当债务主导趋势——序John?Mauldin和Jonatha</td>\n",
       "      <td>http://shihanbingblog.blog.hexun.com/95933197_...</td>\n",
       "      <td>19</td>\n",
       "      <td>0</td>\n",
       "    </tr>\n",
       "    <tr>\n",
       "      <th>19</th>\n",
       "      <td>20</td>\n",
       "      <td>结合大环境分析趋势（以贷款利率下限取消为例——大道至简之十八</td>\n",
       "      <td>http://shihanbingblog.blog.hexun.com/95933195_...</td>\n",
       "      <td>17</td>\n",
       "      <td>0</td>\n",
       "    </tr>\n",
       "    <tr>\n",
       "      <th>20</th>\n",
       "      <td>21</td>\n",
       "      <td>来自加勒比的震撼——序《加勒比飓风》</td>\n",
       "      <td>http://shihanbingblog.blog.hexun.com/95933174_...</td>\n",
       "      <td>14</td>\n",
       "      <td>0</td>\n",
       "    </tr>\n",
       "    <tr>\n",
       "      <th>21</th>\n",
       "      <td>22</td>\n",
       "      <td>“大道至简”投资系列1—15的链接</td>\n",
       "      <td>http://shihanbingblog.blog.hexun.com/95933173_...</td>\n",
       "      <td>59</td>\n",
       "      <td>0</td>\n",
       "    </tr>\n",
       "    <tr>\n",
       "      <th>22</th>\n",
       "      <td>23</td>\n",
       "      <td>2013年投资：拥抱泡沫，与之共舞</td>\n",
       "      <td>http://shihanbingblog.blog.hexun.com/95933172_...</td>\n",
       "      <td>21</td>\n",
       "      <td>0</td>\n",
       "    </tr>\n",
       "    <tr>\n",
       "      <th>23</th>\n",
       "      <td>24</td>\n",
       "      <td>国际大棋局加速演变</td>\n",
       "      <td>http://shihanbingblog.blog.hexun.com/95933171_...</td>\n",
       "      <td>14</td>\n",
       "      <td>0</td>\n",
       "    </tr>\n",
       "    <tr>\n",
       "      <th>24</th>\n",
       "      <td>25</td>\n",
       "      <td>为被黑恶势力欺凌的农民工呼吁</td>\n",
       "      <td>http://shihanbingblog.blog.hexun.com/95933170_...</td>\n",
       "      <td>8</td>\n",
       "      <td>0</td>\n",
       "    </tr>\n",
       "    <tr>\n",
       "      <th>25</th>\n",
       "      <td>26</td>\n",
       "      <td>韩文版《时寒冰说：经济大棋局，我们怎么办》封面</td>\n",
       "      <td>http://shihanbingblog.blog.hexun.com/95933169_...</td>\n",
       "      <td>11</td>\n",
       "      <td>0</td>\n",
       "    </tr>\n",
       "    <tr>\n",
       "      <th>26</th>\n",
       "      <td>27</td>\n",
       "      <td>世界是一盘大棋局</td>\n",
       "      <td>http://shihanbingblog.blog.hexun.com/95933167_...</td>\n",
       "      <td>9</td>\n",
       "      <td>0</td>\n",
       "    </tr>\n",
       "    <tr>\n",
       "      <th>27</th>\n",
       "      <td>28</td>\n",
       "      <td>中国爆发债务危机的双重隐患</td>\n",
       "      <td>http://shihanbingblog.blog.hexun.com/95933166_...</td>\n",
       "      <td>10</td>\n",
       "      <td>0</td>\n",
       "    </tr>\n",
       "    <tr>\n",
       "      <th>28</th>\n",
       "      <td>29</td>\n",
       "      <td>人均收入翻倍能否改变中国国运？</td>\n",
       "      <td>http://shihanbingblog.blog.hexun.com/95933164_...</td>\n",
       "      <td>9</td>\n",
       "      <td>0</td>\n",
       "    </tr>\n",
       "    <tr>\n",
       "      <th>29</th>\n",
       "      <td>30</td>\n",
       "      <td>幸福</td>\n",
       "      <td>http://shihanbingblog.blog.hexun.com/95933162_...</td>\n",
       "      <td>4</td>\n",
       "      <td>0</td>\n",
       "    </tr>\n",
       "    <tr>\n",
       "      <th>...</th>\n",
       "      <td>...</td>\n",
       "      <td>...</td>\n",
       "      <td>...</td>\n",
       "      <td>...</td>\n",
       "      <td>...</td>\n",
       "    </tr>\n",
       "    <tr>\n",
       "      <th>5667</th>\n",
       "      <td>5668</td>\n",
       "      <td>“行贿状元”缘何都能全身而退？</td>\n",
       "      <td>http://19940007.blog.hexun.com/107901832_d.html</td>\n",
       "      <td>983</td>\n",
       "      <td>2</td>\n",
       "    </tr>\n",
       "    <tr>\n",
       "      <th>5668</th>\n",
       "      <td>5669</td>\n",
       "      <td>周蓬安：老婆出轨义子，张纪中应该能承受</td>\n",
       "      <td>http://19940007.blog.hexun.com/107884388_d.html</td>\n",
       "      <td>757</td>\n",
       "      <td>0</td>\n",
       "    </tr>\n",
       "    <tr>\n",
       "      <th>5669</th>\n",
       "      <td>5670</td>\n",
       "      <td>周蓬安：部委的腐败程度吓死本宝宝了</td>\n",
       "      <td>http://19940007.blog.hexun.com/107862834_d.html</td>\n",
       "      <td>1356</td>\n",
       "      <td>0</td>\n",
       "    </tr>\n",
       "    <tr>\n",
       "      <th>5670</th>\n",
       "      <td>5671</td>\n",
       "      <td>扶贫晚宴喝五箱茅台，怎么还打架？</td>\n",
       "      <td>http://19940007.blog.hexun.com/107842655_d.html</td>\n",
       "      <td>904</td>\n",
       "      <td>2</td>\n",
       "    </tr>\n",
       "    <tr>\n",
       "      <th>5671</th>\n",
       "      <td>5672</td>\n",
       "      <td>安溪成“诈骗之乡”，或因司法过于放纵</td>\n",
       "      <td>http://19940007.blog.hexun.com/107836797_d.html</td>\n",
       "      <td>43</td>\n",
       "      <td>0</td>\n",
       "    </tr>\n",
       "    <tr>\n",
       "      <th>5672</th>\n",
       "      <td>5673</td>\n",
       "      <td>安溪成诈骗之乡，或因司法过于放纵</td>\n",
       "      <td>http://19940007.blog.hexun.com/107836702_d.html</td>\n",
       "      <td>38</td>\n",
       "      <td>0</td>\n",
       "    </tr>\n",
       "    <tr>\n",
       "      <th>5673</th>\n",
       "      <td>5674</td>\n",
       "      <td>公安部盯上了，诈骗徐玉玉难逃法网</td>\n",
       "      <td>http://19940007.blog.hexun.com/107827124_d.html</td>\n",
       "      <td>19</td>\n",
       "      <td>0</td>\n",
       "    </tr>\n",
       "    <tr>\n",
       "      <th>5674</th>\n",
       "      <td>5675</td>\n",
       "      <td>医生贪近1500万，令多少患者“等死”？</td>\n",
       "      <td>http://19940007.blog.hexun.com/107805968_d.html</td>\n",
       "      <td>2082</td>\n",
       "      <td>9</td>\n",
       "    </tr>\n",
       "    <tr>\n",
       "      <th>5675</th>\n",
       "      <td>5676</td>\n",
       "      <td>“醉驾入罪”在永州体制内失效了？</td>\n",
       "      <td>http://19940007.blog.hexun.com/107783326_d.html</td>\n",
       "      <td>10</td>\n",
       "      <td>0</td>\n",
       "    </tr>\n",
       "    <tr>\n",
       "      <th>5676</th>\n",
       "      <td>5677</td>\n",
       "      <td>四任宣传部长“落马”，成都怎么啦？</td>\n",
       "      <td>http://19940007.blog.hexun.com/103681484_d.html</td>\n",
       "      <td>582</td>\n",
       "      <td>0</td>\n",
       "    </tr>\n",
       "    <tr>\n",
       "      <th>5677</th>\n",
       "      <td>5678</td>\n",
       "      <td>应深挖“山西首富”单位行贿了谁</td>\n",
       "      <td>http://19940007.blog.hexun.com/103660549_d.html</td>\n",
       "      <td>1818</td>\n",
       "      <td>0</td>\n",
       "    </tr>\n",
       "    <tr>\n",
       "      <th>5678</th>\n",
       "      <td>5679</td>\n",
       "      <td>乱！A地辅警去B地抓C地追逃对象</td>\n",
       "      <td>http://19940007.blog.hexun.com/103654049_d.html</td>\n",
       "      <td>11</td>\n",
       "      <td>0</td>\n",
       "    </tr>\n",
       "    <tr>\n",
       "      <th>5679</th>\n",
       "      <td>5680</td>\n",
       "      <td>公安局长凌晨巡查坠楼身亡，该评烈士</td>\n",
       "      <td>http://19940007.blog.hexun.com/103642527_d.html</td>\n",
       "      <td>764</td>\n",
       "      <td>0</td>\n",
       "    </tr>\n",
       "    <tr>\n",
       "      <th>5680</th>\n",
       "      <td>5681</td>\n",
       "      <td>从扎克伯格“裸捐”，看贪官有多蠢</td>\n",
       "      <td>http://19940007.blog.hexun.com/103619182_d.html</td>\n",
       "      <td>543</td>\n",
       "      <td>0</td>\n",
       "    </tr>\n",
       "    <tr>\n",
       "      <th>5681</th>\n",
       "      <td>5682</td>\n",
       "      <td>举报足协副主席内容，估计水分不大</td>\n",
       "      <td>http://19940007.blog.hexun.com/103595676_d.html</td>\n",
       "      <td>569</td>\n",
       "      <td>0</td>\n",
       "    </tr>\n",
       "    <tr>\n",
       "      <th>5682</th>\n",
       "      <td>5683</td>\n",
       "      <td>精彩11月！再掀“打虎”高潮</td>\n",
       "      <td>http://19940007.blog.hexun.com/103561556_d.html</td>\n",
       "      <td>228</td>\n",
       "      <td>0</td>\n",
       "    </tr>\n",
       "    <tr>\n",
       "      <th>5683</th>\n",
       "      <td>5684</td>\n",
       "      <td>为25元“弃”3岁女儿，愧为父母</td>\n",
       "      <td>http://19940007.blog.hexun.com/103536078_d.html</td>\n",
       "      <td>718</td>\n",
       "      <td>0</td>\n",
       "    </tr>\n",
       "    <tr>\n",
       "      <th>5684</th>\n",
       "      <td>5685</td>\n",
       "      <td>公开哺乳，社会应该点个“赞”！</td>\n",
       "      <td>http://19940007.blog.hexun.com/103514260_d.html</td>\n",
       "      <td>939</td>\n",
       "      <td>1</td>\n",
       "    </tr>\n",
       "    <tr>\n",
       "      <th>5685</th>\n",
       "      <td>5686</td>\n",
       "      <td>毛宁斥满文军吸毒，与台上贪官一个腔</td>\n",
       "      <td>http://19940007.blog.hexun.com/103506779_d.html</td>\n",
       "      <td>1204</td>\n",
       "      <td>2</td>\n",
       "    </tr>\n",
       "    <tr>\n",
       "      <th>5686</th>\n",
       "      <td>5687</td>\n",
       "      <td>张敬礼因发帖而落马，是社会悲哀！</td>\n",
       "      <td>http://19940007.blog.hexun.com/79305822_d.html</td>\n",
       "      <td>1</td>\n",
       "      <td>0</td>\n",
       "    </tr>\n",
       "    <tr>\n",
       "      <th>5687</th>\n",
       "      <td>5688</td>\n",
       "      <td>交通厅长都“不腐败”，才不正常呢</td>\n",
       "      <td>http://19940007.blog.hexun.com/79305819_d.html</td>\n",
       "      <td>2</td>\n",
       "      <td>0</td>\n",
       "    </tr>\n",
       "    <tr>\n",
       "      <th>5688</th>\n",
       "      <td>5689</td>\n",
       "      <td>“四城市试点房产税”，只是空穴来风</td>\n",
       "      <td>http://19940007.blog.hexun.com/79305818_d.html</td>\n",
       "      <td>1</td>\n",
       "      <td>0</td>\n",
       "    </tr>\n",
       "    <tr>\n",
       "      <th>5689</th>\n",
       "      <td>5690</td>\n",
       "      <td>烟草局长1年去港澳18次，赌耶！嫖耶？</td>\n",
       "      <td>http://19940007.blog.hexun.com/79305815_d.html</td>\n",
       "      <td>1</td>\n",
       "      <td>0</td>\n",
       "    </tr>\n",
       "    <tr>\n",
       "      <th>5690</th>\n",
       "      <td>5691</td>\n",
       "      <td>十堰市，还有多少人“被精神病”？</td>\n",
       "      <td>http://19940007.blog.hexun.com/79305814_d.html</td>\n",
       "      <td>1</td>\n",
       "      <td>0</td>\n",
       "    </tr>\n",
       "    <tr>\n",
       "      <th>5691</th>\n",
       "      <td>5692</td>\n",
       "      <td>九江公安局，层层“护犊子”</td>\n",
       "      <td>http://19940007.blog.hexun.com/79305811_d.html</td>\n",
       "      <td>1</td>\n",
       "      <td>0</td>\n",
       "    </tr>\n",
       "    <tr>\n",
       "      <th>5692</th>\n",
       "      <td>5693</td>\n",
       "      <td>婚姻登记全国联网再等5年，是惰政</td>\n",
       "      <td>http://19940007.blog.hexun.com/79305808_d.html</td>\n",
       "      <td>1</td>\n",
       "      <td>0</td>\n",
       "    </tr>\n",
       "    <tr>\n",
       "      <th>5693</th>\n",
       "      <td>5694</td>\n",
       "      <td>海门审计局豪华接待，是权力“互粉”</td>\n",
       "      <td>http://19940007.blog.hexun.com/79305806_d.html</td>\n",
       "      <td>1</td>\n",
       "      <td>0</td>\n",
       "    </tr>\n",
       "    <tr>\n",
       "      <th>5694</th>\n",
       "      <td>5695</td>\n",
       "      <td>2010：参政议政，我乐此不疲</td>\n",
       "      <td>http://19940007.blog.hexun.com/79305805_d.html</td>\n",
       "      <td>2</td>\n",
       "      <td>0</td>\n",
       "    </tr>\n",
       "    <tr>\n",
       "      <th>5695</th>\n",
       "      <td>5696</td>\n",
       "      <td>“两会”前夕，调控政策将加码</td>\n",
       "      <td>http://19940007.blog.hexun.com/79305804_d.html</td>\n",
       "      <td>1</td>\n",
       "      <td>0</td>\n",
       "    </tr>\n",
       "    <tr>\n",
       "      <th>5696</th>\n",
       "      <td>5697</td>\n",
       "      <td>uiuyas</td>\n",
       "      <td>jkhahkah</td>\n",
       "      <td>9</td>\n",
       "      <td>10</td>\n",
       "    </tr>\n",
       "  </tbody>\n",
       "</table>\n",
       "<p>5697 rows × 5 columns</p>\n",
       "</div>"
      ],
      "text/plain": [
       "        id                            name  \\\n",
       "0        1                              小冰   \n",
       "1        2                            老时与书   \n",
       "2        3          私密写真集，看后请删除（仅限量发售铁杆订户）   \n",
       "3        4      时寒冰：私密写真集，看后请删除（仅限量发售铁杆订户）   \n",
       "4        5                    特朗普一蠢全球股市就大涨   \n",
       "5        6              时寒冰：为何特朗普一蠢全球股市就大涨   \n",
       "6        7                    特朗普一蠢全球股市就大涨   \n",
       "7        8                 剖析楼市真相与趋势（万字长文）   \n",
       "8        9                第五次产业大转移与未来30年国运   \n",
       "9       10                       剖析中国股市之趋势   \n",
       "10      11                    时寒冰：欧央行负利率之剑   \n",
       "11      12        时寒冰的微信公众号：shihanbing2016   \n",
       "12      13                              扁鹊   \n",
       "13      14               大道至简之21：指标趋势意义的拓展   \n",
       "14      15                  大道至简之二十：寻找资金密码   \n",
       "15      16        寻找投资品的基础（以澳元为例——大道至简之十九）   \n",
       "16      17  大崩溃的警示意义?——序Peter?D.?Schiff《国家   \n",
       "17      18  以大智慧洞悉世界——序Robert?H.Frank《达尔文经   \n",
       "18      19  当债务主导趋势——序John?Mauldin和Jonatha   \n",
       "19      20  结合大环境分析趋势（以贷款利率下限取消为例——大道至简之十八   \n",
       "20      21              来自加勒比的震撼——序《加勒比飓风》   \n",
       "21      22               “大道至简”投资系列1—15的链接   \n",
       "22      23               2013年投资：拥抱泡沫，与之共舞   \n",
       "23      24                       国际大棋局加速演变   \n",
       "24      25                  为被黑恶势力欺凌的农民工呼吁   \n",
       "25      26         韩文版《时寒冰说：经济大棋局，我们怎么办》封面   \n",
       "26      27                        世界是一盘大棋局   \n",
       "27      28                   中国爆发债务危机的双重隐患   \n",
       "28      29                 人均收入翻倍能否改变中国国运？   \n",
       "29      30                              幸福   \n",
       "...    ...                             ...   \n",
       "5667  5668                 “行贿状元”缘何都能全身而退？   \n",
       "5668  5669             周蓬安：老婆出轨义子，张纪中应该能承受   \n",
       "5669  5670               周蓬安：部委的腐败程度吓死本宝宝了   \n",
       "5670  5671                扶贫晚宴喝五箱茅台，怎么还打架？   \n",
       "5671  5672              安溪成“诈骗之乡”，或因司法过于放纵   \n",
       "5672  5673                安溪成诈骗之乡，或因司法过于放纵   \n",
       "5673  5674                公安部盯上了，诈骗徐玉玉难逃法网   \n",
       "5674  5675            医生贪近1500万，令多少患者“等死”？   \n",
       "5675  5676                “醉驾入罪”在永州体制内失效了？   \n",
       "5676  5677               四任宣传部长“落马”，成都怎么啦？   \n",
       "5677  5678                 应深挖“山西首富”单位行贿了谁   \n",
       "5678  5679                乱！A地辅警去B地抓C地追逃对象   \n",
       "5679  5680               公安局长凌晨巡查坠楼身亡，该评烈士   \n",
       "5680  5681                从扎克伯格“裸捐”，看贪官有多蠢   \n",
       "5681  5682                举报足协副主席内容，估计水分不大   \n",
       "5682  5683                  精彩11月！再掀“打虎”高潮   \n",
       "5683  5684                为25元“弃”3岁女儿，愧为父母   \n",
       "5684  5685                 公开哺乳，社会应该点个“赞”！   \n",
       "5685  5686               毛宁斥满文军吸毒，与台上贪官一个腔   \n",
       "5686  5687                张敬礼因发帖而落马，是社会悲哀！   \n",
       "5687  5688                交通厅长都“不腐败”，才不正常呢   \n",
       "5688  5689               “四城市试点房产税”，只是空穴来风   \n",
       "5689  5690             烟草局长1年去港澳18次，赌耶！嫖耶？   \n",
       "5690  5691                十堰市，还有多少人“被精神病”？   \n",
       "5691  5692                   九江公安局，层层“护犊子”   \n",
       "5692  5693                婚姻登记全国联网再等5年，是惰政   \n",
       "5693  5694               海门审计局豪华接待，是权力“互粉”   \n",
       "5694  5695                 2010：参政议政，我乐此不疲   \n",
       "5695  5696                  “两会”前夕，调控政策将加码   \n",
       "5696  5697                          uiuyas   \n",
       "\n",
       "                                                    url  hits  comment  \n",
       "0                               http://edu.iqianyue.com  2001     2091  \n",
       "1     http://shihanbingblog.blog.hexun.com/108369380...   316        1  \n",
       "2     http://shihanbingblog.blog.hexun.com/108367966...   212        0  \n",
       "3     http://shihanbingblog.blog.hexun.com/108366125...   747        1  \n",
       "4     http://shihanbingblog.blog.hexun.com/108351141...  4661       16  \n",
       "5     http://shihanbingblog.blog.hexun.com/108346867...    96        0  \n",
       "6     http://shihanbingblog.blog.hexun.com/108346508...    56        0  \n",
       "7     http://shihanbingblog.blog.hexun.com/108282776...  3054        4  \n",
       "8     http://shihanbingblog.blog.hexun.com/108282774...   294        0  \n",
       "9     http://shihanbingblog.blog.hexun.com/108282668...   909        0  \n",
       "10    http://shihanbingblog.blog.hexun.com/95933208_...    36        0  \n",
       "11    http://shihanbingblog.blog.hexun.com/95933207_...    27        0  \n",
       "12    http://shihanbingblog.blog.hexun.com/95933206_...    17        0  \n",
       "13    http://shihanbingblog.blog.hexun.com/95933205_...    40        0  \n",
       "14    http://shihanbingblog.blog.hexun.com/95933203_...    45        0  \n",
       "15    http://shihanbingblog.blog.hexun.com/95933202_...    34        0  \n",
       "16    http://shihanbingblog.blog.hexun.com/95933201_...    36        0  \n",
       "17    http://shihanbingblog.blog.hexun.com/95933198_...    10        0  \n",
       "18    http://shihanbingblog.blog.hexun.com/95933197_...    19        0  \n",
       "19    http://shihanbingblog.blog.hexun.com/95933195_...    17        0  \n",
       "20    http://shihanbingblog.blog.hexun.com/95933174_...    14        0  \n",
       "21    http://shihanbingblog.blog.hexun.com/95933173_...    59        0  \n",
       "22    http://shihanbingblog.blog.hexun.com/95933172_...    21        0  \n",
       "23    http://shihanbingblog.blog.hexun.com/95933171_...    14        0  \n",
       "24    http://shihanbingblog.blog.hexun.com/95933170_...     8        0  \n",
       "25    http://shihanbingblog.blog.hexun.com/95933169_...    11        0  \n",
       "26    http://shihanbingblog.blog.hexun.com/95933167_...     9        0  \n",
       "27    http://shihanbingblog.blog.hexun.com/95933166_...    10        0  \n",
       "28    http://shihanbingblog.blog.hexun.com/95933164_...     9        0  \n",
       "29    http://shihanbingblog.blog.hexun.com/95933162_...     4        0  \n",
       "...                                                 ...   ...      ...  \n",
       "5667    http://19940007.blog.hexun.com/107901832_d.html   983        2  \n",
       "5668    http://19940007.blog.hexun.com/107884388_d.html   757        0  \n",
       "5669    http://19940007.blog.hexun.com/107862834_d.html  1356        0  \n",
       "5670    http://19940007.blog.hexun.com/107842655_d.html   904        2  \n",
       "5671    http://19940007.blog.hexun.com/107836797_d.html    43        0  \n",
       "5672    http://19940007.blog.hexun.com/107836702_d.html    38        0  \n",
       "5673    http://19940007.blog.hexun.com/107827124_d.html    19        0  \n",
       "5674    http://19940007.blog.hexun.com/107805968_d.html  2082        9  \n",
       "5675    http://19940007.blog.hexun.com/107783326_d.html    10        0  \n",
       "5676    http://19940007.blog.hexun.com/103681484_d.html   582        0  \n",
       "5677    http://19940007.blog.hexun.com/103660549_d.html  1818        0  \n",
       "5678    http://19940007.blog.hexun.com/103654049_d.html    11        0  \n",
       "5679    http://19940007.blog.hexun.com/103642527_d.html   764        0  \n",
       "5680    http://19940007.blog.hexun.com/103619182_d.html   543        0  \n",
       "5681    http://19940007.blog.hexun.com/103595676_d.html   569        0  \n",
       "5682    http://19940007.blog.hexun.com/103561556_d.html   228        0  \n",
       "5683    http://19940007.blog.hexun.com/103536078_d.html   718        0  \n",
       "5684    http://19940007.blog.hexun.com/103514260_d.html   939        1  \n",
       "5685    http://19940007.blog.hexun.com/103506779_d.html  1204        2  \n",
       "5686     http://19940007.blog.hexun.com/79305822_d.html     1        0  \n",
       "5687     http://19940007.blog.hexun.com/79305819_d.html     2        0  \n",
       "5688     http://19940007.blog.hexun.com/79305818_d.html     1        0  \n",
       "5689     http://19940007.blog.hexun.com/79305815_d.html     1        0  \n",
       "5690     http://19940007.blog.hexun.com/79305814_d.html     1        0  \n",
       "5691     http://19940007.blog.hexun.com/79305811_d.html     1        0  \n",
       "5692     http://19940007.blog.hexun.com/79305808_d.html     1        0  \n",
       "5693     http://19940007.blog.hexun.com/79305806_d.html     1        0  \n",
       "5694     http://19940007.blog.hexun.com/79305805_d.html     2        0  \n",
       "5695     http://19940007.blog.hexun.com/79305804_d.html     1        0  \n",
       "5696                                           jkhahkah     9       10  \n",
       "\n",
       "[5697 rows x 5 columns]"
      ]
     },
     "execution_count": 108,
     "metadata": {},
     "output_type": "execute_result"
    }
   ],
   "source": [
    "h"
   ]
  },
  {
   "cell_type": "code",
   "execution_count": 109,
   "metadata": {
    "collapsed": false
   },
   "outputs": [
    {
     "data": {
      "text/html": [
       "<div>\n",
       "<table border=\"1\" class=\"dataframe\">\n",
       "  <thead>\n",
       "    <tr style=\"text-align: right;\">\n",
       "      <th></th>\n",
       "      <th>0</th>\n",
       "      <th>1</th>\n",
       "      <th>2</th>\n",
       "      <th>3</th>\n",
       "      <th>4</th>\n",
       "      <th>5</th>\n",
       "      <th>6</th>\n",
       "      <th>7</th>\n",
       "      <th>8</th>\n",
       "      <th>9</th>\n",
       "      <th>...</th>\n",
       "      <th>5687</th>\n",
       "      <th>5688</th>\n",
       "      <th>5689</th>\n",
       "      <th>5690</th>\n",
       "      <th>5691</th>\n",
       "      <th>5692</th>\n",
       "      <th>5693</th>\n",
       "      <th>5694</th>\n",
       "      <th>5695</th>\n",
       "      <th>5696</th>\n",
       "    </tr>\n",
       "  </thead>\n",
       "  <tbody>\n",
       "    <tr>\n",
       "      <th>id</th>\n",
       "      <td>1</td>\n",
       "      <td>2</td>\n",
       "      <td>3</td>\n",
       "      <td>4</td>\n",
       "      <td>5</td>\n",
       "      <td>6</td>\n",
       "      <td>7</td>\n",
       "      <td>8</td>\n",
       "      <td>9</td>\n",
       "      <td>10</td>\n",
       "      <td>...</td>\n",
       "      <td>5688</td>\n",
       "      <td>5689</td>\n",
       "      <td>5690</td>\n",
       "      <td>5691</td>\n",
       "      <td>5692</td>\n",
       "      <td>5693</td>\n",
       "      <td>5694</td>\n",
       "      <td>5695</td>\n",
       "      <td>5696</td>\n",
       "      <td>5697</td>\n",
       "    </tr>\n",
       "    <tr>\n",
       "      <th>name</th>\n",
       "      <td>小冰</td>\n",
       "      <td>老时与书</td>\n",
       "      <td>私密写真集，看后请删除（仅限量发售铁杆订户）</td>\n",
       "      <td>时寒冰：私密写真集，看后请删除（仅限量发售铁杆订户）</td>\n",
       "      <td>特朗普一蠢全球股市就大涨</td>\n",
       "      <td>时寒冰：为何特朗普一蠢全球股市就大涨</td>\n",
       "      <td>特朗普一蠢全球股市就大涨</td>\n",
       "      <td>剖析楼市真相与趋势（万字长文）</td>\n",
       "      <td>第五次产业大转移与未来30年国运</td>\n",
       "      <td>剖析中国股市之趋势</td>\n",
       "      <td>...</td>\n",
       "      <td>交通厅长都“不腐败”，才不正常呢</td>\n",
       "      <td>“四城市试点房产税”，只是空穴来风</td>\n",
       "      <td>烟草局长1年去港澳18次，赌耶！嫖耶？</td>\n",
       "      <td>十堰市，还有多少人“被精神病”？</td>\n",
       "      <td>九江公安局，层层“护犊子”</td>\n",
       "      <td>婚姻登记全国联网再等5年，是惰政</td>\n",
       "      <td>海门审计局豪华接待，是权力“互粉”</td>\n",
       "      <td>2010：参政议政，我乐此不疲</td>\n",
       "      <td>“两会”前夕，调控政策将加码</td>\n",
       "      <td>uiuyas</td>\n",
       "    </tr>\n",
       "    <tr>\n",
       "      <th>url</th>\n",
       "      <td>http://edu.iqianyue.com</td>\n",
       "      <td>http://shihanbingblog.blog.hexun.com/108369380...</td>\n",
       "      <td>http://shihanbingblog.blog.hexun.com/108367966...</td>\n",
       "      <td>http://shihanbingblog.blog.hexun.com/108366125...</td>\n",
       "      <td>http://shihanbingblog.blog.hexun.com/108351141...</td>\n",
       "      <td>http://shihanbingblog.blog.hexun.com/108346867...</td>\n",
       "      <td>http://shihanbingblog.blog.hexun.com/108346508...</td>\n",
       "      <td>http://shihanbingblog.blog.hexun.com/108282776...</td>\n",
       "      <td>http://shihanbingblog.blog.hexun.com/108282774...</td>\n",
       "      <td>http://shihanbingblog.blog.hexun.com/108282668...</td>\n",
       "      <td>...</td>\n",
       "      <td>http://19940007.blog.hexun.com/79305819_d.html</td>\n",
       "      <td>http://19940007.blog.hexun.com/79305818_d.html</td>\n",
       "      <td>http://19940007.blog.hexun.com/79305815_d.html</td>\n",
       "      <td>http://19940007.blog.hexun.com/79305814_d.html</td>\n",
       "      <td>http://19940007.blog.hexun.com/79305811_d.html</td>\n",
       "      <td>http://19940007.blog.hexun.com/79305808_d.html</td>\n",
       "      <td>http://19940007.blog.hexun.com/79305806_d.html</td>\n",
       "      <td>http://19940007.blog.hexun.com/79305805_d.html</td>\n",
       "      <td>http://19940007.blog.hexun.com/79305804_d.html</td>\n",
       "      <td>jkhahkah</td>\n",
       "    </tr>\n",
       "    <tr>\n",
       "      <th>hits</th>\n",
       "      <td>2001</td>\n",
       "      <td>316</td>\n",
       "      <td>212</td>\n",
       "      <td>747</td>\n",
       "      <td>4661</td>\n",
       "      <td>96</td>\n",
       "      <td>56</td>\n",
       "      <td>3054</td>\n",
       "      <td>294</td>\n",
       "      <td>909</td>\n",
       "      <td>...</td>\n",
       "      <td>2</td>\n",
       "      <td>1</td>\n",
       "      <td>1</td>\n",
       "      <td>1</td>\n",
       "      <td>1</td>\n",
       "      <td>1</td>\n",
       "      <td>1</td>\n",
       "      <td>2</td>\n",
       "      <td>1</td>\n",
       "      <td>9</td>\n",
       "    </tr>\n",
       "    <tr>\n",
       "      <th>comment</th>\n",
       "      <td>2091</td>\n",
       "      <td>1</td>\n",
       "      <td>0</td>\n",
       "      <td>1</td>\n",
       "      <td>16</td>\n",
       "      <td>0</td>\n",
       "      <td>0</td>\n",
       "      <td>4</td>\n",
       "      <td>0</td>\n",
       "      <td>0</td>\n",
       "      <td>...</td>\n",
       "      <td>0</td>\n",
       "      <td>0</td>\n",
       "      <td>0</td>\n",
       "      <td>0</td>\n",
       "      <td>0</td>\n",
       "      <td>0</td>\n",
       "      <td>0</td>\n",
       "      <td>0</td>\n",
       "      <td>0</td>\n",
       "      <td>10</td>\n",
       "    </tr>\n",
       "  </tbody>\n",
       "</table>\n",
       "<p>5 rows × 5697 columns</p>\n",
       "</div>"
      ],
      "text/plain": [
       "                            0     \\\n",
       "id                             1   \n",
       "name                          小冰   \n",
       "url      http://edu.iqianyue.com   \n",
       "hits                        2001   \n",
       "comment                     2091   \n",
       "\n",
       "                                                      1     \\\n",
       "id                                                       2   \n",
       "name                                                  老时与书   \n",
       "url      http://shihanbingblog.blog.hexun.com/108369380...   \n",
       "hits                                                   316   \n",
       "comment                                                  1   \n",
       "\n",
       "                                                      2     \\\n",
       "id                                                       3   \n",
       "name                                私密写真集，看后请删除（仅限量发售铁杆订户）   \n",
       "url      http://shihanbingblog.blog.hexun.com/108367966...   \n",
       "hits                                                   212   \n",
       "comment                                                  0   \n",
       "\n",
       "                                                      3     \\\n",
       "id                                                       4   \n",
       "name                            时寒冰：私密写真集，看后请删除（仅限量发售铁杆订户）   \n",
       "url      http://shihanbingblog.blog.hexun.com/108366125...   \n",
       "hits                                                   747   \n",
       "comment                                                  1   \n",
       "\n",
       "                                                      4     \\\n",
       "id                                                       5   \n",
       "name                                          特朗普一蠢全球股市就大涨   \n",
       "url      http://shihanbingblog.blog.hexun.com/108351141...   \n",
       "hits                                                  4661   \n",
       "comment                                                 16   \n",
       "\n",
       "                                                      5     \\\n",
       "id                                                       6   \n",
       "name                                    时寒冰：为何特朗普一蠢全球股市就大涨   \n",
       "url      http://shihanbingblog.blog.hexun.com/108346867...   \n",
       "hits                                                    96   \n",
       "comment                                                  0   \n",
       "\n",
       "                                                      6     \\\n",
       "id                                                       7   \n",
       "name                                          特朗普一蠢全球股市就大涨   \n",
       "url      http://shihanbingblog.blog.hexun.com/108346508...   \n",
       "hits                                                    56   \n",
       "comment                                                  0   \n",
       "\n",
       "                                                      7     \\\n",
       "id                                                       8   \n",
       "name                                       剖析楼市真相与趋势（万字长文）   \n",
       "url      http://shihanbingblog.blog.hexun.com/108282776...   \n",
       "hits                                                  3054   \n",
       "comment                                                  4   \n",
       "\n",
       "                                                      8     \\\n",
       "id                                                       9   \n",
       "name                                      第五次产业大转移与未来30年国运   \n",
       "url      http://shihanbingblog.blog.hexun.com/108282774...   \n",
       "hits                                                   294   \n",
       "comment                                                  0   \n",
       "\n",
       "                                                      9       ...     \\\n",
       "id                                                      10    ...      \n",
       "name                                             剖析中国股市之趋势    ...      \n",
       "url      http://shihanbingblog.blog.hexun.com/108282668...    ...      \n",
       "hits                                                   909    ...      \n",
       "comment                                                  0    ...      \n",
       "\n",
       "                                                   5687  \\\n",
       "id                                                 5688   \n",
       "name                                   交通厅长都“不腐败”，才不正常呢   \n",
       "url      http://19940007.blog.hexun.com/79305819_d.html   \n",
       "hits                                                  2   \n",
       "comment                                               0   \n",
       "\n",
       "                                                   5688  \\\n",
       "id                                                 5689   \n",
       "name                                  “四城市试点房产税”，只是空穴来风   \n",
       "url      http://19940007.blog.hexun.com/79305818_d.html   \n",
       "hits                                                  1   \n",
       "comment                                               0   \n",
       "\n",
       "                                                   5689  \\\n",
       "id                                                 5690   \n",
       "name                                烟草局长1年去港澳18次，赌耶！嫖耶？   \n",
       "url      http://19940007.blog.hexun.com/79305815_d.html   \n",
       "hits                                                  1   \n",
       "comment                                               0   \n",
       "\n",
       "                                                   5690  \\\n",
       "id                                                 5691   \n",
       "name                                   十堰市，还有多少人“被精神病”？   \n",
       "url      http://19940007.blog.hexun.com/79305814_d.html   \n",
       "hits                                                  1   \n",
       "comment                                               0   \n",
       "\n",
       "                                                   5691  \\\n",
       "id                                                 5692   \n",
       "name                                      九江公安局，层层“护犊子”   \n",
       "url      http://19940007.blog.hexun.com/79305811_d.html   \n",
       "hits                                                  1   \n",
       "comment                                               0   \n",
       "\n",
       "                                                   5692  \\\n",
       "id                                                 5693   \n",
       "name                                   婚姻登记全国联网再等5年，是惰政   \n",
       "url      http://19940007.blog.hexun.com/79305808_d.html   \n",
       "hits                                                  1   \n",
       "comment                                               0   \n",
       "\n",
       "                                                   5693  \\\n",
       "id                                                 5694   \n",
       "name                                  海门审计局豪华接待，是权力“互粉”   \n",
       "url      http://19940007.blog.hexun.com/79305806_d.html   \n",
       "hits                                                  1   \n",
       "comment                                               0   \n",
       "\n",
       "                                                   5694  \\\n",
       "id                                                 5695   \n",
       "name                                    2010：参政议政，我乐此不疲   \n",
       "url      http://19940007.blog.hexun.com/79305805_d.html   \n",
       "hits                                                  2   \n",
       "comment                                               0   \n",
       "\n",
       "                                                   5695      5696  \n",
       "id                                                 5696      5697  \n",
       "name                                     “两会”前夕，调控政策将加码    uiuyas  \n",
       "url      http://19940007.blog.hexun.com/79305804_d.html  jkhahkah  \n",
       "hits                                                  1         9  \n",
       "comment                                               0        10  \n",
       "\n",
       "[5 rows x 5697 columns]"
      ]
     },
     "execution_count": 109,
     "metadata": {},
     "output_type": "execute_result"
    }
   ],
   "source": [
    "h.T"
   ]
  },
  {
   "cell_type": "code",
   "execution_count": 114,
   "metadata": {
    "collapsed": false
   },
   "outputs": [],
   "source": [
    "hits = h.T.values[3]"
   ]
  },
  {
   "cell_type": "code",
   "execution_count": 115,
   "metadata": {
    "collapsed": false
   },
   "outputs": [
    {
     "data": {
      "text/plain": [
       "array([2001, 316, 212, ..., 2, 1, 9], dtype=object)"
      ]
     },
     "execution_count": 115,
     "metadata": {},
     "output_type": "execute_result"
    }
   ],
   "source": [
    "hits"
   ]
  },
  {
   "cell_type": "code",
   "execution_count": 116,
   "metadata": {
    "collapsed": true
   },
   "outputs": [],
   "source": [
    "comments  = h.T.values[4]"
   ]
  },
  {
   "cell_type": "code",
   "execution_count": 117,
   "metadata": {
    "collapsed": false
   },
   "outputs": [
    {
     "data": {
      "text/plain": [
       "array([2091, 1, 0, ..., 0, 0, 10], dtype=object)"
      ]
     },
     "execution_count": 117,
     "metadata": {},
     "output_type": "execute_result"
    }
   ],
   "source": [
    "comments"
   ]
  },
  {
   "cell_type": "code",
   "execution_count": 120,
   "metadata": {
    "collapsed": false
   },
   "outputs": [
    {
     "data": {
      "image/png": "[encoded data removed]",
      "text/plain": [
       "<matplotlib.figure.Figure at 0x116244470>"
      ]
     },
     "metadata": {},
     "output_type": "display_data"
    }
   ],
   "source": [
    "pyl.plot(comments,hits,'o')\n",
    "pyl.show()"
   ]
  },
  {
   "cell_type": "code",
   "execution_count": null,
   "metadata": {
    "collapsed": true
   },
   "outputs": [],
   "source": []
  },
  {
   "cell_type": "code",
   "execution_count": null,
   "metadata": {
    "collapsed": true
   },
   "outputs": [],
   "source": []
  },
  {
   "cell_type": "code",
   "execution_count": null,
   "metadata": {
    "collapsed": true
   },
   "outputs": [],
   "source": []
  }
 ],
 "metadata": {
  "kernelspec": {
   "display_name": "Python 3",
   "language": "python",
   "name": "python3"
  },
  "language_info": {
   "codemirror_mode": {
    "name": "ipython",
    "version": 3
   },
   "file_extension": ".py",
   "mimetype": "text/x-python",
   "name": "python",
   "nbconvert_exporter": "python",
   "pygments_lexer": "ipython3",
   "version": "3.6.0"
  },
  "latex_envs": {
   "LaTeX_envs_menu_present": true,
   "autocomplete": true,
   "bibliofile": "biblio.bib",
   "cite_by": "apalike",
   "current_citInitial": 1,
   "eqLabelWithNumbers": true,
   "eqNumInitial": 1,
   "hotkeys": {
    "equation": "Ctrl-E",
    "itemize": "Ctrl-I"
   },
   "labels_anchors": false,
   "latex_user_defs": false,
   "report_style_numbering": false,
   "user_envs_cfg": false
  },
  "toc": {
   "colors": {
    "hover_highlight": "#DAA520",
    "running_highlight": "#FF0000",
    "selected_highlight": "#FFD700"
   },
   "moveMenuLeft": true,
   "nav_menu": {
    "height": "195px",
    "width": "252px"
   },
   "navigate_menu": true,
   "number_sections": true,
   "sideBar": true,
   "threshold": 4,
   "toc_cell": false,
   "toc_position": {
    "height": "550px",
    "left": "0px",
    "right": "auto",
    "top": "106px",
    "width": "212px"
   },
   "toc_section_display": "block",
   "toc_window_display": true,
   "widenNotebook": false
  }
 },
 "nbformat": 4,
 "nbformat_minor": 2
}
