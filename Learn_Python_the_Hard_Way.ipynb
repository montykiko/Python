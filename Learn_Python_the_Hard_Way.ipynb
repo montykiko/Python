{
 "cells": [
  {
   "cell_type": "markdown",
   "metadata": {},
   "source": [
    "# strings & text"
   ]
  },
  {
   "cell_type": "markdown",
   "metadata": {},
   "source": [
    "## 以前的写法"
   ]
  },
  {
   "cell_type": "code",
   "execution_count": 2,
   "metadata": {
    "collapsed": false
   },
   "outputs": [
    {
     "name": "stdout",
     "output_type": "stream",
     "text": [
      "There are 10 men, 20 women, 30 children.\n"
     ]
    }
   ],
   "source": [
    "men = 10\n",
    "women = 20\n",
    "children = 30\n",
    "x = \"There are %s men, %s women, %s children.\" % (men,women,children)\n",
    "print (x)"
   ]
  },
  {
   "cell_type": "markdown",
   "metadata": {},
   "source": [
    "## 新发现的写法"
   ]
  },
  {
   "cell_type": "code",
   "execution_count": 6,
   "metadata": {
    "collapsed": false
   },
   "outputs": [
    {
     "name": "stdout",
     "output_type": "stream",
     "text": [
      "There are 10 men,20 women,30 children.\n"
     ]
    }
   ],
   "source": [
    "men = 10\n",
    "women = 20\n",
    "children = 30\n",
    "x = f\"There are {men} men,{women} women,{children} children.\"\n",
    "print (x)"
   ]
  },
  {
   "cell_type": "markdown",
   "metadata": {},
   "source": [
    "## format"
   ]
  },
  {
   "cell_type": "code",
   "execution_count": 2,
   "metadata": {
    "collapsed": false
   },
   "outputs": [
    {
     "name": "stdout",
     "output_type": "stream",
     "text": [
      "Isn't that joke so funny? False\n",
      "It's snowing outside.\n"
     ]
    }
   ],
   "source": [
    "hilarious = False\n",
    "joke = \"Isn't that joke so funny? {}\"\n",
    "print (joke.format(hilarious))\n",
    "print (\"It's {} outside.\".format('snowing'))"
   ]
  },
  {
   "cell_type": "code",
   "execution_count": 12,
   "metadata": {
    "collapsed": false
   },
   "outputs": [
    {
     "name": "stdout",
     "output_type": "stream",
     "text": [
      "1 2 3 4\n"
     ]
    }
   ],
   "source": [
    "formatter = \"{} {} {} {}\"\n",
    "print (formatter.format(1,2,3,4))"
   ]
  },
  {
   "cell_type": "markdown",
   "metadata": {},
   "source": [
    "## input交互"
   ]
  },
  {
   "cell_type": "code",
   "execution_count": 15,
   "metadata": {
    "collapsed": false
   },
   "outputs": [
    {
     "name": "stdout",
     "output_type": "stream",
     "text": [
      "How old are you?5\n",
      "How tall are you?173\n",
      "How much do you weight?50\n"
     ]
    }
   ],
   "source": [
    "print(\"How old are you?\", end = '')\n",
    "age = input()\n",
    "print (\"How tall are you?\", end = '')\n",
    "height = input()\n",
    "print (\"How much do you weight?\",end = '')\n",
    "weight = input()"
   ]
  },
  {
   "cell_type": "markdown",
   "metadata": {},
   "source": [
    "We put a end=' ' at the end of each print line. This tells print to not end the line with a newline character and go to the next line."
   ]
  },
  {
   "cell_type": "code",
   "execution_count": 17,
   "metadata": {
    "collapsed": false
   },
   "outputs": [
    {
     "name": "stdout",
     "output_type": "stream",
     "text": [
      "How much do you weight?50\n"
     ]
    }
   ],
   "source": [
    "weight = input(\"How much do you weight?\")"
   ]
  },
  {
   "cell_type": "markdown",
   "metadata": {},
   "source": [
    "## argv"
   ]
  },
  {
   "cell_type": "code",
   "execution_count": 20,
   "metadata": {
    "collapsed": false
   },
   "outputs": [],
   "source": [
    "# from sys import argv\n",
    "# script,first,second,third = argv"
   ]
  },
  {
   "cell_type": "markdown",
   "metadata": {},
   "source": [
    "## open file & read"
   ]
  },
  {
   "cell_type": "code",
   "execution_count": 64,
   "metadata": {
    "collapsed": false
   },
   "outputs": [
    {
     "name": "stdout",
     "output_type": "stream",
     "text": [
      "I need you\n",
      "because I love you.I wanna know\n",
      "Do you love me? I do. I do. I do. I do.\n"
     ]
    },
    {
     "data": {
      "text/plain": [
       "'cp936'"
      ]
     },
     "execution_count": 64,
     "metadata": {},
     "output_type": "execute_result"
    }
   ],
   "source": [
    "text = open('example15.txt')\n",
    "print (text.read())\n",
    "text.encoding #CP936其实就是GBK，IBM在发明Code Page的时候将GBK放在第936页，所以叫CP936。"
   ]
  },
  {
   "cell_type": "code",
   "execution_count": 65,
   "metadata": {
    "collapsed": false
   },
   "outputs": [
    {
     "name": "stdout",
     "output_type": "stream",
     "text": [
      "I need you\n",
      "\n"
     ]
    }
   ],
   "source": [
    "text.seek(0)\n",
    "print (text.readline())"
   ]
  },
  {
   "cell_type": "code",
   "execution_count": 66,
   "metadata": {
    "collapsed": false
   },
   "outputs": [
    {
     "name": "stdout",
     "output_type": "stream",
     "text": [
      "['because I love you.I wanna know\\n', 'Do you love me? I do. I do. I do. I do.']\n"
     ]
    }
   ],
   "source": [
    "print (text.readlines())"
   ]
  },
  {
   "cell_type": "code",
   "execution_count": 67,
   "metadata": {
    "collapsed": false
   },
   "outputs": [],
   "source": [
    "with open(\"example15.txt\",\"a\") as f:\n",
    "    f.write(\" I do.\")"
   ]
  },
  {
   "cell_type": "code",
   "execution_count": 68,
   "metadata": {
    "collapsed": false
   },
   "outputs": [
    {
     "name": "stdout",
     "output_type": "stream",
     "text": [
      "I need you\n",
      "because I love you.I wanna know\n",
      "Do you love me? I do. I do. I do. I do. I do.\n"
     ]
    }
   ],
   "source": [
    "with open(\"example15.txt\",\"r\") as f:\n",
    "    print (f.read())"
   ]
  },
  {
   "cell_type": "markdown",
   "metadata": {},
   "source": [
    "## reading & writing files"
   ]
  },
  {
   "cell_type": "code",
   "execution_count": 25,
   "metadata": {
    "collapsed": false
   },
   "outputs": [],
   "source": [
    "target = open('example15.txt','w') #w是write模式,写入的内容覆盖\n",
    "target.write('I need you')\n",
    "target.write(\"\\n\")\n",
    "target.write(\"because I love you.\")\n",
    "target.close()"
   ]
  },
  {
   "cell_type": "code",
   "execution_count": 26,
   "metadata": {
    "collapsed": true
   },
   "outputs": [],
   "source": [
    "target = open('example15.txt','a') #a是append模式，保留之前的内容，在最后追加\n",
    "target.write('I wanna know\\n')\n",
    "target.write(\"Do you love me?\")\n",
    "target.close()"
   ]
  },
  {
   "cell_type": "code",
   "execution_count": 28,
   "metadata": {
    "collapsed": false
   },
   "outputs": [
    {
     "name": "stdout",
     "output_type": "stream",
     "text": [
      "I need you\n",
      "because I love you.I wanna know\n",
      "Do you love me?\n"
     ]
    }
   ],
   "source": [
    "target = open('example15.txt','r')\n",
    "print (target.read())"
   ]
  },
  {
   "cell_type": "markdown",
   "metadata": {
    "collapsed": true
   },
   "source": [
    "## copy one file to another "
   ]
  },
  {
   "cell_type": "code",
   "execution_count": 4,
   "metadata": {
    "collapsed": false
   },
   "outputs": [],
   "source": [
    "in_file = open('example15.txt')\n",
    "indata = in_file.read()\n",
    "out_file = open('copy_15.txt','w')\n",
    "out_file.write(indata)\n",
    "out_file.close()\n",
    "in_file.close()"
   ]
  },
  {
   "cell_type": "markdown",
   "metadata": {},
   "source": [
    "## seek(0)"
   ]
  },
  {
   "cell_type": "code",
   "execution_count": 9,
   "metadata": {
    "collapsed": false
   },
   "outputs": [
    {
     "name": "stdout",
     "output_type": "stream",
     "text": [
      "I need you\n",
      "because I love you.I wanna know\n",
      "Do you love me?\n",
      "1 I need you\n",
      "\n"
     ]
    }
   ],
   "source": [
    "def print_all(f):\n",
    "    print(f.read())\n",
    "\n",
    "def rewind(f):\n",
    "    f.seek(0)\n",
    "\n",
    "def print_a_line(line_count,f):\n",
    "    print(line_count,f.readline())\n",
    "    \n",
    "current_file = open('example15.txt')\n",
    "print_all(current_file)\n",
    "rewind(current_file)\n",
    "\n",
    "current_line = 1\n",
    "print_a_line(current_line,current_file)"
   ]
  },
  {
   "cell_type": "markdown",
   "metadata": {},
   "source": [
    "```\n",
    "0: means your reference point is the beginning of the file\n",
    "1: means your reference point is the current file position\n",
    "2: means your reference point is the end of the file\n",
    "```"
   ]
  },
  {
   "cell_type": "markdown",
   "metadata": {},
   "source": [
    "## split/sort/pop"
   ]
  },
  {
   "cell_type": "code",
   "execution_count": 19,
   "metadata": {
    "collapsed": false
   },
   "outputs": [
    {
     "data": {
      "text/plain": [
       "['All', 'good', 'things', 'come', 'to', 'those', 'who', 'wait.']"
      ]
     },
     "execution_count": 19,
     "metadata": {},
     "output_type": "execute_result"
    }
   ],
   "source": [
    "def break_words(stuff):\n",
    "    words = stuff.split(' ')\n",
    "    return words\n",
    "\n",
    "def sort_words(words):\n",
    "    return sorted(words)\n",
    "\n",
    "def print_first_word(words):\n",
    "    word = words.pop(0)\n",
    "    print(word)\n",
    "\n",
    "def print_last_word(words):\n",
    "    word  = words.pop(-1)\n",
    "    print(word)\n",
    "\n",
    "def sort_sentence(sentence):\n",
    "    words = break_words(sentence)\n",
    "    return sort_words(words)\n",
    "\n",
    "def print_first_and_last(sentence):\n",
    "    words = break_words(sentence)\n",
    "    print_first_word(words)\n",
    "    print_last_word(words)\n",
    "\n",
    "def print_first_and_last_sorted(sentence):\n",
    "    words = sort_sentence(sentence)\n",
    "    print_first_word(words)\n",
    "    print_last_word(words)\n",
    "\n",
    "sentence = \"All good things come to those who wait.\"\n",
    "\n",
    "words = break_words(sentence)\n",
    "words"
   ]
  },
  {
   "cell_type": "code",
   "execution_count": 20,
   "metadata": {
    "collapsed": false
   },
   "outputs": [
    {
     "data": {
      "text/plain": [
       "['All', 'come', 'good', 'things', 'those', 'to', 'wait.', 'who']"
      ]
     },
     "execution_count": 20,
     "metadata": {},
     "output_type": "execute_result"
    }
   ],
   "source": [
    "sort_words(words)"
   ]
  },
  {
   "cell_type": "code",
   "execution_count": 21,
   "metadata": {
    "collapsed": false
   },
   "outputs": [
    {
     "name": "stdout",
     "output_type": "stream",
     "text": [
      "All\n"
     ]
    }
   ],
   "source": [
    "print_first_word(words)"
   ]
  },
  {
   "cell_type": "code",
   "execution_count": 22,
   "metadata": {
    "collapsed": false
   },
   "outputs": [
    {
     "name": "stdout",
     "output_type": "stream",
     "text": [
      "wait.\n"
     ]
    }
   ],
   "source": [
    "print_last_word(words)"
   ]
  },
  {
   "cell_type": "code",
   "execution_count": 23,
   "metadata": {
    "collapsed": false
   },
   "outputs": [
    {
     "data": {
      "text/plain": [
       "['All', 'come', 'good', 'things', 'those', 'to', 'wait.', 'who']"
      ]
     },
     "execution_count": 23,
     "metadata": {},
     "output_type": "execute_result"
    }
   ],
   "source": [
    "sort_sentence(sentence)"
   ]
  },
  {
   "cell_type": "code",
   "execution_count": 25,
   "metadata": {
    "collapsed": false
   },
   "outputs": [
    {
     "name": "stdout",
     "output_type": "stream",
     "text": [
      "All\n",
      "wait.\n"
     ]
    }
   ],
   "source": [
    "print_first_and_last(sentence)"
   ]
  },
  {
   "cell_type": "code",
   "execution_count": 24,
   "metadata": {
    "collapsed": false
   },
   "outputs": [
    {
     "name": "stdout",
     "output_type": "stream",
     "text": [
      "All\n",
      "who\n"
     ]
    }
   ],
   "source": [
    "print_first_and_last_sorted(sentence)"
   ]
  },
  {
   "cell_type": "markdown",
   "metadata": {},
   "source": [
    "### join"
   ]
  },
  {
   "cell_type": "code",
   "execution_count": 4,
   "metadata": {
    "collapsed": false
   },
   "outputs": [
    {
     "data": {
      "text/plain": [
       "'a b c'"
      ]
     },
     "execution_count": 4,
     "metadata": {},
     "output_type": "execute_result"
    }
   ],
   "source": [
    "s1 = \"a\",\"b\",\"c\"\n",
    "s2 = \" \".join(s1)\n",
    "s2"
   ]
  },
  {
   "cell_type": "markdown",
   "metadata": {},
   "source": [
    "### split"
   ]
  },
  {
   "cell_type": "code",
   "execution_count": 5,
   "metadata": {
    "collapsed": false
   },
   "outputs": [
    {
     "data": {
      "text/plain": [
       "['a', 'b', 'c']"
      ]
     },
     "execution_count": 5,
     "metadata": {},
     "output_type": "execute_result"
    }
   ],
   "source": [
    "s2.split(\" \")"
   ]
  },
  {
   "cell_type": "markdown",
   "metadata": {},
   "source": [
    "### strip"
   ]
  },
  {
   "cell_type": "code",
   "execution_count": 6,
   "metadata": {
    "collapsed": false
   },
   "outputs": [
    {
     "data": {
      "text/plain": [
       "'Text Mining with Python'"
      ]
     },
     "execution_count": 6,
     "metadata": {},
     "output_type": "execute_result"
    }
   ],
   "source": [
    "\"    Text Mining with Python    \".strip()"
   ]
  },
  {
   "cell_type": "markdown",
   "metadata": {},
   "source": [
    "### find"
   ]
  },
  {
   "cell_type": "code",
   "execution_count": 7,
   "metadata": {
    "collapsed": false
   },
   "outputs": [
    {
     "data": {
      "text/plain": [
       "12"
      ]
     },
     "execution_count": 7,
     "metadata": {},
     "output_type": "execute_result"
    }
   ],
   "source": [
    "\"Text Mining with Python\".find(\"with\")"
   ]
  },
  {
   "cell_type": "markdown",
   "metadata": {},
   "source": [
    "### lower()"
   ]
  },
  {
   "cell_type": "code",
   "execution_count": 8,
   "metadata": {
    "collapsed": false
   },
   "outputs": [
    {
     "data": {
      "text/plain": [
       "'text'"
      ]
     },
     "execution_count": 8,
     "metadata": {},
     "output_type": "execute_result"
    }
   ],
   "source": [
    "\"TEXT\".lower()"
   ]
  },
  {
   "cell_type": "markdown",
   "metadata": {},
   "source": [
    "### replace"
   ]
  },
  {
   "cell_type": "code",
   "execution_count": 9,
   "metadata": {
    "collapsed": false
   },
   "outputs": [
    {
     "data": {
      "text/plain": [
       "'Text Mining abcd Python'"
      ]
     },
     "execution_count": 9,
     "metadata": {},
     "output_type": "execute_result"
    }
   ],
   "source": [
    "\"Text Mining with Python\".replace(\"with\",\"abcd\")"
   ]
  },
  {
   "cell_type": "markdown",
   "metadata": {},
   "source": [
    "## for-loops"
   ]
  },
  {
   "cell_type": "code",
   "execution_count": 28,
   "metadata": {
    "collapsed": false
   },
   "outputs": [
    {
     "name": "stdout",
     "output_type": "stream",
     "text": [
      "I got pennies\n",
      "I got dimes\n",
      "I got quarters\n"
     ]
    }
   ],
   "source": [
    "change = [1,'pennies',2,'dimes',3,'quarters']\n",
    "for i in change:\n",
    "    if i == str(i):\n",
    "        print (f\"I got {i}\")"
   ]
  },
  {
   "cell_type": "code",
   "execution_count": 33,
   "metadata": {
    "collapsed": false
   },
   "outputs": [
    {
     "name": "stdout",
     "output_type": "stream",
     "text": [
      "pennies\n",
      "dimes\n",
      "quarters\n"
     ]
    }
   ],
   "source": [
    "for i in range(len(change)):\n",
    "    if i%2 != 0:\n",
    "        print(change[i])"
   ]
  },
  {
   "cell_type": "markdown",
   "metadata": {},
   "source": [
    "## 字典dictionary"
   ]
  },
  {
   "cell_type": "code",
   "execution_count": 34,
   "metadata": {
    "collapsed": false
   },
   "outputs": [
    {
     "name": "stdout",
     "output_type": "stream",
     "text": [
      "CA has the city San Francisco.\n",
      "MI has the city Detroit.\n",
      "FL has the city Jacksonville.\n",
      "NY has the city New York.\n",
      "OR has the city Portland.\n"
     ]
    }
   ],
   "source": [
    "states = {\n",
    "    'Oregon':'OR',\n",
    "    'Florida':'FL',\n",
    "    'California':'CA',\n",
    "    'New York':'NY',\n",
    "    'Michigan':'MI'\n",
    "}\n",
    "cities = {\n",
    "    'CA':'San Francisco',\n",
    "    'MI':'Detroit',\n",
    "    'FL':'Jacksonville'\n",
    "}\n",
    "cities['NY'] = 'New York'\n",
    "cities['OR'] = 'Portland'\n",
    "\n",
    "for abbrev,city in list(cities.items()):\n",
    "    print (f\"{abbrev} has the city {city}.\")"
   ]
  },
  {
   "cell_type": "code",
   "execution_count": 38,
   "metadata": {
    "collapsed": false
   },
   "outputs": [
    {
     "name": "stdout",
     "output_type": "stream",
     "text": [
      "Sorry, no Texas.\n"
     ]
    }
   ],
   "source": [
    "state = states.get('Texas')\n",
    "if not state:\n",
    "    print ('Sorry, no Texas.')"
   ]
  },
  {
   "cell_type": "code",
   "execution_count": 39,
   "metadata": {
    "collapsed": false
   },
   "outputs": [
    {
     "name": "stdout",
     "output_type": "stream",
     "text": [
      "The city for the state 'TX' is :Does Not Exist.\n"
     ]
    }
   ],
   "source": [
    "city = cities.get('TX','Does Not Exist.')   #get a city with a default value\n",
    "print (f\"The city for the state 'TX' is :{city}\")"
   ]
  },
  {
   "cell_type": "markdown",
   "metadata": {},
   "source": [
    "### 两种创建方法"
   ]
  },
  {
   "cell_type": "code",
   "execution_count": 3,
   "metadata": {
    "collapsed": false
   },
   "outputs": [
    {
     "data": {
      "text/plain": [
       "{'Alice': '123456', 'Eve': '456789'}"
      ]
     },
     "execution_count": 3,
     "metadata": {},
     "output_type": "execute_result"
    }
   ],
   "source": [
    "tel=dict([(\"Alice\",\"123456\"),(\"Eve\",\"456789\")])\n",
    "tel"
   ]
  },
  {
   "cell_type": "code",
   "execution_count": 4,
   "metadata": {
    "collapsed": false
   },
   "outputs": [
    {
     "data": {
      "text/plain": [
       "{'Alex': '15', 'Jack': '33'}"
      ]
     },
     "execution_count": 4,
     "metadata": {},
     "output_type": "execute_result"
    }
   ],
   "source": [
    "age=dict(Alex=\"15\",Jack=\"33\")\n",
    "age"
   ]
  },
  {
   "cell_type": "markdown",
   "metadata": {},
   "source": [
    "### 常用字典方法"
   ]
  },
  {
   "cell_type": "code",
   "execution_count": 5,
   "metadata": {
    "collapsed": false
   },
   "outputs": [
    {
     "data": {
      "text/plain": [
       "'15'"
      ]
     },
     "execution_count": 5,
     "metadata": {},
     "output_type": "execute_result"
    }
   ],
   "source": [
    "age.get('Alex')"
   ]
  },
  {
   "cell_type": "code",
   "execution_count": 6,
   "metadata": {
    "collapsed": true
   },
   "outputs": [],
   "source": [
    "tel.get('Jack')   #没有，None"
   ]
  },
  {
   "cell_type": "code",
   "execution_count": 9,
   "metadata": {
    "collapsed": false
   },
   "outputs": [
    {
     "data": {
      "text/plain": [
       "True"
      ]
     },
     "execution_count": 9,
     "metadata": {},
     "output_type": "execute_result"
    }
   ],
   "source": [
    "\"Eve\" in tel"
   ]
  },
  {
   "cell_type": "code",
   "execution_count": 10,
   "metadata": {
    "collapsed": false
   },
   "outputs": [
    {
     "data": {
      "text/plain": [
       "dict_items([('Alice', '123456'), ('Eve', '456789')])"
      ]
     },
     "execution_count": 10,
     "metadata": {},
     "output_type": "execute_result"
    }
   ],
   "source": [
    "tel.items()"
   ]
  },
  {
   "cell_type": "code",
   "execution_count": 11,
   "metadata": {
    "collapsed": false
   },
   "outputs": [
    {
     "data": {
      "text/plain": [
       "dict_keys(['Alex', 'Jack'])"
      ]
     },
     "execution_count": 11,
     "metadata": {},
     "output_type": "execute_result"
    }
   ],
   "source": [
    "age.keys()"
   ]
  },
  {
   "cell_type": "code",
   "execution_count": 12,
   "metadata": {
    "collapsed": false
   },
   "outputs": [
    {
     "data": {
      "text/plain": [
       "dict_values(['15', '33'])"
      ]
     },
     "execution_count": 12,
     "metadata": {},
     "output_type": "execute_result"
    }
   ],
   "source": [
    "age.values()"
   ]
  },
  {
   "cell_type": "code",
   "execution_count": 13,
   "metadata": {
    "collapsed": false
   },
   "outputs": [
    {
     "data": {
      "text/plain": [
       "'33'"
      ]
     },
     "execution_count": 13,
     "metadata": {},
     "output_type": "execute_result"
    }
   ],
   "source": [
    "age.pop('Jack')"
   ]
  },
  {
   "cell_type": "code",
   "execution_count": 14,
   "metadata": {
    "collapsed": false
   },
   "outputs": [
    {
     "data": {
      "text/plain": [
       "{'Alex': '15'}"
      ]
     },
     "execution_count": 14,
     "metadata": {},
     "output_type": "execute_result"
    }
   ],
   "source": [
    "age"
   ]
  },
  {
   "cell_type": "markdown",
   "metadata": {},
   "source": [
    "## 集合set"
   ]
  },
  {
   "cell_type": "markdown",
   "metadata": {},
   "source": [
    "### 创建集合"
   ]
  },
  {
   "cell_type": "code",
   "execution_count": 15,
   "metadata": {
    "collapsed": false
   },
   "outputs": [
    {
     "data": {
      "text/plain": [
       "{'T', 'e', 'i', 'm'}"
      ]
     },
     "execution_count": 15,
     "metadata": {},
     "output_type": "execute_result"
    }
   ],
   "source": [
    "set1 = set(\"Time\")\n",
    "set1"
   ]
  },
  {
   "cell_type": "code",
   "execution_count": 31,
   "metadata": {
    "collapsed": false
   },
   "outputs": [
    {
     "data": {
      "text/plain": [
       "{1, 2, 3, 4}"
      ]
     },
     "execution_count": 31,
     "metadata": {},
     "output_type": "execute_result"
    }
   ],
   "source": [
    "set2 = set([1,2,3,4])\n",
    "set2"
   ]
  },
  {
   "cell_type": "markdown",
   "metadata": {},
   "source": [
    "### 集合的操作"
   ]
  },
  {
   "cell_type": "code",
   "execution_count": 18,
   "metadata": {
    "collapsed": false
   },
   "outputs": [
    {
     "data": {
      "text/plain": [
       "{1, 2, 3, 4, 5}"
      ]
     },
     "execution_count": 18,
     "metadata": {},
     "output_type": "execute_result"
    }
   ],
   "source": [
    "set3 = set([3,4,5])\n",
    "set2.union(set3)"
   ]
  },
  {
   "cell_type": "code",
   "execution_count": 19,
   "metadata": {
    "collapsed": false
   },
   "outputs": [
    {
     "data": {
      "text/plain": [
       "{1, 2, 3, 4, 5}"
      ]
     },
     "execution_count": 19,
     "metadata": {},
     "output_type": "execute_result"
    }
   ],
   "source": [
    "set2 | set3"
   ]
  },
  {
   "cell_type": "code",
   "execution_count": 20,
   "metadata": {
    "collapsed": false
   },
   "outputs": [
    {
     "data": {
      "text/plain": [
       "{3, 4}"
      ]
     },
     "execution_count": 20,
     "metadata": {},
     "output_type": "execute_result"
    }
   ],
   "source": [
    "set2.intersection(set3)"
   ]
  },
  {
   "cell_type": "code",
   "execution_count": 21,
   "metadata": {
    "collapsed": false
   },
   "outputs": [
    {
     "data": {
      "text/plain": [
       "{3, 4}"
      ]
     },
     "execution_count": 21,
     "metadata": {},
     "output_type": "execute_result"
    }
   ],
   "source": [
    "set2 & set3"
   ]
  },
  {
   "cell_type": "code",
   "execution_count": 23,
   "metadata": {
    "collapsed": false
   },
   "outputs": [
    {
     "data": {
      "text/plain": [
       "{5}"
      ]
     },
     "execution_count": 23,
     "metadata": {},
     "output_type": "execute_result"
    }
   ],
   "source": [
    "set3.difference(set2)"
   ]
  },
  {
   "cell_type": "code",
   "execution_count": 24,
   "metadata": {
    "collapsed": false
   },
   "outputs": [
    {
     "data": {
      "text/plain": [
       "{5}"
      ]
     },
     "execution_count": 24,
     "metadata": {},
     "output_type": "execute_result"
    }
   ],
   "source": [
    "set3-set2"
   ]
  },
  {
   "cell_type": "code",
   "execution_count": 32,
   "metadata": {
    "collapsed": false
   },
   "outputs": [
    {
     "data": {
      "text/plain": [
       "{1, 2, 3, 4, 6}"
      ]
     },
     "execution_count": 32,
     "metadata": {},
     "output_type": "execute_result"
    }
   ],
   "source": [
    "set2.add(6)\n",
    "set2"
   ]
  },
  {
   "cell_type": "code",
   "execution_count": 33,
   "metadata": {
    "collapsed": false
   },
   "outputs": [
    {
     "data": {
      "text/plain": [
       "{1, 2, 4, 6}"
      ]
     },
     "execution_count": 33,
     "metadata": {},
     "output_type": "execute_result"
    }
   ],
   "source": [
    "set2.remove(3)\n",
    "set2"
   ]
  },
  {
   "cell_type": "markdown",
   "metadata": {},
   "source": [
    "## Modules,Classes and Objects"
   ]
  },
  {
   "cell_type": "code",
   "execution_count": 41,
   "metadata": {
    "collapsed": false
   },
   "outputs": [
    {
     "name": "stdout",
     "output_type": "stream",
     "text": [
      "I am apples!\n"
     ]
    }
   ],
   "source": [
    "mystuff = {'apple':\"I am apples!\"}\n",
    "print (mystuff['apple'])"
   ]
  },
  {
   "cell_type": "code",
   "execution_count": null,
   "metadata": {
    "collapsed": true
   },
   "outputs": [],
   "source": [
    "def apple():\n",
    "    print (\"I am apples!\")\n",
    "    t = \"And now a thousand years between\"\n",
    "# this goes in mystuff.py,\n",
    "\n",
    "# import mystuff\n",
    "# mystuff.apple()\n",
    "# mystuff.t"
   ]
  },
  {
   "cell_type": "code",
   "execution_count": 42,
   "metadata": {
    "collapsed": false
   },
   "outputs": [
    {
     "name": "stdout",
     "output_type": "stream",
     "text": [
      "I am classy apples!\n",
      "And now a thousand years between\n"
     ]
    }
   ],
   "source": [
    "class MyStuff(object):\n",
    "    def __init__(self):\n",
    "        self.t = \"And now a thousand years between\"\n",
    "    def apple(self):\n",
    "        print (\"I am classy apples!\")\n",
    "\n",
    "thing = MyStuff()\n",
    "thing.apple()\n",
    "print (thing.t)"
   ]
  },
  {
   "cell_type": "code",
   "execution_count": 45,
   "metadata": {
    "collapsed": false
   },
   "outputs": [
    {
     "name": "stdout",
     "output_type": "stream",
     "text": [
      "Happy birthday to you\n",
      "I don't want to get sued\n",
      "So I'll stop right there\n",
      "They rally around tha family\n",
      "With pockets full of shells\n"
     ]
    }
   ],
   "source": [
    "class Song(object):\n",
    "\n",
    "    def __init__(self, lyrics):\n",
    "        self.lyrics = lyrics\n",
    "\n",
    "    def sing_me_a_song(self):\n",
    "        for line in self.lyrics:\n",
    "            print(line)\n",
    "\n",
    "happy_bday = Song([\"Happy birthday to you\",\n",
    "                   \"I don't want to get sued\",\n",
    "                   \"So I'll stop right there\"])\n",
    "\n",
    "bulls_on_parade = Song([\"They rally around tha family\",\n",
    "                        \"With pockets full of shells\"])\n",
    "\n",
    "happy_bday.sing_me_a_song()\n",
    "\n",
    "bulls_on_parade.sing_me_a_song()"
   ]
  },
  {
   "cell_type": "markdown",
   "metadata": {},
   "source": [
    "## Object-Oriented"
   ]
  },
  {
   "cell_type": "code",
   "execution_count": 50,
   "metadata": {
    "collapsed": false
   },
   "outputs": [
    {
     "data": {
      "text/plain": [
       "['account',\n",
       " 'achiever',\n",
       " 'actor',\n",
       " 'addition',\n",
       " 'adjustment',\n",
       " 'advertisement',\n",
       " 'advice',\n",
       " 'aftermath',\n",
       " 'agreement',\n",
       " 'airplane',\n",
       " 'airport',\n",
       " 'alarm',\n",
       " 'amount',\n",
       " 'amusement',\n",
       " 'angle',\n",
       " 'animal',\n",
       " 'answer',\n",
       " 'ant',\n",
       " 'apparatus',\n",
       " 'apparel',\n",
       " 'apple',\n",
       " 'appliance',\n",
       " 'approval',\n",
       " 'arch',\n",
       " 'argument',\n",
       " 'arithmetic',\n",
       " 'arm',\n",
       " 'army',\n",
       " 'art',\n",
       " 'attack',\n",
       " 'attempt',\n",
       " 'attention',\n",
       " 'attraction',\n",
       " 'aunt',\n",
       " 'authority',\n",
       " 'baby',\n",
       " 'back',\n",
       " 'badge',\n",
       " 'bag',\n",
       " 'bait',\n",
       " 'balance',\n",
       " 'ball',\n",
       " 'balloon',\n",
       " 'banana',\n",
       " 'band',\n",
       " 'base',\n",
       " 'baseball',\n",
       " 'basket',\n",
       " 'basketball',\n",
       " 'bat',\n",
       " 'bath',\n",
       " 'battle',\n",
       " 'bead',\n",
       " 'beam',\n",
       " 'bean',\n",
       " 'bear',\n",
       " 'beast',\n",
       " 'bed',\n",
       " 'bedroom',\n",
       " 'bee',\n",
       " 'beef',\n",
       " 'beetle',\n",
       " 'beggar',\n",
       " 'beginner',\n",
       " 'behavior',\n",
       " 'belief',\n",
       " 'believe',\n",
       " 'bell',\n",
       " 'berry',\n",
       " 'bike',\n",
       " 'bird',\n",
       " 'birth',\n",
       " 'birthday',\n",
       " 'bit',\n",
       " 'bite',\n",
       " 'blade',\n",
       " 'blood',\n",
       " 'blow',\n",
       " 'board',\n",
       " 'boat',\n",
       " 'body',\n",
       " 'bomb',\n",
       " 'bone',\n",
       " 'book',\n",
       " 'boot',\n",
       " 'border',\n",
       " 'bottle',\n",
       " 'boundary',\n",
       " 'box',\n",
       " 'boy',\n",
       " 'brain',\n",
       " 'brake',\n",
       " 'branch',\n",
       " 'brass',\n",
       " 'bread',\n",
       " 'breakfast',\n",
       " 'breath',\n",
       " 'brick',\n",
       " 'bridge',\n",
       " 'brother',\n",
       " 'brush',\n",
       " 'bubble',\n",
       " 'bucket',\n",
       " 'building',\n",
       " 'bulb',\n",
       " 'bun',\n",
       " 'burn',\n",
       " 'burst',\n",
       " 'business',\n",
       " 'butto',\n",
       " 'cabbage',\n",
       " 'cable',\n",
       " 'cactus',\n",
       " 'cake',\n",
       " 'cakes',\n",
       " 'calculator',\n",
       " 'calendar',\n",
       " 'camera',\n",
       " 'camp',\n",
       " 'can',\n",
       " 'cannon',\n",
       " 'canvas',\n",
       " 'cap',\n",
       " 'caption',\n",
       " 'car',\n",
       " 'card',\n",
       " 'carpenter',\n",
       " 'carriage',\n",
       " 'cart',\n",
       " 'cast',\n",
       " 'cat',\n",
       " 'cattle',\n",
       " 'cause',\n",
       " 'cave',\n",
       " 'celery',\n",
       " 'cellar',\n",
       " 'cemetery',\n",
       " 'cent',\n",
       " 'chain',\n",
       " 'chair',\n",
       " 'chalk',\n",
       " 'chance',\n",
       " 'change',\n",
       " 'channel',\n",
       " 'cheese',\n",
       " 'cherry',\n",
       " 'chess',\n",
       " 'chicken',\n",
       " 'children',\n",
       " 'chin',\n",
       " 'church',\n",
       " 'circle',\n",
       " 'clam',\n",
       " 'clock',\n",
       " 'cloth',\n",
       " 'cloud',\n",
       " 'clover',\n",
       " 'club',\n",
       " 'coach',\n",
       " 'coal',\n",
       " 'coast',\n",
       " 'coat',\n",
       " 'cobweb',\n",
       " 'coil',\n",
       " 'collar',\n",
       " 'color',\n",
       " 'comb',\n",
       " 'comfort',\n",
       " 'committee',\n",
       " 'company',\n",
       " 'competition',\n",
       " 'condition',\n",
       " 'connection',\n",
       " 'control',\n",
       " 'cook',\n",
       " 'copper',\n",
       " 'copy',\n",
       " 'cord',\n",
       " 'cork',\n",
       " 'corn',\n",
       " 'cough',\n",
       " 'country',\n",
       " 'cover',\n",
       " 'cow',\n",
       " 'crack',\n",
       " 'cracker',\n",
       " 'crate',\n",
       " 'crayon',\n",
       " 'cream',\n",
       " 'creator',\n",
       " 'creature',\n",
       " 'credit',\n",
       " 'crib',\n",
       " 'crime',\n",
       " 'crook',\n",
       " 'crow',\n",
       " 'crowd',\n",
       " 'crown',\n",
       " 'crush',\n",
       " 'cry',\n",
       " 'cub',\n",
       " 'cup',\n",
       " 'current',\n",
       " 'curtain',\n",
       " 'curve',\n",
       " 'cushion',\n",
       " 'dad',\n",
       " 'daughter',\n",
       " 'day',\n",
       " 'death',\n",
       " 'debt',\n",
       " 'decision',\n",
       " 'deer',\n",
       " 'degree',\n",
       " 'design',\n",
       " 'desire',\n",
       " 'desk',\n",
       " 'destruction',\n",
       " 'detail',\n",
       " 'development',\n",
       " 'digestion',\n",
       " 'dime',\n",
       " 'dinner',\n",
       " 'dinosaurs',\n",
       " 'direction',\n",
       " 'dirt',\n",
       " 'discovery',\n",
       " 'discussion',\n",
       " 'disease',\n",
       " 'disgust',\n",
       " 'distance',\n",
       " 'distribution',\n",
       " 'division',\n",
       " 'dock',\n",
       " 'doctor',\n",
       " 'dog',\n",
       " 'dogs',\n",
       " 'doll',\n",
       " 'donkey',\n",
       " 'door',\n",
       " 'downtown',\n",
       " 'drain',\n",
       " 'drawer',\n",
       " 'dress',\n",
       " 'drink',\n",
       " 'driving',\n",
       " 'drop',\n",
       " 'drug',\n",
       " 'drum',\n",
       " 'duck',\n",
       " 'dust']"
      ]
     },
     "execution_count": 50,
     "metadata": {},
     "output_type": "execute_result"
    }
   ],
   "source": [
    "from urllib.request import urlopen\n",
    "url = \"http://learncodethehardway.org/words.txt\"\n",
    "words = []\n",
    "for word in urlopen(url).readlines():\n",
    "    words.append(str(word.strip(),encoding = 'utf-8'))\n",
    "words"
   ]
  },
  {
   "cell_type": "code",
   "execution_count": 51,
   "metadata": {
    "collapsed": false
   },
   "outputs": [
    {
     "data": {
      "text/plain": [
       "['account',\n",
       " 'achiever',\n",
       " 'actor',\n",
       " 'addition',\n",
       " 'adjustment',\n",
       " 'advertisement',\n",
       " 'advice',\n",
       " 'aftermath',\n",
       " 'agreement',\n",
       " 'airplane',\n",
       " 'airport',\n",
       " 'alarm',\n",
       " 'amount',\n",
       " 'amusement',\n",
       " 'angle',\n",
       " 'animal',\n",
       " 'answer',\n",
       " 'ant',\n",
       " 'apparatus',\n",
       " 'apparel',\n",
       " 'apple',\n",
       " 'appliance',\n",
       " 'approval',\n",
       " 'arch',\n",
       " 'argument',\n",
       " 'arithmetic',\n",
       " 'arm',\n",
       " 'army',\n",
       " 'art',\n",
       " 'attack',\n",
       " 'attempt',\n",
       " 'attention',\n",
       " 'attraction',\n",
       " 'aunt',\n",
       " 'authority',\n",
       " 'baby',\n",
       " 'back',\n",
       " 'badge',\n",
       " 'bag',\n",
       " 'bait',\n",
       " 'balance',\n",
       " 'ball',\n",
       " 'balloon',\n",
       " 'banana',\n",
       " 'band',\n",
       " 'base',\n",
       " 'baseball',\n",
       " 'basket',\n",
       " 'basketball',\n",
       " 'bat',\n",
       " 'bath',\n",
       " 'battle',\n",
       " 'bead',\n",
       " 'beam',\n",
       " 'bean',\n",
       " 'bear',\n",
       " 'beast',\n",
       " 'bed',\n",
       " 'bedroom',\n",
       " 'bee',\n",
       " 'beef',\n",
       " 'beetle',\n",
       " 'beggar',\n",
       " 'beginner',\n",
       " 'behavior',\n",
       " 'belief',\n",
       " 'believe',\n",
       " 'bell',\n",
       " 'berry',\n",
       " 'bike',\n",
       " 'bird',\n",
       " 'birth',\n",
       " 'birthday',\n",
       " 'bit',\n",
       " 'bite',\n",
       " 'blade',\n",
       " 'blood',\n",
       " 'blow',\n",
       " 'board',\n",
       " 'boat',\n",
       " 'body',\n",
       " 'bomb',\n",
       " 'bone',\n",
       " 'book',\n",
       " 'boot',\n",
       " 'border',\n",
       " 'bottle',\n",
       " 'boundary',\n",
       " 'box',\n",
       " 'boy',\n",
       " 'brain',\n",
       " 'brake',\n",
       " 'branch',\n",
       " 'brass',\n",
       " 'bread',\n",
       " 'breakfast',\n",
       " 'breath',\n",
       " 'brick',\n",
       " 'bridge',\n",
       " 'brother',\n",
       " 'brush',\n",
       " 'bubble',\n",
       " 'bucket',\n",
       " 'building',\n",
       " 'bulb',\n",
       " 'bun',\n",
       " 'burn',\n",
       " 'burst',\n",
       " 'business',\n",
       " 'butto',\n",
       " 'cabbage',\n",
       " 'cable',\n",
       " 'cactus',\n",
       " 'cake',\n",
       " 'cakes',\n",
       " 'calculator',\n",
       " 'calendar',\n",
       " 'camera',\n",
       " 'camp',\n",
       " 'can',\n",
       " 'cannon',\n",
       " 'canvas',\n",
       " 'cap',\n",
       " 'caption',\n",
       " 'car',\n",
       " 'card',\n",
       " 'carpenter',\n",
       " 'carriage',\n",
       " 'cart',\n",
       " 'cast',\n",
       " 'cat',\n",
       " 'cattle',\n",
       " 'cause',\n",
       " 'cave',\n",
       " 'celery',\n",
       " 'cellar',\n",
       " 'cemetery',\n",
       " 'cent',\n",
       " 'chain',\n",
       " 'chair',\n",
       " 'chalk',\n",
       " 'chance',\n",
       " 'change',\n",
       " 'channel',\n",
       " 'cheese',\n",
       " 'cherry',\n",
       " 'chess',\n",
       " 'chicken',\n",
       " 'children',\n",
       " 'chin',\n",
       " 'church',\n",
       " 'circle',\n",
       " 'clam',\n",
       " 'clock',\n",
       " 'cloth',\n",
       " 'cloud',\n",
       " 'clover',\n",
       " 'club',\n",
       " 'coach',\n",
       " 'coal',\n",
       " 'coast',\n",
       " 'coat',\n",
       " 'cobweb',\n",
       " 'coil',\n",
       " 'collar',\n",
       " 'color',\n",
       " 'comb',\n",
       " 'comfort',\n",
       " 'committee',\n",
       " 'company',\n",
       " 'competition',\n",
       " 'condition',\n",
       " 'connection',\n",
       " 'control',\n",
       " 'cook',\n",
       " 'copper',\n",
       " 'copy',\n",
       " 'cord',\n",
       " 'cork',\n",
       " 'corn',\n",
       " 'cough',\n",
       " 'country',\n",
       " 'cover',\n",
       " 'cow',\n",
       " 'crack',\n",
       " 'cracker',\n",
       " 'crate',\n",
       " 'crayon',\n",
       " 'cream',\n",
       " 'creator',\n",
       " 'creature',\n",
       " 'credit',\n",
       " 'crib',\n",
       " 'crime',\n",
       " 'crook',\n",
       " 'crow',\n",
       " 'crowd',\n",
       " 'crown',\n",
       " 'crush',\n",
       " 'cry',\n",
       " 'cub',\n",
       " 'cup',\n",
       " 'current',\n",
       " 'curtain',\n",
       " 'curve',\n",
       " 'cushion',\n",
       " 'dad',\n",
       " 'daughter',\n",
       " 'day',\n",
       " 'death',\n",
       " 'debt',\n",
       " 'decision',\n",
       " 'deer',\n",
       " 'degree',\n",
       " 'design',\n",
       " 'desire',\n",
       " 'desk',\n",
       " 'destruction',\n",
       " 'detail',\n",
       " 'development',\n",
       " 'digestion',\n",
       " 'dime',\n",
       " 'dinner',\n",
       " 'dinosaurs',\n",
       " 'direction',\n",
       " 'dirt',\n",
       " 'discovery',\n",
       " 'discussion',\n",
       " 'disease',\n",
       " 'disgust',\n",
       " 'distance',\n",
       " 'distribution',\n",
       " 'division',\n",
       " 'dock',\n",
       " 'doctor',\n",
       " 'dog',\n",
       " 'dogs',\n",
       " 'doll',\n",
       " 'donkey',\n",
       " 'door',\n",
       " 'downtown',\n",
       " 'drain',\n",
       " 'drawer',\n",
       " 'dress',\n",
       " 'drink',\n",
       " 'driving',\n",
       " 'drop',\n",
       " 'drug',\n",
       " 'drum',\n",
       " 'duck',\n",
       " 'dust']"
      ]
     },
     "execution_count": 51,
     "metadata": {},
     "output_type": "execute_result"
    }
   ],
   "source": [
    "word_list = words[:]    #means copy\n",
    "word_list"
   ]
  },
  {
   "cell_type": "markdown",
   "metadata": {},
   "source": [
    "## is-a,has-a"
   ]
  },
  {
   "cell_type": "code",
   "execution_count": 55,
   "metadata": {
    "collapsed": false
   },
   "outputs": [],
   "source": [
    "class Animal(object):\n",
    "    pass\n",
    "\n",
    "class Dog(Animal):\n",
    "    def __init__(self,name):\n",
    "        self.name = name\n",
    "        \n",
    "class Cat(Animal):\n",
    "    def __init__(self,name):\n",
    "        self.name = name\n",
    "\n",
    "class Person(object):\n",
    "    def __init__(self,name):\n",
    "        self.name = name\n",
    "        self.pet = None\n",
    "        \n",
    "class Employee(Person):\n",
    "    def __init__(self,name,salary):\n",
    "        super(Employee,self).__init__(name)\n",
    "        self.salary = salary\n",
    "        \n",
    "class Fish(object):\n",
    "    pass\n",
    "\n",
    "class Salmon(object):\n",
    "    pass\n",
    "\n",
    "class Halibut(object):\n",
    "    pass\n",
    "\n",
    "rover = Dog(\"Rover\")\n",
    "satan = Cat(\"Satan\")\n",
    "mary = Person(\"Mary\")\n",
    "\n",
    "mary.pet = satan\n",
    "frank = Employee(\"Frank\",120000)\n",
    "\n",
    "frank.pet = rover\n",
    "flipper = Fish()\n",
    "crouse = Salmon()\n",
    "harry = Halibut()\n",
    "        "
   ]
  },
  {
   "cell_type": "markdown",
   "metadata": {},
   "source": [
    "# csv "
   ]
  },
  {
   "cell_type": "code",
   "execution_count": 70,
   "metadata": {
    "collapsed": false
   },
   "outputs": [
    {
     "data": {
      "text/plain": [
       "[['a', 'b', 'c', 'd', 'message\\n'],\n",
       " ['1', '2', '3', '4', 'hello\\n'],\n",
       " ['5', '6', '7', '8', 'world\\n'],\n",
       " ['9', '10', '11', '12', 'foo']]"
      ]
     },
     "execution_count": 70,
     "metadata": {},
     "output_type": "execute_result"
    }
   ],
   "source": [
    "data = []\n",
    "with open(\"ex1.csv\") as f:\n",
    "    for i in f:\n",
    "        row = i.split(',')\n",
    "        data.append(row)\n",
    "data"
   ]
  },
  {
   "cell_type": "markdown",
   "metadata": {},
   "source": [
    "[reader_writer](https://datartisan.gitbooks.io/begining-text-mining-with-python/content/%E7%AC%AC3%E7%AB%A0%20%E6%96%87%E6%9C%AC%E6%95%B0%E6%8D%AE%E6%9D%A5%E6%BA%90/3.4%20%E8%AF%BB%E5%86%99%E6%96%87%E6%9C%AC%E6%95%B0%E6%8D%AE.html)"
   ]
  },
  {
   "cell_type": "markdown",
   "metadata": {},
   "source": [
    "## reader"
   ]
  },
  {
   "cell_type": "markdown",
   "metadata": {},
   "source": [
    "```\n",
    "reader 函数可以遍历给定文件的每一行，每一行都读取为一个字符串列表，最终返回一个 reader 对象，调用方法为：csv.reader(csvfile, dialect='excel', **fmtparams)\n",
    "\n",
    "参数说明：\n",
    "\n",
    "csvfile：需要处理的文件，必须是可迭代的对象，可以是 file 文件对象或者 list 列表对象，如果是 file 对象，要以二进制模式\"b\"打开。 dialect：可选参数，用于设定编码风格，默认为 excel 的风格，也就是用逗号分隔。另外，csv 模块也支持 excel-tab风格，也就是制表符(tab)分隔。其它的方式需要自行定义，此处不做详细说明。 fmtparam：格式化参数，用来覆盖之前 dialect 对象指定的编码风格。\n",
    "```"
   ]
  },
  {
   "cell_type": "code",
   "execution_count": 77,
   "metadata": {
    "collapsed": false
   },
   "outputs": [
    {
     "name": "stdout",
     "output_type": "stream",
     "text": [
      "['a', 'b', 'c', 'd', 'message']\n",
      "['1', '2', '3', '4', 'hello']\n",
      "['5', '6', '7', '8', 'world']\n",
      "['9', '10', '11', '12', 'foo']\n"
     ]
    }
   ],
   "source": [
    "import csv\n",
    "with open(\"ex1.csv\",\"r\") as cf:\n",
    "    rows = csv.reader(cf)\n",
    "    for row in rows:\n",
    "        print (row)"
   ]
  },
  {
   "cell_type": "markdown",
   "metadata": {},
   "source": [
    "## writer"
   ]
  },
  {
   "cell_type": "markdown",
   "metadata": {},
   "source": [
    "```\n",
    "writer 函数用于将待输入的数据转换为分隔的字符串并写入 csv 文件，返回一个 writer 对象，调用方式为：csv.writer(csvfile, dialect='excel', **fmtparams)，参数解释说明参见上方 reader 函数参数说明。\n",
    "\n",
    "writer 对象有两个方法可以用于文件内容的写入：writerow 和 writerows，writerow 用于写入一行，writerows 用于写入多行。\n",
    "```"
   ]
  },
  {
   "cell_type": "code",
   "execution_count": 80,
   "metadata": {
    "collapsed": false
   },
   "outputs": [
    {
     "name": "stdout",
     "output_type": "stream",
     "text": [
      "['A', '12', '34']\n",
      "[]\n"
     ]
    }
   ],
   "source": [
    "with open(\"ex1.csv\",\"w\") as cf:\n",
    "    mywriter = csv.writer(cf)\n",
    "    mywriter.writerow([\"A\",\"12\",\"34\"])\n",
    "with open(\"ex1.csv\",\"r\") as cf:  \n",
    "    rows=csv.reader(cf)\n",
    "    for row in rows:  \n",
    "        print (row)"
   ]
  },
  {
   "cell_type": "code",
   "execution_count": 82,
   "metadata": {
    "collapsed": false
   },
   "outputs": [
    {
     "name": "stdout",
     "output_type": "stream",
     "text": [
      "['A', '12', '34']\n",
      "[]\n",
      "['B', '13', '35']\n",
      "[]\n"
     ]
    }
   ],
   "source": [
    "with open(\"ex1.csv\",\"w\") as cf:\n",
    "    mywriter = csv.writer(cf)\n",
    "    mywriter.writerows([[\"A\",\"12\",\"34\"],[\"B\",\"13\",\"35\"]])\n",
    "with open(\"ex1.csv\",\"r\") as cf:  \n",
    "    rows=csv.reader(cf)\n",
    "    for row in rows:  \n",
    "        print (row)"
   ]
  },
  {
   "cell_type": "markdown",
   "metadata": {},
   "source": [
    "# 常用python标准库模块"
   ]
  },
  {
   "cell_type": "markdown",
   "metadata": {},
   "source": [
    "## time"
   ]
  },
  {
   "cell_type": "code",
   "execution_count": 34,
   "metadata": {
    "collapsed": false
   },
   "outputs": [
    {
     "data": {
      "text/plain": [
       "1498875566.7935061"
      ]
     },
     "execution_count": 34,
     "metadata": {},
     "output_type": "execute_result"
    }
   ],
   "source": [
    "import time\n",
    "time.time()"
   ]
  },
  {
   "cell_type": "code",
   "execution_count": 35,
   "metadata": {
    "collapsed": false
   },
   "outputs": [
    {
     "data": {
      "text/plain": [
       "time.struct_time(tm_year=2017, tm_mon=7, tm_mday=1, tm_hour=10, tm_min=19, tm_sec=49, tm_wday=5, tm_yday=182, tm_isdst=0)"
      ]
     },
     "execution_count": 35,
     "metadata": {},
     "output_type": "execute_result"
    }
   ],
   "source": [
    "time.localtime()"
   ]
  },
  {
   "cell_type": "code",
   "execution_count": 36,
   "metadata": {
    "collapsed": false
   },
   "outputs": [
    {
     "data": {
      "text/plain": [
       "'Sat Jul  1 10:20:06 2017'"
      ]
     },
     "execution_count": 36,
     "metadata": {},
     "output_type": "execute_result"
    }
   ],
   "source": [
    "time.asctime()"
   ]
  },
  {
   "cell_type": "code",
   "execution_count": 39,
   "metadata": {
    "collapsed": false
   },
   "outputs": [
    {
     "data": {
      "text/plain": [
       "'2017-07-01 10:20:46'"
      ]
     },
     "execution_count": 39,
     "metadata": {},
     "output_type": "execute_result"
    }
   ],
   "source": [
    "time.strftime(\"%Y-%m-%d %H:%M:%S\",time.localtime())"
   ]
  },
  {
   "cell_type": "markdown",
   "metadata": {},
   "source": [
    "## random"
   ]
  },
  {
   "cell_type": "markdown",
   "metadata": {},
   "source": [
    "### random"
   ]
  },
  {
   "cell_type": "markdown",
   "metadata": {},
   "source": [
    "函数 random() 返回 0~1 之间的伪随机数，调用方式为：random.random()"
   ]
  },
  {
   "cell_type": "code",
   "execution_count": 40,
   "metadata": {
    "collapsed": false
   },
   "outputs": [
    {
     "data": {
      "text/plain": [
       "0.646982439758062"
      ]
     },
     "execution_count": 40,
     "metadata": {},
     "output_type": "execute_result"
    }
   ],
   "source": [
    "import random\n",
    "random.random()"
   ]
  },
  {
   "cell_type": "markdown",
   "metadata": {},
   "source": [
    "### uniform"
   ]
  },
  {
   "cell_type": "markdown",
   "metadata": {},
   "source": [
    "函数 uniform() 返回指定区间的平均分布的随机实数，调用方式为：random.uniform(区间下限，区间上限)"
   ]
  },
  {
   "cell_type": "code",
   "execution_count": 41,
   "metadata": {
    "collapsed": false
   },
   "outputs": [
    {
     "data": {
      "text/plain": [
       "34.29647154443053"
      ]
     },
     "execution_count": 41,
     "metadata": {},
     "output_type": "execute_result"
    }
   ],
   "source": [
    "random.uniform(0,90)"
   ]
  },
  {
   "cell_type": "markdown",
   "metadata": {},
   "source": [
    "### choice"
   ]
  },
  {
   "cell_type": "markdown",
   "metadata": {},
   "source": [
    "函数 choice() 可以随机返回指定序列中的元素，调用方式为：random.choice(序列)"
   ]
  },
  {
   "cell_type": "code",
   "execution_count": 42,
   "metadata": {
    "collapsed": false
   },
   "outputs": [
    {
     "data": {
      "text/plain": [
       "2"
      ]
     },
     "execution_count": 42,
     "metadata": {},
     "output_type": "execute_result"
    }
   ],
   "source": [
    "random.choice([1,2,3,5])"
   ]
  },
  {
   "cell_type": "markdown",
   "metadata": {},
   "source": [
    "### sample"
   ]
  },
  {
   "cell_type": "markdown",
   "metadata": {},
   "source": [
    "函数 sample() 可以从指定序列中随机选择若干个不同元素，调用方式为：random.sample(序列，返回元素个数)"
   ]
  },
  {
   "cell_type": "code",
   "execution_count": 43,
   "metadata": {
    "collapsed": false
   },
   "outputs": [
    {
     "data": {
      "text/plain": [
       "[3, 2]"
      ]
     },
     "execution_count": 43,
     "metadata": {},
     "output_type": "execute_result"
    }
   ],
   "source": [
    "random.sample([1,2,3],2)"
   ]
  },
  {
   "cell_type": "markdown",
   "metadata": {},
   "source": [
    "## collections"
   ]
  },
  {
   "cell_type": "markdown",
   "metadata": {},
   "source": [
    "collections提供了额外的特殊数据结构 container ，可以简单翻译为 容器数据结构，该模块中定义了 Counter、Hashable、Mapping、MutableSet 等类，其中 Counter 是一个非常常用的计数器，可以用于计算序列中元素出现的次数，其返回值以字典结构存在，字典中键即为元素，值对应元素出现的次数，所以常用的字典方法也适用于 Counter 类对象。Counter 类实例化方式为：实例=Counter(序列或其他可迭代对象)"
   ]
  },
  {
   "cell_type": "markdown",
   "metadata": {},
   "source": [
    "### Counter"
   ]
  },
  {
   "cell_type": "code",
   "execution_count": 44,
   "metadata": {
    "collapsed": false
   },
   "outputs": [
    {
     "name": "stdout",
     "output_type": "stream",
     "text": [
      "Counter({'t': 4, ' ': 3, 'i': 3, 'n': 3, 'h': 2, 'e': 1, 'x': 1, 'm': 1, 'g': 1, 'w': 1, 'p': 1, 'y': 1, 'o': 1})\n"
     ]
    }
   ],
   "source": [
    "from collections import Counter\n",
    "c = Counter(\"text mining with python\")\n",
    "print(c)"
   ]
  },
  {
   "cell_type": "code",
   "execution_count": 45,
   "metadata": {
    "collapsed": false
   },
   "outputs": [
    {
     "data": {
      "text/plain": [
       "Counter({1: 2, 2: 2, 3: 2, 4: 1})"
      ]
     },
     "execution_count": 45,
     "metadata": {},
     "output_type": "execute_result"
    }
   ],
   "source": [
    "Counter([1,2,3,4,3,2,1])"
   ]
  },
  {
   "cell_type": "markdown",
   "metadata": {},
   "source": [
    "### elements"
   ]
  },
  {
   "cell_type": "markdown",
   "metadata": {},
   "source": [
    "elements 方法可以按照 Counter 实例中各个元素出现的次数连续重复列举所有的元素，调用方式为：实例.elements()"
   ]
  },
  {
   "cell_type": "code",
   "execution_count": 48,
   "metadata": {
    "collapsed": false
   },
   "outputs": [
    {
     "data": {
      "text/plain": [
       "[1, 1, 2, 2, 3, 3, 4]"
      ]
     },
     "execution_count": 48,
     "metadata": {},
     "output_type": "execute_result"
    }
   ],
   "source": [
    "c = Counter([1,2,3,4,3,2,1])\n",
    "list(c.elements())"
   ]
  },
  {
   "cell_type": "markdown",
   "metadata": {},
   "source": [
    "### most_common"
   ]
  },
  {
   "cell_type": "markdown",
   "metadata": {},
   "source": [
    "most_common 方法可以计算 Counter 实例中各个元素出现的次数，并按照出现次数从大到小的顺序返回，调用方式为：实例.most_common(n)，其中参数 n 表示出现次数最多的前 n 个元素"
   ]
  },
  {
   "cell_type": "code",
   "execution_count": 49,
   "metadata": {
    "collapsed": false
   },
   "outputs": [
    {
     "data": {
      "text/plain": [
       "[('t', 4), (' ', 3), ('i', 3)]"
      ]
     },
     "execution_count": 49,
     "metadata": {},
     "output_type": "execute_result"
    }
   ],
   "source": [
    "Counter(\"text mining with python\").most_common(3)"
   ]
  },
  {
   "cell_type": "markdown",
   "metadata": {},
   "source": [
    "### subtract"
   ]
  },
  {
   "cell_type": "markdown",
   "metadata": {},
   "source": [
    "subtract 方法可以对两个 Counter 实例进行减法运算，即对元素出现的次数相减，对于未出现的元素会出现计数为负数的情况。调用方式为：实例1.subtract(实例2)"
   ]
  },
  {
   "cell_type": "code",
   "execution_count": 52,
   "metadata": {
    "collapsed": false
   },
   "outputs": [
    {
     "data": {
      "text/plain": [
       "Counter({1: -1, 2: 1, 3: 2, 't': -1})"
      ]
     },
     "execution_count": 52,
     "metadata": {},
     "output_type": "execute_result"
    }
   ],
   "source": [
    "a = Counter([1,2,3,3,2])\n",
    "b = Counter([1,1,2,\"t\"])\n",
    "a.subtract(b)\n",
    "a"
   ]
  },
  {
   "cell_type": "code",
   "execution_count": null,
   "metadata": {
    "collapsed": true
   },
   "outputs": [],
   "source": []
  }
 ],
 "metadata": {
  "kernelspec": {
   "display_name": "Python 3",
   "language": "python",
   "name": "python3"
  },
  "language_info": {
   "codemirror_mode": {
    "name": "ipython",
    "version": 3
   },
   "file_extension": ".py",
   "mimetype": "text/x-python",
   "name": "python",
   "nbconvert_exporter": "python",
   "pygments_lexer": "ipython3",
   "version": "3.6.0"
  },
  "latex_envs": {
   "LaTeX_envs_menu_present": true,
   "autocomplete": true,
   "bibliofile": "biblio.bib",
   "cite_by": "apalike",
   "current_citInitial": 1,
   "eqLabelWithNumbers": true,
   "eqNumInitial": 1,
   "hotkeys": {
    "equation": "Ctrl-E",
    "itemize": "Ctrl-I"
   },
   "labels_anchors": false,
   "latex_user_defs": false,
   "report_style_numbering": false,
   "user_envs_cfg": false
  },
  "toc": {
   "colors": {
    "hover_highlight": "#DAA520",
    "running_highlight": "#FF0000",
    "selected_highlight": "#FFD700"
   },
   "moveMenuLeft": true,
   "nav_menu": {
    "height": "12px",
    "width": "252px"
   },
   "navigate_menu": true,
   "number_sections": true,
   "sideBar": true,
   "threshold": 4,
   "toc_cell": false,
   "toc_position": {
    "height": "1167px",
    "left": "0px",
    "right": "1473.26px",
    "top": "127px",
    "width": "292px"
   },
   "toc_section_display": "block",
   "toc_window_display": true,
   "widenNotebook": false
  }
 },
 "nbformat": 4,
 "nbformat_minor": 2
}
